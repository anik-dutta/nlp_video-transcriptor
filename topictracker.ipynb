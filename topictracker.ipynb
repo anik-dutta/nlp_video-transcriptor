{
 "cells": [
  {
   "cell_type": "markdown",
   "metadata": {},
   "source": [
    "\n",
    "\n",
    "### Business scenario\n",
    "\n",
    "You work for a training organization that recently developed an introductory course about machine learning (ML). The course includes more than 40 videos that cover a broad range of ML topics. You have been asked to create an application that will students can use to quickly locate and view video content by searching for topics and key phrases.\n",
    "\n",
    "You have downloaded all of the videos to an Amazon Simple Storage Service (Amazon S3) bucket. Your assignment is to produce a dashboard that meets your supervisor’s requirements."
   ]
  },
  {
   "cell_type": "markdown",
   "metadata": {},
   "source": [
    "## Project steps\n",
    "\n",
    "To complete this project the required steps are:\n",
    "\n",
    "1. [Viewing the video files](#1.-Viewing-the-video-files)\n",
    "2. [Transcribing the videos](#2.-Transcribing-the-videos)\n",
    "3. [Normalizing the text](#3.-Normalizing-the-text)\n",
    "4. [Extracting key phrases and topics](#4.-Extracting-key-phrases-and-topics)\n",
    "5. [Creating the dashboard](#5.-Creating-the-dashboard)"
   ]
  },
  {
   "cell_type": "code",
   "execution_count": 1,
   "metadata": {},
   "outputs": [],
   "source": [
    "from dotenv import load_dotenv\n",
    "import os\n",
    "\n",
    "# Load environment variables from .env file\n",
    "load_dotenv()\n",
    "\n",
    "# Access the environment variables\n",
    "bucket = os.getenv(\"BUCKET\")\n",
    "job_data_access_role = os.getenv(\"JOB_DATA_ACCESS_ROLE\")\n",
    "source_bucket = os.getenv(\"SOURCE_BUCKET\")\n",
    "source_prefix = os.getenv(\"SOURCE_PREFIX\")"
   ]
  },
  {
   "cell_type": "markdown",
   "metadata": {},
   "source": [
    "## 1. Viewing the video files\n",
    "([Go to top](#Capstone-8:-Bringing-It-All-Together))\n"
   ]
  },
  {
   "cell_type": "markdown",
   "metadata": {},
   "source": [
    "The source video files are located in the following shared Amazon Simple Storage Service (Amazon S3) bucket."
   ]
  },
  {
   "cell_type": "code",
   "execution_count": 2,
   "metadata": {},
   "outputs": [
    {
     "name": "stdout",
     "output_type": "stream",
     "text": [
      "2021-04-26 20:17:33  410925369 Mod01_Course Overview.mp4\n",
      "2021-04-26 20:10:02   39576695 Mod02_Intro.mp4\n",
      "2021-04-26 20:31:23  302994828 Mod02_Sect01.mp4\n",
      "2021-04-26 20:17:33  416563881 Mod02_Sect02.mp4\n",
      "2021-04-26 20:17:33  318685583 Mod02_Sect03.mp4\n",
      "2021-04-26 20:17:33  255877251 Mod02_Sect04.mp4\n",
      "2021-04-26 20:23:51   99988046 Mod02_Sect05.mp4\n",
      "2021-04-26 20:24:54   50700224 Mod02_WrapUp.mp4\n",
      "2021-04-26 20:26:27   60627667 Mod03_Intro.mp4\n",
      "2021-04-26 20:26:28  272229844 Mod03_Sect01.mp4\n",
      "2021-04-26 20:27:06  309127124 Mod03_Sect02_part1.mp4\n",
      "2021-04-26 20:27:06  195635527 Mod03_Sect02_part2.mp4\n",
      "2021-04-26 20:28:03  123924818 Mod03_Sect02_part3.mp4\n",
      "2021-04-26 20:31:28  171681915 Mod03_Sect03_part1.mp4\n",
      "2021-04-26 20:32:07  285200083 Mod03_Sect03_part2.mp4\n",
      "2021-04-26 20:33:17  105470345 Mod03_Sect03_part3.mp4\n",
      "2021-04-26 20:35:10  157185651 Mod03_Sect04_part1.mp4\n",
      "2021-04-26 20:36:27  187435635 Mod03_Sect04_part2.mp4\n",
      "2021-04-26 20:36:40  280720369 Mod03_Sect04_part3.mp4\n",
      "2021-04-26 20:40:01  443479313 Mod03_Sect05.mp4\n",
      "2021-04-26 20:40:08  234182186 Mod03_Sect06.mp4\n",
      "2021-04-26 20:40:33  207718047 Mod03_Sect07_part1.mp4\n",
      "2021-04-26 20:42:07  125592110 Mod03_Sect07_part2.mp4\n",
      "2021-04-26 20:45:10  508500301 Mod03_Sect07_part3.mp4\n",
      "2021-04-26 20:46:16  320126756 Mod03_Sect08.mp4\n",
      "2021-04-26 20:46:43   41839508 Mod03_WrapUp.mp4\n",
      "2021-04-26 20:46:55   34148489 Mod04_Intro.mp4\n",
      "2021-04-26 20:48:24   84959465 Mod04_Sect01.mp4\n",
      "2021-04-26 20:48:25  345182970 Mod04_Sect02_part1.mp4\n",
      "2021-04-26 20:51:34  218661651 Mod04_Sect02_part2.mp4\n",
      "2021-04-26 20:53:32  430140637 Mod04_Sect02_part3.mp4\n",
      "2021-04-26 20:56:03   22036605 Mod04_WrapUp.mp4\n",
      "2021-04-26 20:57:18   49187118 Mod05_Intro.mp4\n",
      "2021-04-26 20:58:19  245798071 Mod05_Sect01_ver2.mp4\n",
      "2021-04-26 20:58:50  233314835 Mod05_Sect02_part1_ver2.mp4\n",
      "2021-04-26 20:59:14  348545306 Mod05_Sect02_part2.mp4\n",
      "2021-04-26 20:59:17  239142711 Mod05_Sect03_part1.mp4\n",
      "2021-04-26 21:06:04  267533559 Mod05_Sect03_part2.mp4\n",
      "2021-04-26 21:06:06  212502220 Mod05_Sect03_part3.mp4\n",
      "2021-04-26 21:06:48  206317022 Mod05_Sect03_part4_ver2.mp4\n",
      "2021-04-26 21:06:48   60361230 Mod05_WrapUp_ver2.mp4\n",
      "2021-04-26 21:09:14   35397860 Mod06_Intro.mp4\n",
      "2021-04-26 21:09:24  845633599 Mod06_Sect01.mp4\n",
      "2021-04-26 21:10:47  326126684 Mod06_Sect02.mp4\n",
      "2021-04-26 21:12:26   19790740 Mod06_WrapUp.mp4\n",
      "2021-04-26 21:12:56  131249036 Mod07_Sect01.mp4\n"
     ]
    }
   ],
   "source": [
    "!aws s3 ls s3://{source_bucket}/{source_prefix}"
   ]
  },
  {
   "cell_type": "markdown",
   "metadata": {},
   "source": [
    "## 2. Transcribing the videos\n",
    " ([Go to top](#Capstone-8:-Bringing-It-All-Together))\n",
    "\n",
    "Use this section to implement your solution to transcribe the videos. "
   ]
  },
  {
   "cell_type": "code",
   "execution_count": 3,
   "metadata": {},
   "outputs": [
    {
     "name": "stdout",
     "output_type": "stream",
     "text": [
      "Requirement already satisfied: pip in /home/ec2-user/anaconda3/envs/pytorch_p310/lib/python3.10/site-packages (24.0)\n",
      "Requirement already satisfied: moviepy in /home/ec2-user/anaconda3/envs/pytorch_p310/lib/python3.10/site-packages (1.0.3)\n",
      "Requirement already satisfied: torch in /home/ec2-user/anaconda3/envs/pytorch_p310/lib/python3.10/site-packages (2.1.0)\n",
      "Requirement already satisfied: transformers in /home/ec2-user/anaconda3/envs/pytorch_p310/lib/python3.10/site-packages (4.40.0.dev0)\n",
      "Requirement already satisfied: decorator<5.0,>=4.0.2 in /home/ec2-user/anaconda3/envs/pytorch_p310/lib/python3.10/site-packages (from moviepy) (4.4.2)\n",
      "Requirement already satisfied: tqdm<5.0,>=4.11.2 in /home/ec2-user/anaconda3/envs/pytorch_p310/lib/python3.10/site-packages (from moviepy) (4.66.2)\n",
      "Requirement already satisfied: requests<3.0,>=2.8.1 in /home/ec2-user/anaconda3/envs/pytorch_p310/lib/python3.10/site-packages (from moviepy) (2.31.0)\n",
      "Requirement already satisfied: proglog<=1.0.0 in /home/ec2-user/anaconda3/envs/pytorch_p310/lib/python3.10/site-packages (from moviepy) (0.1.10)\n",
      "Requirement already satisfied: numpy>=1.17.3 in /home/ec2-user/anaconda3/envs/pytorch_p310/lib/python3.10/site-packages (from moviepy) (1.26.4)\n",
      "Requirement already satisfied: imageio<3.0,>=2.5 in /home/ec2-user/anaconda3/envs/pytorch_p310/lib/python3.10/site-packages (from moviepy) (2.34.0)\n",
      "Requirement already satisfied: imageio-ffmpeg>=0.2.0 in /home/ec2-user/anaconda3/envs/pytorch_p310/lib/python3.10/site-packages (from moviepy) (0.4.9)\n",
      "Requirement already satisfied: filelock in /home/ec2-user/anaconda3/envs/pytorch_p310/lib/python3.10/site-packages (from torch) (3.13.1)\n",
      "Requirement already satisfied: typing-extensions in /home/ec2-user/anaconda3/envs/pytorch_p310/lib/python3.10/site-packages (from torch) (4.9.0)\n",
      "Requirement already satisfied: sympy in /home/ec2-user/anaconda3/envs/pytorch_p310/lib/python3.10/site-packages (from torch) (1.12)\n",
      "Requirement already satisfied: networkx in /home/ec2-user/anaconda3/envs/pytorch_p310/lib/python3.10/site-packages (from torch) (3.2.1)\n",
      "Requirement already satisfied: jinja2 in /home/ec2-user/anaconda3/envs/pytorch_p310/lib/python3.10/site-packages (from torch) (3.1.3)\n",
      "Requirement already satisfied: fsspec in /home/ec2-user/anaconda3/envs/pytorch_p310/lib/python3.10/site-packages (from torch) (2024.2.0)\n",
      "Requirement already satisfied: huggingface-hub<1.0,>=0.19.3 in /home/ec2-user/anaconda3/envs/pytorch_p310/lib/python3.10/site-packages (from transformers) (0.22.2)\n",
      "Requirement already satisfied: packaging>=20.0 in /home/ec2-user/anaconda3/envs/pytorch_p310/lib/python3.10/site-packages (from transformers) (21.3)\n",
      "Requirement already satisfied: pyyaml>=5.1 in /home/ec2-user/anaconda3/envs/pytorch_p310/lib/python3.10/site-packages (from transformers) (6.0.1)\n",
      "Requirement already satisfied: regex!=2019.12.17 in /home/ec2-user/anaconda3/envs/pytorch_p310/lib/python3.10/site-packages (from transformers) (2023.12.25)\n",
      "Requirement already satisfied: tokenizers<0.19,>=0.14 in /home/ec2-user/anaconda3/envs/pytorch_p310/lib/python3.10/site-packages (from transformers) (0.15.2)\n",
      "Requirement already satisfied: safetensors>=0.4.1 in /home/ec2-user/anaconda3/envs/pytorch_p310/lib/python3.10/site-packages (from transformers) (0.4.2)\n",
      "Requirement already satisfied: pillow>=8.3.2 in /home/ec2-user/anaconda3/envs/pytorch_p310/lib/python3.10/site-packages (from imageio<3.0,>=2.5->moviepy) (10.2.0)\n",
      "Requirement already satisfied: setuptools in /home/ec2-user/anaconda3/envs/pytorch_p310/lib/python3.10/site-packages (from imageio-ffmpeg>=0.2.0->moviepy) (69.1.0)\n",
      "Requirement already satisfied: pyparsing!=3.0.5,>=2.0.2 in /home/ec2-user/anaconda3/envs/pytorch_p310/lib/python3.10/site-packages (from packaging>=20.0->transformers) (3.1.1)\n",
      "Requirement already satisfied: charset-normalizer<4,>=2 in /home/ec2-user/anaconda3/envs/pytorch_p310/lib/python3.10/site-packages (from requests<3.0,>=2.8.1->moviepy) (3.3.2)\n",
      "Requirement already satisfied: idna<4,>=2.5 in /home/ec2-user/anaconda3/envs/pytorch_p310/lib/python3.10/site-packages (from requests<3.0,>=2.8.1->moviepy) (3.6)\n",
      "Requirement already satisfied: urllib3<3,>=1.21.1 in /home/ec2-user/anaconda3/envs/pytorch_p310/lib/python3.10/site-packages (from requests<3.0,>=2.8.1->moviepy) (2.0.7)\n",
      "Requirement already satisfied: certifi>=2017.4.17 in /home/ec2-user/anaconda3/envs/pytorch_p310/lib/python3.10/site-packages (from requests<3.0,>=2.8.1->moviepy) (2024.2.2)\n",
      "Requirement already satisfied: MarkupSafe>=2.0 in /home/ec2-user/anaconda3/envs/pytorch_p310/lib/python3.10/site-packages (from jinja2->torch) (2.1.5)\n",
      "Requirement already satisfied: mpmath>=0.19 in /home/ec2-user/anaconda3/envs/pytorch_p310/lib/python3.10/site-packages (from sympy->torch) (1.3.0)\n",
      "Collecting git+https://github.com/huggingface/transformers.git\n",
      "  Cloning https://github.com/huggingface/transformers.git to /tmp/pip-req-build-cu667638\n",
      "  Running command git clone --filter=blob:none --quiet https://github.com/huggingface/transformers.git /tmp/pip-req-build-cu667638\n",
      "  Resolved https://github.com/huggingface/transformers.git to commit b109257f4fb8b1166e7c53cc5418632014ed53a5\n",
      "  Installing build dependencies ... \u001b[?25ldone\n",
      "\u001b[?25h  Getting requirements to build wheel ... \u001b[?25ldone\n",
      "\u001b[?25h  Installing backend dependencies ... \u001b[?25ldone\n",
      "\u001b[?25h  Preparing metadata (pyproject.toml) ... \u001b[?25ldone\n",
      "\u001b[?25hRequirement already satisfied: accelerate in /home/ec2-user/anaconda3/envs/pytorch_p310/lib/python3.10/site-packages (0.29.2)\n",
      "Requirement already satisfied: filelock in /home/ec2-user/anaconda3/envs/pytorch_p310/lib/python3.10/site-packages (from transformers==4.40.0.dev0) (3.13.1)\n",
      "Requirement already satisfied: huggingface-hub<1.0,>=0.19.3 in /home/ec2-user/anaconda3/envs/pytorch_p310/lib/python3.10/site-packages (from transformers==4.40.0.dev0) (0.22.2)\n",
      "Requirement already satisfied: numpy>=1.17 in /home/ec2-user/anaconda3/envs/pytorch_p310/lib/python3.10/site-packages (from transformers==4.40.0.dev0) (1.26.4)\n",
      "Requirement already satisfied: packaging>=20.0 in /home/ec2-user/anaconda3/envs/pytorch_p310/lib/python3.10/site-packages (from transformers==4.40.0.dev0) (21.3)\n",
      "Requirement already satisfied: pyyaml>=5.1 in /home/ec2-user/anaconda3/envs/pytorch_p310/lib/python3.10/site-packages (from transformers==4.40.0.dev0) (6.0.1)\n",
      "Requirement already satisfied: regex!=2019.12.17 in /home/ec2-user/anaconda3/envs/pytorch_p310/lib/python3.10/site-packages (from transformers==4.40.0.dev0) (2023.12.25)\n",
      "Requirement already satisfied: requests in /home/ec2-user/anaconda3/envs/pytorch_p310/lib/python3.10/site-packages (from transformers==4.40.0.dev0) (2.31.0)\n",
      "Requirement already satisfied: tokenizers<0.19,>=0.14 in /home/ec2-user/anaconda3/envs/pytorch_p310/lib/python3.10/site-packages (from transformers==4.40.0.dev0) (0.15.2)\n",
      "Requirement already satisfied: safetensors>=0.4.1 in /home/ec2-user/anaconda3/envs/pytorch_p310/lib/python3.10/site-packages (from transformers==4.40.0.dev0) (0.4.2)\n",
      "Requirement already satisfied: tqdm>=4.27 in /home/ec2-user/anaconda3/envs/pytorch_p310/lib/python3.10/site-packages (from transformers==4.40.0.dev0) (4.66.2)\n",
      "Requirement already satisfied: psutil in /home/ec2-user/anaconda3/envs/pytorch_p310/lib/python3.10/site-packages (from accelerate) (5.9.8)\n",
      "Requirement already satisfied: torch>=1.10.0 in /home/ec2-user/anaconda3/envs/pytorch_p310/lib/python3.10/site-packages (from accelerate) (2.1.0)\n",
      "Requirement already satisfied: fsspec>=2023.5.0 in /home/ec2-user/anaconda3/envs/pytorch_p310/lib/python3.10/site-packages (from huggingface-hub<1.0,>=0.19.3->transformers==4.40.0.dev0) (2024.2.0)\n",
      "Requirement already satisfied: typing-extensions>=3.7.4.3 in /home/ec2-user/anaconda3/envs/pytorch_p310/lib/python3.10/site-packages (from huggingface-hub<1.0,>=0.19.3->transformers==4.40.0.dev0) (4.9.0)\n",
      "Requirement already satisfied: pyparsing!=3.0.5,>=2.0.2 in /home/ec2-user/anaconda3/envs/pytorch_p310/lib/python3.10/site-packages (from packaging>=20.0->transformers==4.40.0.dev0) (3.1.1)\n",
      "Requirement already satisfied: sympy in /home/ec2-user/anaconda3/envs/pytorch_p310/lib/python3.10/site-packages (from torch>=1.10.0->accelerate) (1.12)\n",
      "Requirement already satisfied: networkx in /home/ec2-user/anaconda3/envs/pytorch_p310/lib/python3.10/site-packages (from torch>=1.10.0->accelerate) (3.2.1)\n",
      "Requirement already satisfied: jinja2 in /home/ec2-user/anaconda3/envs/pytorch_p310/lib/python3.10/site-packages (from torch>=1.10.0->accelerate) (3.1.3)\n",
      "Requirement already satisfied: charset-normalizer<4,>=2 in /home/ec2-user/anaconda3/envs/pytorch_p310/lib/python3.10/site-packages (from requests->transformers==4.40.0.dev0) (3.3.2)\n",
      "Requirement already satisfied: idna<4,>=2.5 in /home/ec2-user/anaconda3/envs/pytorch_p310/lib/python3.10/site-packages (from requests->transformers==4.40.0.dev0) (3.6)\n",
      "Requirement already satisfied: urllib3<3,>=1.21.1 in /home/ec2-user/anaconda3/envs/pytorch_p310/lib/python3.10/site-packages (from requests->transformers==4.40.0.dev0) (2.0.7)\n",
      "Requirement already satisfied: certifi>=2017.4.17 in /home/ec2-user/anaconda3/envs/pytorch_p310/lib/python3.10/site-packages (from requests->transformers==4.40.0.dev0) (2024.2.2)\n",
      "Requirement already satisfied: MarkupSafe>=2.0 in /home/ec2-user/anaconda3/envs/pytorch_p310/lib/python3.10/site-packages (from jinja2->torch>=1.10.0->accelerate) (2.1.5)\n",
      "Requirement already satisfied: mpmath>=0.19 in /home/ec2-user/anaconda3/envs/pytorch_p310/lib/python3.10/site-packages (from sympy->torch>=1.10.0->accelerate) (1.3.0)\n",
      "Requirement already satisfied: nltk in /home/ec2-user/anaconda3/envs/pytorch_p310/lib/python3.10/site-packages (3.8.1)\n",
      "Requirement already satisfied: click in /home/ec2-user/anaconda3/envs/pytorch_p310/lib/python3.10/site-packages (from nltk) (8.1.7)\n",
      "Requirement already satisfied: joblib in /home/ec2-user/anaconda3/envs/pytorch_p310/lib/python3.10/site-packages (from nltk) (1.3.2)\n",
      "Requirement already satisfied: regex>=2021.8.3 in /home/ec2-user/anaconda3/envs/pytorch_p310/lib/python3.10/site-packages (from nltk) (2023.12.25)\n",
      "Requirement already satisfied: tqdm in /home/ec2-user/anaconda3/envs/pytorch_p310/lib/python3.10/site-packages (from nltk) (4.66.2)\n",
      "Requirement already satisfied: spacy in /home/ec2-user/anaconda3/envs/pytorch_p310/lib/python3.10/site-packages (3.7.4)\n",
      "Requirement already satisfied: spacy-legacy<3.1.0,>=3.0.11 in /home/ec2-user/anaconda3/envs/pytorch_p310/lib/python3.10/site-packages (from spacy) (3.0.12)\n",
      "Requirement already satisfied: spacy-loggers<2.0.0,>=1.0.0 in /home/ec2-user/anaconda3/envs/pytorch_p310/lib/python3.10/site-packages (from spacy) (1.0.5)\n",
      "Requirement already satisfied: murmurhash<1.1.0,>=0.28.0 in /home/ec2-user/anaconda3/envs/pytorch_p310/lib/python3.10/site-packages (from spacy) (1.0.10)\n",
      "Requirement already satisfied: cymem<2.1.0,>=2.0.2 in /home/ec2-user/anaconda3/envs/pytorch_p310/lib/python3.10/site-packages (from spacy) (2.0.8)\n",
      "Requirement already satisfied: preshed<3.1.0,>=3.0.2 in /home/ec2-user/anaconda3/envs/pytorch_p310/lib/python3.10/site-packages (from spacy) (3.0.9)\n",
      "Requirement already satisfied: thinc<8.3.0,>=8.2.2 in /home/ec2-user/anaconda3/envs/pytorch_p310/lib/python3.10/site-packages (from spacy) (8.2.3)\n",
      "Requirement already satisfied: wasabi<1.2.0,>=0.9.1 in /home/ec2-user/anaconda3/envs/pytorch_p310/lib/python3.10/site-packages (from spacy) (1.1.2)\n",
      "Requirement already satisfied: srsly<3.0.0,>=2.4.3 in /home/ec2-user/anaconda3/envs/pytorch_p310/lib/python3.10/site-packages (from spacy) (2.4.8)\n",
      "Requirement already satisfied: catalogue<2.1.0,>=2.0.6 in /home/ec2-user/anaconda3/envs/pytorch_p310/lib/python3.10/site-packages (from spacy) (2.0.10)\n",
      "Requirement already satisfied: weasel<0.4.0,>=0.1.0 in /home/ec2-user/anaconda3/envs/pytorch_p310/lib/python3.10/site-packages (from spacy) (0.3.4)\n",
      "Requirement already satisfied: typer<0.10.0,>=0.3.0 in /home/ec2-user/anaconda3/envs/pytorch_p310/lib/python3.10/site-packages (from spacy) (0.9.4)\n",
      "Requirement already satisfied: smart-open<7.0.0,>=5.2.1 in /home/ec2-user/anaconda3/envs/pytorch_p310/lib/python3.10/site-packages (from spacy) (6.4.0)\n",
      "Requirement already satisfied: tqdm<5.0.0,>=4.38.0 in /home/ec2-user/anaconda3/envs/pytorch_p310/lib/python3.10/site-packages (from spacy) (4.66.2)\n",
      "Requirement already satisfied: requests<3.0.0,>=2.13.0 in /home/ec2-user/anaconda3/envs/pytorch_p310/lib/python3.10/site-packages (from spacy) (2.31.0)\n",
      "Requirement already satisfied: pydantic!=1.8,!=1.8.1,<3.0.0,>=1.7.4 in /home/ec2-user/anaconda3/envs/pytorch_p310/lib/python3.10/site-packages (from spacy) (2.6.1)\n",
      "Requirement already satisfied: jinja2 in /home/ec2-user/anaconda3/envs/pytorch_p310/lib/python3.10/site-packages (from spacy) (3.1.3)\n",
      "Requirement already satisfied: setuptools in /home/ec2-user/anaconda3/envs/pytorch_p310/lib/python3.10/site-packages (from spacy) (69.1.0)\n",
      "Requirement already satisfied: packaging>=20.0 in /home/ec2-user/anaconda3/envs/pytorch_p310/lib/python3.10/site-packages (from spacy) (21.3)\n",
      "Requirement already satisfied: langcodes<4.0.0,>=3.2.0 in /home/ec2-user/anaconda3/envs/pytorch_p310/lib/python3.10/site-packages (from spacy) (3.3.0)\n",
      "Requirement already satisfied: numpy>=1.19.0 in /home/ec2-user/anaconda3/envs/pytorch_p310/lib/python3.10/site-packages (from spacy) (1.26.4)\n",
      "Requirement already satisfied: pyparsing!=3.0.5,>=2.0.2 in /home/ec2-user/anaconda3/envs/pytorch_p310/lib/python3.10/site-packages (from packaging>=20.0->spacy) (3.1.1)\n",
      "Requirement already satisfied: annotated-types>=0.4.0 in /home/ec2-user/anaconda3/envs/pytorch_p310/lib/python3.10/site-packages (from pydantic!=1.8,!=1.8.1,<3.0.0,>=1.7.4->spacy) (0.6.0)\n",
      "Requirement already satisfied: pydantic-core==2.16.2 in /home/ec2-user/anaconda3/envs/pytorch_p310/lib/python3.10/site-packages (from pydantic!=1.8,!=1.8.1,<3.0.0,>=1.7.4->spacy) (2.16.2)\n",
      "Requirement already satisfied: typing-extensions>=4.6.1 in /home/ec2-user/anaconda3/envs/pytorch_p310/lib/python3.10/site-packages (from pydantic!=1.8,!=1.8.1,<3.0.0,>=1.7.4->spacy) (4.9.0)\n",
      "Requirement already satisfied: charset-normalizer<4,>=2 in /home/ec2-user/anaconda3/envs/pytorch_p310/lib/python3.10/site-packages (from requests<3.0.0,>=2.13.0->spacy) (3.3.2)\n",
      "Requirement already satisfied: idna<4,>=2.5 in /home/ec2-user/anaconda3/envs/pytorch_p310/lib/python3.10/site-packages (from requests<3.0.0,>=2.13.0->spacy) (3.6)\n",
      "Requirement already satisfied: urllib3<3,>=1.21.1 in /home/ec2-user/anaconda3/envs/pytorch_p310/lib/python3.10/site-packages (from requests<3.0.0,>=2.13.0->spacy) (2.0.7)\n",
      "Requirement already satisfied: certifi>=2017.4.17 in /home/ec2-user/anaconda3/envs/pytorch_p310/lib/python3.10/site-packages (from requests<3.0.0,>=2.13.0->spacy) (2024.2.2)\n",
      "Requirement already satisfied: blis<0.8.0,>=0.7.8 in /home/ec2-user/anaconda3/envs/pytorch_p310/lib/python3.10/site-packages (from thinc<8.3.0,>=8.2.2->spacy) (0.7.11)\n",
      "Requirement already satisfied: confection<1.0.0,>=0.0.1 in /home/ec2-user/anaconda3/envs/pytorch_p310/lib/python3.10/site-packages (from thinc<8.3.0,>=8.2.2->spacy) (0.1.4)\n",
      "Requirement already satisfied: click<9.0.0,>=7.1.1 in /home/ec2-user/anaconda3/envs/pytorch_p310/lib/python3.10/site-packages (from typer<0.10.0,>=0.3.0->spacy) (8.1.7)\n",
      "Requirement already satisfied: cloudpathlib<0.17.0,>=0.7.0 in /home/ec2-user/anaconda3/envs/pytorch_p310/lib/python3.10/site-packages (from weasel<0.4.0,>=0.1.0->spacy) (0.16.0)\n",
      "Requirement already satisfied: MarkupSafe>=2.0 in /home/ec2-user/anaconda3/envs/pytorch_p310/lib/python3.10/site-packages (from jinja2->spacy) (2.1.5)\n",
      "Collecting en-core-web-sm==3.7.1\n",
      "  Downloading https://github.com/explosion/spacy-models/releases/download/en_core_web_sm-3.7.1/en_core_web_sm-3.7.1-py3-none-any.whl (12.8 MB)\n",
      "\u001b[2K     \u001b[90m━━━━━━━━━━━━━━━━━━━━━━━━━━━━━━━━━━━━━━━━\u001b[0m \u001b[32m12.8/12.8 MB\u001b[0m \u001b[31m39.2 MB/s\u001b[0m eta \u001b[36m0:00:00\u001b[0m00:01\u001b[0m00:01\u001b[0m\n",
      "\u001b[?25hRequirement already satisfied: spacy<3.8.0,>=3.7.2 in /home/ec2-user/anaconda3/envs/pytorch_p310/lib/python3.10/site-packages (from en-core-web-sm==3.7.1) (3.7.4)\n",
      "Requirement already satisfied: spacy-legacy<3.1.0,>=3.0.11 in /home/ec2-user/anaconda3/envs/pytorch_p310/lib/python3.10/site-packages (from spacy<3.8.0,>=3.7.2->en-core-web-sm==3.7.1) (3.0.12)\n",
      "Requirement already satisfied: spacy-loggers<2.0.0,>=1.0.0 in /home/ec2-user/anaconda3/envs/pytorch_p310/lib/python3.10/site-packages (from spacy<3.8.0,>=3.7.2->en-core-web-sm==3.7.1) (1.0.5)\n",
      "Requirement already satisfied: murmurhash<1.1.0,>=0.28.0 in /home/ec2-user/anaconda3/envs/pytorch_p310/lib/python3.10/site-packages (from spacy<3.8.0,>=3.7.2->en-core-web-sm==3.7.1) (1.0.10)\n",
      "Requirement already satisfied: cymem<2.1.0,>=2.0.2 in /home/ec2-user/anaconda3/envs/pytorch_p310/lib/python3.10/site-packages (from spacy<3.8.0,>=3.7.2->en-core-web-sm==3.7.1) (2.0.8)\n",
      "Requirement already satisfied: preshed<3.1.0,>=3.0.2 in /home/ec2-user/anaconda3/envs/pytorch_p310/lib/python3.10/site-packages (from spacy<3.8.0,>=3.7.2->en-core-web-sm==3.7.1) (3.0.9)\n",
      "Requirement already satisfied: thinc<8.3.0,>=8.2.2 in /home/ec2-user/anaconda3/envs/pytorch_p310/lib/python3.10/site-packages (from spacy<3.8.0,>=3.7.2->en-core-web-sm==3.7.1) (8.2.3)\n",
      "Requirement already satisfied: wasabi<1.2.0,>=0.9.1 in /home/ec2-user/anaconda3/envs/pytorch_p310/lib/python3.10/site-packages (from spacy<3.8.0,>=3.7.2->en-core-web-sm==3.7.1) (1.1.2)\n",
      "Requirement already satisfied: srsly<3.0.0,>=2.4.3 in /home/ec2-user/anaconda3/envs/pytorch_p310/lib/python3.10/site-packages (from spacy<3.8.0,>=3.7.2->en-core-web-sm==3.7.1) (2.4.8)\n",
      "Requirement already satisfied: catalogue<2.1.0,>=2.0.6 in /home/ec2-user/anaconda3/envs/pytorch_p310/lib/python3.10/site-packages (from spacy<3.8.0,>=3.7.2->en-core-web-sm==3.7.1) (2.0.10)\n",
      "Requirement already satisfied: weasel<0.4.0,>=0.1.0 in /home/ec2-user/anaconda3/envs/pytorch_p310/lib/python3.10/site-packages (from spacy<3.8.0,>=3.7.2->en-core-web-sm==3.7.1) (0.3.4)\n",
      "Requirement already satisfied: typer<0.10.0,>=0.3.0 in /home/ec2-user/anaconda3/envs/pytorch_p310/lib/python3.10/site-packages (from spacy<3.8.0,>=3.7.2->en-core-web-sm==3.7.1) (0.9.4)\n",
      "Requirement already satisfied: smart-open<7.0.0,>=5.2.1 in /home/ec2-user/anaconda3/envs/pytorch_p310/lib/python3.10/site-packages (from spacy<3.8.0,>=3.7.2->en-core-web-sm==3.7.1) (6.4.0)\n",
      "Requirement already satisfied: tqdm<5.0.0,>=4.38.0 in /home/ec2-user/anaconda3/envs/pytorch_p310/lib/python3.10/site-packages (from spacy<3.8.0,>=3.7.2->en-core-web-sm==3.7.1) (4.66.2)\n",
      "Requirement already satisfied: requests<3.0.0,>=2.13.0 in /home/ec2-user/anaconda3/envs/pytorch_p310/lib/python3.10/site-packages (from spacy<3.8.0,>=3.7.2->en-core-web-sm==3.7.1) (2.31.0)\n",
      "Requirement already satisfied: pydantic!=1.8,!=1.8.1,<3.0.0,>=1.7.4 in /home/ec2-user/anaconda3/envs/pytorch_p310/lib/python3.10/site-packages (from spacy<3.8.0,>=3.7.2->en-core-web-sm==3.7.1) (2.6.1)\n",
      "Requirement already satisfied: jinja2 in /home/ec2-user/anaconda3/envs/pytorch_p310/lib/python3.10/site-packages (from spacy<3.8.0,>=3.7.2->en-core-web-sm==3.7.1) (3.1.3)\n",
      "Requirement already satisfied: setuptools in /home/ec2-user/anaconda3/envs/pytorch_p310/lib/python3.10/site-packages (from spacy<3.8.0,>=3.7.2->en-core-web-sm==3.7.1) (69.1.0)\n",
      "Requirement already satisfied: packaging>=20.0 in /home/ec2-user/anaconda3/envs/pytorch_p310/lib/python3.10/site-packages (from spacy<3.8.0,>=3.7.2->en-core-web-sm==3.7.1) (21.3)\n",
      "Requirement already satisfied: langcodes<4.0.0,>=3.2.0 in /home/ec2-user/anaconda3/envs/pytorch_p310/lib/python3.10/site-packages (from spacy<3.8.0,>=3.7.2->en-core-web-sm==3.7.1) (3.3.0)\n",
      "Requirement already satisfied: numpy>=1.19.0 in /home/ec2-user/anaconda3/envs/pytorch_p310/lib/python3.10/site-packages (from spacy<3.8.0,>=3.7.2->en-core-web-sm==3.7.1) (1.26.4)\n",
      "Requirement already satisfied: pyparsing!=3.0.5,>=2.0.2 in /home/ec2-user/anaconda3/envs/pytorch_p310/lib/python3.10/site-packages (from packaging>=20.0->spacy<3.8.0,>=3.7.2->en-core-web-sm==3.7.1) (3.1.1)\n",
      "Requirement already satisfied: annotated-types>=0.4.0 in /home/ec2-user/anaconda3/envs/pytorch_p310/lib/python3.10/site-packages (from pydantic!=1.8,!=1.8.1,<3.0.0,>=1.7.4->spacy<3.8.0,>=3.7.2->en-core-web-sm==3.7.1) (0.6.0)\n",
      "Requirement already satisfied: pydantic-core==2.16.2 in /home/ec2-user/anaconda3/envs/pytorch_p310/lib/python3.10/site-packages (from pydantic!=1.8,!=1.8.1,<3.0.0,>=1.7.4->spacy<3.8.0,>=3.7.2->en-core-web-sm==3.7.1) (2.16.2)\n",
      "Requirement already satisfied: typing-extensions>=4.6.1 in /home/ec2-user/anaconda3/envs/pytorch_p310/lib/python3.10/site-packages (from pydantic!=1.8,!=1.8.1,<3.0.0,>=1.7.4->spacy<3.8.0,>=3.7.2->en-core-web-sm==3.7.1) (4.9.0)\n",
      "Requirement already satisfied: charset-normalizer<4,>=2 in /home/ec2-user/anaconda3/envs/pytorch_p310/lib/python3.10/site-packages (from requests<3.0.0,>=2.13.0->spacy<3.8.0,>=3.7.2->en-core-web-sm==3.7.1) (3.3.2)\n",
      "Requirement already satisfied: idna<4,>=2.5 in /home/ec2-user/anaconda3/envs/pytorch_p310/lib/python3.10/site-packages (from requests<3.0.0,>=2.13.0->spacy<3.8.0,>=3.7.2->en-core-web-sm==3.7.1) (3.6)\n",
      "Requirement already satisfied: urllib3<3,>=1.21.1 in /home/ec2-user/anaconda3/envs/pytorch_p310/lib/python3.10/site-packages (from requests<3.0.0,>=2.13.0->spacy<3.8.0,>=3.7.2->en-core-web-sm==3.7.1) (2.0.7)\n",
      "Requirement already satisfied: certifi>=2017.4.17 in /home/ec2-user/anaconda3/envs/pytorch_p310/lib/python3.10/site-packages (from requests<3.0.0,>=2.13.0->spacy<3.8.0,>=3.7.2->en-core-web-sm==3.7.1) (2024.2.2)\n",
      "Requirement already satisfied: blis<0.8.0,>=0.7.8 in /home/ec2-user/anaconda3/envs/pytorch_p310/lib/python3.10/site-packages (from thinc<8.3.0,>=8.2.2->spacy<3.8.0,>=3.7.2->en-core-web-sm==3.7.1) (0.7.11)\n",
      "Requirement already satisfied: confection<1.0.0,>=0.0.1 in /home/ec2-user/anaconda3/envs/pytorch_p310/lib/python3.10/site-packages (from thinc<8.3.0,>=8.2.2->spacy<3.8.0,>=3.7.2->en-core-web-sm==3.7.1) (0.1.4)\n",
      "Requirement already satisfied: click<9.0.0,>=7.1.1 in /home/ec2-user/anaconda3/envs/pytorch_p310/lib/python3.10/site-packages (from typer<0.10.0,>=0.3.0->spacy<3.8.0,>=3.7.2->en-core-web-sm==3.7.1) (8.1.7)\n",
      "Requirement already satisfied: cloudpathlib<0.17.0,>=0.7.0 in /home/ec2-user/anaconda3/envs/pytorch_p310/lib/python3.10/site-packages (from weasel<0.4.0,>=0.1.0->spacy<3.8.0,>=3.7.2->en-core-web-sm==3.7.1) (0.16.0)\n",
      "Requirement already satisfied: MarkupSafe>=2.0 in /home/ec2-user/anaconda3/envs/pytorch_p310/lib/python3.10/site-packages (from jinja2->spacy<3.8.0,>=3.7.2->en-core-web-sm==3.7.1) (2.1.5)\n",
      "\u001b[38;5;2m✔ Download and installation successful\u001b[0m\n",
      "You can now load the package via spacy.load('en_core_web_sm')\n"
     ]
    }
   ],
   "source": [
    "!pip install --upgrade pip\n",
    "!pip install moviepy torch transformers\n",
    "!pip install --upgrade git+https://github.com/huggingface/transformers.git accelerate\n",
    "!pip install nltk\n",
    "!pip install spacy\n",
    "!pip install python-dotenv\n",
    "!python -m spacy download en_core_web_sm"
   ]
  },
  {
   "cell_type": "code",
   "execution_count": 4,
   "metadata": {},
   "outputs": [
    {
     "name": "stderr",
     "output_type": "stream",
     "text": [
      "ALSA lib confmisc.c:767:(parse_card) cannot find card '0'\n",
      "ALSA lib conf.c:4554:(_snd_config_evaluate) function snd_func_card_driver returned error: No such file or directory\n",
      "ALSA lib confmisc.c:392:(snd_func_concat) error evaluating strings\n",
      "ALSA lib conf.c:4554:(_snd_config_evaluate) function snd_func_concat returned error: No such file or directory\n",
      "ALSA lib confmisc.c:1246:(snd_func_refer) error evaluating name\n",
      "ALSA lib conf.c:4554:(_snd_config_evaluate) function snd_func_refer returned error: No such file or directory\n",
      "ALSA lib conf.c:5033:(snd_config_expand) Evaluate error: No such file or directory\n",
      "ALSA lib pcm.c:2501:(snd_pcm_open_noupdate) Unknown PCM default\n",
      "ALSA lib confmisc.c:767:(parse_card) cannot find card '0'\n",
      "ALSA lib conf.c:4554:(_snd_config_evaluate) function snd_func_card_driver returned error: No such file or directory\n",
      "ALSA lib confmisc.c:392:(snd_func_concat) error evaluating strings\n",
      "ALSA lib conf.c:4554:(_snd_config_evaluate) function snd_func_concat returned error: No such file or directory\n",
      "ALSA lib confmisc.c:1246:(snd_func_refer) error evaluating name\n",
      "ALSA lib conf.c:4554:(_snd_config_evaluate) function snd_func_refer returned error: No such file or directory\n",
      "ALSA lib conf.c:5033:(snd_config_expand) Evaluate error: No such file or directory\n",
      "ALSA lib pcm.c:2501:(snd_pcm_open_noupdate) Unknown PCM default\n"
     ]
    },
    {
     "name": "stdout",
     "output_type": "stream",
     "text": [
      "MoviePy - Writing audio in audios/Mod01_Course Overview.wav\n"
     ]
    },
    {
     "name": "stderr",
     "output_type": "stream",
     "text": [
      "                                                                        \r"
     ]
    },
    {
     "name": "stdout",
     "output_type": "stream",
     "text": [
      "MoviePy - Done.\n",
      "Successfully processed CUR-TF-200-ACMNLP-1/video/Mod01_Course Overview.mp4\n"
     ]
    },
    {
     "name": "stderr",
     "output_type": "stream",
     "text": [
      "Special tokens have been added in the vocabulary, make sure the associated word embeddings are fine-tuned or trained.\n",
      "Due to a bug fix in https://github.com/huggingface/transformers/pull/28687 transcription using a multilingual Whisper will default to language detection followed by transcription instead of translation to English.This might be a breaking change for your use case. If you want to instead always translate your audio to English, make sure to pass `language='en'`.\n"
     ]
    },
    {
     "name": "stdout",
     "output_type": "stream",
     "text": [
      " Hi, and welcome to Amazon Academy Machine Learning Foundations. In this module, you'll learn about the course objectives, various job roles in the machine learning domain, and where you can go to learn more about machine learning. After completing this module, you should be able to identify course prerequisites and objectives, indicate the role of the data scientist in business, and identify resources for further learning. We're now going to look at the prerequisites for taking this course. Before you take this course, we recommend that you first complete AWS Academy Cloud Foundations. You should also have some general technical knowledge of IT, including foundational computer literacy skills like basic computer concepts, email, file management, and a good understanding of the Internet. We also recommend that you have intermediate skills with Python programming and a general knowledge of applied statistics. Finally, general business knowledge is important for this course. This includes insight into how information technology is used in business. It's also important to have business-related skill sets, such as communication skills, leadership skills, and an orientation towards customer service. In this course, you'll be introduced to the key concepts of machine learning, its tools, and its uses. You'll also be introduced to, and work with, some of the AWS services for machine learning. You'll learn how to recognize how machine learning and deep learning are part of artificial intelligence, describe artificial intelligence and machine learning and deep learning are part of artificial intelligence, describe artificial intelligence and machine learning terminology, identify how machine learning can be used to solve a business problem, describe the machine learning process, list the tools available to data scientists, and identify when to use machine learning instead of traditional software development methods. As part of this course, you'll also learn how to implement a machine learning pipeline. This includes how to formulate a problem from a business request, obtain and secure data for machine learning, build a Jupyter notebook by using Amazon SageMaker, outline the process for evaluating data. Explain why data needs to be pre-processed. And use open source tools to examine and pre-process data. You will also use Amazon SageMaker to train and host a machine learning model. Use cross-validation to test the performance host a machine learning model. Use cross-validation to test the performance of a machine learning model. Use a hosted model for inference. Create an Amazon SageMaker hyperparameter tuning job to optimize a model's effectiveness. And finally, how to use managed Amazon machine learning services to solve specific machine learning problems in forecasting, computer vision, and natural language processing. We'll now review the course outline. To achieve the course objectives, you'll complete the following modules. To start, in module 2 you'll get an introduction to machine learning. In module 3, you'll learn how to implement a machine learning pipeline with Amazon SageMaker. Modules 4, 5, and 6 describe how to apply managed Amazon machine learning services for problems in forecasting, computer vision, and natural language processing. Finally, Module 7 is a summary of the course. It also includes an overview of steps you can take to work towards the AWS Certified Machine Learning specialty. The next five slides provide more detail about the subtopics covered in each module. The purpose of Module 2 is to introduce you to major concepts for understanding machine learning. Section 1 describes the overall field of machine learning and how machine learning relates to artificial intelligence and deep learning. In Section 2, you'll learn about some of the most common business problems you can solve with machine learning. Section 3 describes the general workflow for solving machine learning problems. You'll also learn some of the more common machine learning terms. In Section 4, you'll review some of the commonly used tools by machine learning professionals. And lastly, in Section 5, you'll get an overview of some of the common challenges you'll face when working with machine learning problems. In Module 3, you'll get an introduction to Amazon SageMaker and how you can use it to implement a machine learning pipeline. The module focuses on the application of machine learning to solve problems with several public domain datasets as examples of the machine learning pipeline. Section 1 introduces you to defining business problems and the datasets we will use during this module. Section 2 through 8 describe the phases of the machine learning pipeline by using computer vision as an example application. In Section 2, you'll learn how to collect and secure data. Section 3 describes different techniques for evaluating data. In Section 4, you'll learn about the process of feature engineering. Section 5 describes the steps you'll take to train a model with SageMaker. In Section 6, you'll get an overview of the options in SageMaker for hosting and using a model. Finally, sections 7 and 8 cover how to evaluate and tune your model with SageMaker. In this module, you'll be introduced to using machine learning to create forecasts based on a time series data. In section 1, you'll be introduced to forecasting and some of its common applications. Section 2 outlines some of the pitfalls of using time series data to make forecasts. Finally, in Section 3, you'll get an overview of how to use Amazon Forecast. In this module, you'll learn about using machine learning for computer vision. Section 1 describes the general problems you can solve with computer vision. In Section 2, you'll learn about the process for analyzing images and videos. And in Section 3, you'll learn the steps you'll need to take to prepare datasets for computer vision. In this module, you'll be introduced to natural language processing with machine learning. In Section 1, you'll learn about the general set of problems you can solve with natural language processing. Section 2 reviews some of the managed Amazon machine learning services you can use to address natural language processing problems. These services include Amazon Transcribe, Amazon Translate, Amazon Lex, Amazon Comprehend, and Amazon Polly. Module 7 is the final module of the course. In this module, you'll review what you've learned throughout this course. You'll also be introduced to the next steps you should take if you want to achieve the AWS Certified Machine Learning specialty. Section 1 of this module summarizes the topics you've covered in this course. In Section 2, you'll learn more about the AWS documentation. You'll also review two common frameworks for applying AWS services. And finally, section three describes the steps you should take if you want to continue working towards the AWS certified machine learning specialty. In this section, you'll learn about some of the more common job roles for machine learning professionals. If you're interested in a data scientist role, focus on developing analytical, statistical, and programming skills. As a data scientist, you'll use those skills to collect, analyze, and interpret large data sets. Some universities now offer degrees in data science, but data scientists often have degrees in related fields like statistics, math, computer science, or economics. As a data scientist, you'll need technical competencies in statistics, machine learning, programming languages, and data analytics. If you'd like to have a career as a machine learning engineer, the skills you'll need will be similar to a data scientist's skill set. Like data scientists, machine learning engineers also require technical competencies in statistics and machine learning. However, you'll focus more on programming skills and software architecture than analysis and interpretation. As a machine learning engineer, you'll apply those programming and architecture skills to design and develop machine learning systems. Machine learning engineers often have previous experience with software development, and they rely more heavily on programming and software engineering than other machine learning roles. You might also be interested in a career in science where you can apply machine learning technology to your field. Machine learning is having an impact in everything from astronomy to zoology, so there are many different paths open to you. As an applied science researcher, your primary focus will be on the type of science you're working on. You'll need some of the same skills as a data scientist, but you'll also need to know how to apply those skills to your chosen domain. Thus, applied science roles also require technical competencies in statistics and machine learning. Many software developers are now integrating machine learning into their applications. If you're interested in a career as a software developer, you should also include machine learning technology in your studies. As a machine learning developer, your primary focus will be software development skills. But you'll also need some of the same skills as a data scientist, so make sure you take coursework in statistics and applied mathematics. And here's a final note for this module. We recommend reviewing your student guide. In your student guide, you'll find links to documentation and other resources you'll use throughout the course. That's it for this introduction. Thanks for watching. We'll see you in the next video.\n",
      "MoviePy - Writing audio in audios/Mod02_Intro.wav\n"
     ]
    },
    {
     "name": "stderr",
     "output_type": "stream",
     "text": [
      "                                                                      \r"
     ]
    },
    {
     "name": "stdout",
     "output_type": "stream",
     "text": [
      "MoviePy - Done.\n",
      "Successfully processed CUR-TF-200-ACMNLP-1/video/Mod02_Intro.mp4\n"
     ]
    },
    {
     "name": "stderr",
     "output_type": "stream",
     "text": [
      "Special tokens have been added in the vocabulary, make sure the associated word embeddings are fine-tuned or trained.\n"
     ]
    },
    {
     "name": "stdout",
     "output_type": "stream",
     "text": [
      " Hi, and welcome to Module 2 of AWS Academy Machine Learning. In this module, we're going to introduce machine learning. We'll first look at the business problems that can be solved by machine learning. We'll then talk about terminology, process, tools, and some of the challenges you'll face. After completing this module, you should be able to recognize how machine learning and deep learning are part of artificial intelligence, describe artificial intelligence and machine learning terminology, identify how machine learning can be used to solve a business problem, be used to solve a business problem, describe the machine learning process, list the tools available to data scientists, and identify when to use machine learning instead of traditional software development methods. You're now ready to get started with Section 1. See you in the next video.\n",
      "MoviePy - Writing audio in audios/Mod02_Sect01.wav\n"
     ]
    },
    {
     "name": "stderr",
     "output_type": "stream",
     "text": [
      "                                                                        \r"
     ]
    },
    {
     "name": "stdout",
     "output_type": "stream",
     "text": [
      "MoviePy - Done.\n",
      "Successfully processed CUR-TF-200-ACMNLP-1/video/Mod02_Sect01.mp4\n"
     ]
    },
    {
     "name": "stderr",
     "output_type": "stream",
     "text": [
      "Special tokens have been added in the vocabulary, make sure the associated word embeddings are fine-tuned or trained.\n"
     ]
    },
    {
     "name": "stdout",
     "output_type": "stream",
     "text": [
      " Hi, and welcome to Section 1. In this section, we're going to talk about what machine learning is. This course is an introduction to machine learning, which is also known as ML. But first, we'll discuss where machine learning fits into the larger picture. Machine learning is a subset of artificial intelligence, or AI. This is a broad branch of computer science that's focused on building machines that can do human tasks. Deep learning is a subdomain of machine learning. To understand where these all fit together, we'll discuss each one. As we just mentioned, machine learning is a subset of a broader computer science field known as artificial intelligence. AI focuses on building machines that can perform tasks a human would typically perform. In contemporary popular culture, you've probably seen AIs in movies, television, or works of fiction. For example, you might have seen AIs that control the world around them, or that start acting on their own initiative. These AIs started as computer agents that perceive their environments and take actions to achieve a specific goal, though maybe not the outcome their creators originally wished for. Other fictional AIs interact extensively with humans as helpers or workers, and they generally do a better job working with humanity, but they're more general in purpose. These kinds of AIs are examples of Artificial General Intelligence, or AGI. They have the capacity to learn or understand any task that a human can. AI problems typically span many fields of research, such as natural language processing, reasoning, knowledge representation, learning, perception, and physical environment interaction. AI isn't yet a reality for us, unless we are all truly living in a simulation. But every year, we move closer to it in each of those areas. You might have also read or seen commentary on the ethics of creating AI. Not all views are positive, perhaps partly in fear of the malicious fictional AIs that want to destroy humanity or use them as power sources. Or perhaps they're concerned about the risk of mass unemployment because an intelligent machine could work 24-7 and not need any breaks. Don't worry, though. We're not going to build the next rogue AI in this course. Maybe in the next one. If you do a search, you'll probably find many definitions of machine learning. There isn't a universally agreed-upon definition, so we'll start by looking at a couple of definitions. For example, we could say, machine learning is the scientific study of algorithms and statistical models to perform a task by using inference instead of instructions. This isn't a bad starting point. The key point here is, using algorithms and statistical models instead of instructions. To help you better understand this, we'll apply this idea to a concrete example. Suppose you need to write an application that determines if an email message is spam or not. Without machine learning, you'd need to write a complex series of decision statements using if and else statements. You'd also need to use words in the subject or body, the number of links, and the length of the message to determine if an email message is spam. It would be hard and labor-intensive to build a large set of rules covering every possibility. With machine learning, however, you could use a list of email messages that were marked as spam or not spam and train a machine learning model. The model would then learn which patterns of words, length, and other attributes are good indicators of spam messages. If you presented the model with an email message it hadn't seen before, the model would perform a prediction to say whether the message was spam or not spam. Deep learning represents a significant leap forward in the capabilities for artificial intelligence and machine learning. The theory behind deep learning was created from how the human brain works. An artificial neural network, or ANN, is inspired by the biological neurons found in the brain, although the implementation has become very different. Artificial neurons have one or more inputs and a single output. These neurons fire, or activate, their outputs based on a transformation of the inputs. A neural network is composed of layers of these artificial neurons with connections between the layers. There are typically input, output, and hidden layers in the network. The output of a single neuron connects to the inputs of all the neurons in the next layer. The network is then asked to solve a problem. The input layer is populated from the training data, and the neurons activate throughout the layers until an answer is presented in the output layer. The accuracy of the output is then measured. If the output doesn't meet your threshold, the training is repeated, but with slight changes to the weights of the connections between neurons. The neural network will do this repeatedly. Each time it strengthens the connections that lead to success and diminishes the connections that lead to failure. As you'll see in this course, machine learning practitioners spend a lot of time optimizing the ML models, selecting the best data features to train with, and selecting the models with the best results. In contrast, deep learning practitioners spend almost no time on those tasks. Instead, they spend their time modeling data with different ANN architectures. Though the theory for deep learning goes back decades, the hardware needed to run deep learning problems wasn't generally accessible until recently, but now that it's available, you can use deep learning to address problems that are more complex than the problems you could have worked on before. Mainstream machine learning is a recent occurrence. Rapid advancements in machine and deep learning only started around the mid-2000s. This is partly because Moore's Law and the rise of cloud computing resulted in easier access to larger, faster, and cheaper compute and storage capabilities. You can now rent computing power for a few hours for pennies. Before this, you needed substantial investments to buy and operate large-scale compute clusters on your own. In 2012, neural networks started to be used in the ImageNet Large-Scale Visual Recognition Challenge, a machine learning competition for image recognition. The accuracy rate jumped up to about 82% and has been steadily climbing ever since. In fact, it exceeded human performance in 2015. Here are some of the key takeaways for this section. First, artificial intelligence is the broad field of building machines to perform human tasks. Also, machine learning is a subset of AI. It focuses on using data to train machine learning models so they can make predictions. Deep learning is a technique inspired from human biology. It uses layers of artificial neurons to build networks that solve problems. And last, advancements in technology, cloud computing, and algorithm development have led to a corresponding advance in machine learning capabilities and applications. That's it for this section. We'll see you in the next video.\n",
      "MoviePy - Writing audio in audios/Mod02_Sect02.wav\n"
     ]
    },
    {
     "name": "stderr",
     "output_type": "stream",
     "text": [
      "                                                                        \r"
     ]
    },
    {
     "name": "stdout",
     "output_type": "stream",
     "text": [
      "MoviePy - Done.\n",
      "Successfully processed CUR-TF-200-ACMNLP-1/video/Mod02_Sect02.mp4\n"
     ]
    },
    {
     "name": "stderr",
     "output_type": "stream",
     "text": [
      "Special tokens have been added in the vocabulary, make sure the associated word embeddings are fine-tuned or trained.\n"
     ]
    },
    {
     "name": "stdout",
     "output_type": "stream",
     "text": [
      " Hi and welcome back. In this section, we're going to look at the types of business problems machine learning can help you solve. Machine learning is used all across your digital lives. Your email spam filter is the result of a machine learning program that was trained with examples of spam and regular email messages. Based on books you're reading or products you bought, machine learning programs can predict other books or products you're likely to be interested in. Again, the machine learning program was trained with data from other readers' habits and purchases. When detecting credit card fraud, the machine learning program was trained on examples of transactions that turned out to be fraud, along with normal transactions. You can probably think of many more examples, from social media applications, using facial detection to group your photos, to detecting brain tumors in brain scans or finding anomalies in x-rays. There are three main types of machine learning. There's supervised learning, where a model uses known inputs and outputs to generalize future outputs. There's unsupervised learning, where the model doesn't know inputs or outputs, so it finds patterns in the data without help. And there's reinforcement learning, where the model interacts with its environment and learns to take actions that will maximize rewards. It's important to know the different types of ML because the type will guide you towards selecting algorithms that make sense for solving your business problem. Let's look more into each of these types. Supervised learning is a popular type of ML because it's widely applicable. It's called supervised learning because there needs to be a supervisor, a teacher who can show the right answers, so to speak. Like any student, a supervised algorithm needs to learn by example. Essentially, it needs a teacher who uses training data to help it determine the patterns and relationships between the inputs and outputs. If you want to build an application to detect credit card fraud, you'd need training data that includes examples of fraud and examples of normal transactions. Within supervised learning, there are different types of problems, Within supervised learning, there are different types of problems, classification and regression. There are two subtypes of classification problems. The first is binary classification. Think back to the example with identifying fraudulent transactions. The target variable in this example is limited to two options, fraudulent or not fraudulent. This is a binary classification problem. There are also multi-class classification problems. These ML problems classify an observation into one of three or more categories. Say that you have an ML model that predicts why a customer is calling your store so you can reduce the number of transfers needed before the customer gets to the correct customer support department. In this case, the different customer support departments represent the variety of potential target variables, which could be many different departments, much more than just two. There are also regression problems. In a regression problem, you're no longer mapping an input to a defined number of categories. Instead, you're mapping an input to a continuous value, like an integer. One example of an ML regression problem is predicting the price of a company's stock. Computer vision is a good example of supervised learning. Is this a cat or a dog? Is there a tumor in this x-ray? Computer vision is often built with deep learning models. It automates the extraction, analysis, classification, and understanding of useful information from a single image or a sequence of images. from a single image or a sequence of images. Computer vision enables machines to identify people, places, and things in images with accuracy at or above human levels, and with greater speed and efficiency. The image data can take many forms, such as single images, video sequences, views from multiple cameras, or three-dimensional data. You'll learn more about computer vision later in this course. We'll now discuss unsupervised machine learning. Sometimes all you have is the data. There's no supervisor in the room. In unsupervised learning, labels aren't provided like they are with supervised learning. You don't know all the variables and patterns. In these instances, the machine has to uncover and create the labels itself. These models use the data they're presented with to detect emerging properties of the entire dataset. Then, they construct patterns from those properties. Clustering is a common subcategory of unsupervised learning. This kind of algorithm groups data into different clusters based on similar features. It does this to better understand the attributes of a specific cluster. For example, by analyzing customer purchasing habits, unsupervised algorithms can identify groups of customers that are associated with the size tier of a company. The advantage of unsupervised algorithms is that they enable you to see patterns in the data that you weren't aware of before. Natural language processing is also known as NLP. This is another area of machine learning that's experiencing growth. This is another area of machine learning that's experiencing growth. If you've ever used Alexa or any other voice assistant, they'll use NLP to try and answer your question. NLP isn't just about speech. It's also about written text. NLP shows up in many applications. For example, NLP is used with chat or call center bots, which are automated systems that help you get your bank balance or order food from a restaurant. You can use NLP in translation tools, which convert text between languages. For example, you might use applications that translate menus in real time. NLP is also used in voice-to-text translations, which convert spoken words into text. used in voice-to-text translations, which convert spoken words into text. And finally, NLP can be used in sentiment analysis, which you can use to analyze the sentiment of comments and reviews of products, music, and movies. These sentiments could be used to give the movie an audience rating. You'll learn more about NLP later in this course. Another kind of machine learning that's been gaining popularity recently is reinforcement learning. Unlike other machine learning, reinforcement learning continuously improves its model by mining feedback from previous iterations. In reinforcement learning, an agent continuously learns, through trial and error, as it interacts in an environment. Reinforcement learning is broadly useful when the reward of a desired outcome is known, but the path to achieving it isn't. And that path requires a lot of trial and error to discover. Take the example of AWS DeepRacer. In the AWS DeepRacer simulator, the agent is the virtual car. The environment is a virtual racetrack. The actions are throttle and steering inputs to the car. And the goal is completing the racetrack as quickly as possible without deviating from the track. The car needs to learn the desired driving behavior to reach the goal of completing the track. For the car to learn this, AWS DeepRacer teams use rewards to incentivize their model to learn the desired driving behavior. In reinforcement learning, the thing driving the learning is called the agent. In this case, it's the AWS DeepRacer car. The environment is the place where the agent learns, which in this example would be the marked racetrack. When the agent does something in the environment that provokes a response, such as crossing a boundary it shouldn't cross, that's called an action. That response is called a reward or penalty depending on whether the agent did something to be reinforced or discouraged in the model. As the agent moves within the environment, its action should start receiving more rewards and fewer penalties until it meets the desired business outcome. Self-driving vehicles bring together many machine and deep learning algorithms and models to solve the problem of driving from point A to point B. Two of its main tasks are the continuous detection of the environment and forecasting changes. These involve detecting objects and localizing and predicting the movement of the detected objects. The outputs of these findings act as inputs to other systems that make decisions on what they should do with the vehicle's various controls. There are use cases in self-driving vehicles that require real-time responses to the environment. For example, if a previously hidden pedestrian walks out from behind an obstacle, the vehicle brakes need to be applied immediately. There can be no latency or room for error with these actions. Not every problem should be solved with machine learning. Sometimes regular programming will work well for your needs. If you're interested in exploring a potential machine learning solution, look for the existence of large datasets and a large number of variables. Machine learning is often the best choice if you're uncertain of the business logic or procedures needed to obtain an answer or accomplish a task. Machine learning systems can be complex. The supporting infrastructure, management support, and technical expertise need to be in place to help ensure the project's success. Here are the key takeaways for this section, where we explored some machine learning applications that are already part of everyday life. First, machine learning problems can be grouped into three categories. Supervised learning is where you have training data where you already know the answer. Unsupervised learning is where you have data but are looking for insights within the data. Reinforcement learning is where the model learns based on experience and feedback. Most business problems are supervised learning problems. Well that's it for this section, we'll see you in the next video.\n",
      "MoviePy - Writing audio in audios/Mod02_Sect03.wav\n"
     ]
    },
    {
     "name": "stderr",
     "output_type": "stream",
     "text": [
      "                                                                        \r"
     ]
    },
    {
     "name": "stdout",
     "output_type": "stream",
     "text": [
      "MoviePy - Done.\n",
      "Successfully processed CUR-TF-200-ACMNLP-1/video/Mod02_Sect03.mp4\n"
     ]
    },
    {
     "name": "stderr",
     "output_type": "stream",
     "text": [
      "Special tokens have been added in the vocabulary, make sure the associated word embeddings are fine-tuned or trained.\n"
     ]
    },
    {
     "name": "stdout",
     "output_type": "stream",
     "text": [
      " Hi and welcome back. This is section 3 and we're going to give you a quick, high-level overview of machine learning terminology and a typical workflow. We will cover these topics in more detail later in this course, but for now we'll focus on the larger picture. So to begin, you should always start with the business problem you or your team believe could benefit from machine learning. From there, you want to do some problem formulation. In this phase, one task is to articulate your business problem and convert it to an ML problem. After you've formulated the problem, you move on to the data preparation and pre-processing phase. You'll pull data from one or more data sources. These data sources might have differences in data or types that need to be reconciled so you can form a single, cohesive view of your data. You'll need to visualize your data and use statistics to determine if the data is consistent and can be used for machine learning. We'll look at some of the data sources later in the course. This example data has four columns containing data from three different data sources. The sources had slightly different ways of representing data, and the results are shown in the table. In ML problems, columns represent features and rows represent instances. There are some issues here with the data in some of the instances. In some cases, you'll need a subject matter expert or a functional expert to understand the authenticity of the data. For example, the date that's represented as 11-2-1969 could be November 2nd or February 11th in the year 1969. Someone who owns or manages the data pool would be able to clarify this ambiguity. Also, the word mail can probably be attributed to an import issue where cells shifted position. But there could be an outside chance where it's the actual location, Mali, a city that's the capital of the Republic of Maldives. At times, this error identification isn't as simple, and you'll need an SME to review the data. You'll learn about the role of experts later in this course. Remember that one of the largest impacts you can have on the success of experts later in this course. Remember that one of the largest impacts you can have on the success of a machine learning project is to have consistent and correct data. After your data is in good shape, it's time to train your model. This is where the process gets very iterative and fluid. You'll likely go through many multiple passes of feature engineering, training, evaluating, and tuning before you find a model that meets your business goals. Feature engineering is the process of selecting or creating the features your model will be trained with. Features are the columns of data you have in your dataset. The goal of the model is to correctly estimate the target value for the new data. The ML algorithm will use the features to predict the target. In this example, the target data is the average number of steps taken in a week. Selecting the correct features can involve adding, removing, or calculating new features. You might want to make the data formats consistent. The consistent formats could be later used in the model, or you can make these changes for cosmetic reasons. Depending on the problem you want to solve with this data, you might not even need to include the name feature in the example data. What about the country feature? If this were a traditional database, you might want to move country to a lookup table, then reference it. Most ML algorithms want the data for an instance in a single row. ML algorithms need numerical data to process. You could consider turning the country text into the country's ISO code. However, the model might interpret the numerical value as having meaning, so the UK's ISO code. However, the model might interpret the numerical value as having meaning, so the UK's ISO code value of 44 would be more significant than the ISO code value of the US, which is 01. In this case, splitting the data into multiple columns is fine. This is known as categorical encoding, and you'll learn about this later in the course. as categorical encoding, and you'll learn about this later in the course. For other types of data, you could convert the text value into a numerical value. For example, you could use 0 or 1 to represent male or female. These numeric values can be used more easily by the model. What about the remaining features, like age, birth month , or day of week . Extracting the age, birth month, and day of week might be appropriate depending on the problem you're trying to solve. Does age impact the target variable? What about which day of the week they were born on? Don't worry if this sounds complicated. You'll learn more about feature engineering later in this course. After your data is cleaned and you've identified the features you want to use, it's time to train a model. You won't use all the data to train your model. In fact, you need to hold some of the data so you have some data to test with. Typically, you'll use about 80% of the data to train with, and you'll save the rest of the data for testing. Next, you'll train a model with training data. In the diagram, the model uses the XGBoost algorithm. The model itself has some parameters you can set. These parameters will alter how the algorithm works and they're known as hyperparameters. The output of the training job will be a trained model. With the trained model, you can use some of the test data to see how well the model performs. You'll take an instance the model hasn't seen and use it to perform a prediction. Because you already know the target in your test data, you can compare the two values. From these comparisons, you can calculate metrics, which give you data on how well the model is performing. You'll then make changes to the model's data, features or hyperparameters, until you find the model that yields the best results. When training your model, there's a real danger of overfitting or underfitting the model. Your model is overfitting your training data when you see the model performs well on the training data but doesn't perform well on the evaluation data. This is because the model is memorizing the data it saw and can't generalize to unseen examples. Your model is underfitting the training data when the model performs poorly on the training data. This is because the model can't capture the relationship between the input examples, which are often called X, and the target values, which are often called Y. Understanding model fit is important for understanding the root cause of poor model accuracy. This understanding will guide you to take corrective steps. You can determine whether a predictive model is underfitting or overfitting the training data by looking at the prediction error on the training data and the evaluation data. We'll show you steps you can take to avoid this later in this course. After you've retrained the model and you're satisfied with the results, you deploy your model to deliver the best possible predictions. Later in this course, we'll walk you through these different phases and give you hands-on experience with each of them. But knowing the process is also useful when using the managed services we'll also explore later, where certain Amazon ML services will do the bulk of the work for you. Here are some of the key takeaways for this section. First, we looked at how the machine learning pipeline process can guide you through the process of training and evaluating a model. The iterative process can be broken into three broad steps, data processing, model training, and model evaluation. That's it for this video. We'll see you in the next one.\n",
      "MoviePy - Writing audio in audios/Mod02_Sect04.wav\n"
     ]
    },
    {
     "name": "stderr",
     "output_type": "stream",
     "text": [
      "                                                                      \r"
     ]
    },
    {
     "name": "stdout",
     "output_type": "stream",
     "text": [
      "MoviePy - Done.\n",
      "Successfully processed CUR-TF-200-ACMNLP-1/video/Mod02_Sect04.mp4\n"
     ]
    },
    {
     "name": "stderr",
     "output_type": "stream",
     "text": [
      "Special tokens have been added in the vocabulary, make sure the associated word embeddings are fine-tuned or trained.\n"
     ]
    },
    {
     "name": "stdout",
     "output_type": "stream",
     "text": [
      " Welcome back. In this section, we'll look at some of the tools you'll be using throughout the rest of this course. Before we start, this list isn't an exhaustive list of all the tools available today. We're only going to cover them at a high level, but it's a good place to get started. First, there's the Jupyter Notebook. The Jupyter Notebook is an open-source web application you can use to create and share documents that contain live code, equations, visualizations, and narrative text. Uses include data cleaning and transformation, numerical simulation, statistical modeling, data visualization, machine learning, and much more. JupyterLab is a web-based interactive development environment for Jupyter notebooks, code, and data. JupyterLab is flexible. You can use it to configure and arrange the user interface to support a wide range of workflows in data science, scientific computing, and machine learning. JupyterLab is extensible and modular. You can write plugins that add new components and integrate with existing ones. Later in this course, you'll use Amazon SageMaker, which hosts both Jupyter Notebooks and JupyterLab. Pandas is an open-source Python library. It's used for data handling and analysis. Pandas represents data in a table similar to a spreadsheet. This table is known as a Pandas data frame. Matplotlib is a Python library for creating scientific, static, animated, and interactive visualizations in Python. You'll use it to generate plots of your data later in this course. Seaborn is another data visualization library for Python that's built on Matplotlib. It provides a high-level interface for drawing attractive and informative statistical graphs. NumPy is one of the fundamental scientific computing packages in Python. It contains functions for n-dimensional array objects. It also has useful math functions such as linear algebra, Fourier transform, and random number capabilities. Scikit-learn is an open-source machine learning library that supports supervised and unsupervised learning. It also provides various tools for model fitting, data preprocessing, model selection and evaluation, and many other utilities. Scikit-learn is built on NumPy, SciPy, and Matplotlib. It's a good tool for exploring machine learning. Although you'll only use it to borrow a few functions in this course, you might want to consider exploring it after you complete this course. Moving up from individual libraries and packages, there are also tools that contain production-ready frameworks. We already mentioned Scikit-learn, which is a good library for machine learning. The frameworks supported on AWS, such as TensorFlow and Keras, also include libraries you can use for machine learning. All the frameworks listed here are supported on AWS and can be used from Amazon SageMaker. AWS also provides compute instances that are tuned for machine learning in both the cloud and at the edge. Compute instances can be optimized for learning and inference. Another AWS resource you can use are certain Amazon Machine Images or AMIs. We offer prepackaged AMIs that contain many of the popular frameworks. Finally, there's Amazon SageMaker, which is an AWS service with many capabilities. First, SageMaker can deploy machine learning instances running Jupyter Notebooks and Jupyter Lab. It manages the deployment of these compute resources, so you only need to connect to the Jupyter environment. SageMaker also provides tools for labeling data, training models, and hosting trained models. AWS Marketplace also provides a selection of ready-to-use model packages and algorithms from third-party machine learning developers. AWS also provides a set of managed machine learning services and you can integrate them into your applications even if you don't have substantial machine learning experience. For computer vision, Amazon Recognition provides object and facial recognition for both image and video. Also, Amazon Textract can extract text from images. Speech services include Amazon Polly, which can speak text. Another speech service is Amazon Transcribe, which converts spoken audio to text. For language, Amazon Comprehend uses NLP to find insights and relationships in text. Also, Amazon Translate can translate text into different languages. If you want to work with chatbots, Amazon Lex helps you build interactive conversational applications that use voice or text. For forecasting, Amazon Forecast uses machine learning to combine time series data with additional variables so you can build forecasts. And finally, if you'd like to work with recommendations, Amazon Personalize can help you create individual personalized recommendations for customers. These managed services have already been trained in many aspects of the problem domain. You only need to provide your specific data to get started. We're going to look at many of these managed services in the second half of this course, after you learn how to do things on your own. The key takeaways for this section include these points. First, Python is the most popular language for performing machine learning tasks. Jupyter notebooks provide you with a web-based, hosted development environment for machine learning. You'll use Jupyter Notebooks frequently in machine learning. There are a large number of open-source tools, such as Pendus, that you'll use often as a machine learning practitioner. Finally, depending upon your requirements, you might start with low-level frameworks to create your own solution. You might also use tools such as Amazon SageMaker to help with some of the heavy lifting. Or you could simply use and adapt one of the managed Amazon ML services for your specific problem domain. That's it for this video. We'll see you in the next one.\n",
      "MoviePy - Writing audio in audios/Mod02_Sect05.wav\n"
     ]
    },
    {
     "name": "stderr",
     "output_type": "stream",
     "text": [
      "                                                                      \r"
     ]
    },
    {
     "name": "stdout",
     "output_type": "stream",
     "text": [
      "MoviePy - Done.\n",
      "Successfully processed CUR-TF-200-ACMNLP-1/video/Mod02_Sect05.mp4\n"
     ]
    },
    {
     "name": "stderr",
     "output_type": "stream",
     "text": [
      "Special tokens have been added in the vocabulary, make sure the associated word embeddings are fine-tuned or trained.\n"
     ]
    },
    {
     "name": "stdout",
     "output_type": "stream",
     "text": [
      " Hi, welcome back. This is section 5 and we're going to discuss challenges with machine learning. You'll come across many challenges in machine learning. There are a lot of poor quality and inconsistent data available. A significant portion of your job will be getting access to or generating enough good data that's representative of the problem you want to solve. A key issue to watch out for is under or overfitting the model. It's not all about the data, although it mostly is. Do you have data science experience? Is staffing a team of data scientists cost-effective? Does management support using machine learning? What does the business landscape look like? Are the problems too complex to formulate into a machine learning problem? Can the resulting model be explained to the business? If it can't be explained, it might not get adopted. What's the cost of building, updating, and operating a machine learning solution? Finally, how does the technology map? Does the business unit have access to the data that's needed? Can the data be secured to meet any regulatory requirements? What tools and frameworks will be used? How will the solution integrate with other systems? These are important questions. To be successful, you'll need to be able to answer and address them. Many machine learning problems can be solved today by using existing models and without substantial machine learning knowledge. We've already talked about the AWS managed services for machine learning. You can add sophisticated machine learning capabilities to your applications with only some basic developer skills for calling APIs. There are other pre-built models you can use or adapt. One example is YOLO, which means you only look once. YOLO is a popular computer vision model. In addition to these scenarios, you can use the AWS marketplace if you'd prefer to buy models and services from independent software vendors instead of developing your own. Here are the key takeaways for this section. First, you'll face many machine learning challenges. The biggest ones that you can directly influence are related to data. related to data. You should consider managed services to solve machine learning problems within the domains they support, such as using Amazon Recognition for computer vision problems. That's it for this section. We'll see you in the next video.\n",
      "MoviePy - Writing audio in audios/Mod02_WrapUp.wav\n"
     ]
    },
    {
     "name": "stderr",
     "output_type": "stream",
     "text": [
      "                                                                      \r"
     ]
    },
    {
     "name": "stdout",
     "output_type": "stream",
     "text": [
      "MoviePy - Done.\n",
      "Successfully processed CUR-TF-200-ACMNLP-1/video/Mod02_WrapUp.mp4\n"
     ]
    },
    {
     "name": "stderr",
     "output_type": "stream",
     "text": [
      "Special tokens have been added in the vocabulary, make sure the associated word embeddings are fine-tuned or trained.\n"
     ]
    },
    {
     "name": "stdout",
     "output_type": "stream",
     "text": [
      " It's now time to review the module. Here are the main takeaways for this module. First, we looked at defining machine learning and how it fits into the broader AI landscape. We also looked at the types of problems machine learning can help us solve and how machine learning applies learning algorithms to develop models from large datasets. We then looked at the machine learning pipeline and the different stages for developing a machine learning application. Finally, we introduced some of the tools and services you can use, before discussing some of the challenges with machine learning. In summary, in this module you learned how to recognize how machine learning. In summary, in this module, you learned how to recognize how machine learning and deep learning are part of artificial intelligence, describe artificial intelligence and machine learning terminology, identify how machine learning can be used to solve a business problem, describe the machine learning process, list the tools available to data scientists. Identify when to use machine learning instead of traditional software development methods. Thanks for watching, we'll see you in the next video.\n",
      "MoviePy - Writing audio in audios/Mod03_Intro.wav\n"
     ]
    },
    {
     "name": "stderr",
     "output_type": "stream",
     "text": [
      "                                                                      \r"
     ]
    },
    {
     "name": "stdout",
     "output_type": "stream",
     "text": [
      "MoviePy - Done.\n",
      "Successfully processed CUR-TF-200-ACMNLP-1/video/Mod03_Intro.mp4\n"
     ]
    },
    {
     "name": "stderr",
     "output_type": "stream",
     "text": [
      "Special tokens have been added in the vocabulary, make sure the associated word embeddings are fine-tuned or trained.\n"
     ]
    },
    {
     "name": "stdout",
     "output_type": "stream",
     "text": [
      " Welcome back to AWS Academy Machine Learning. This is module three, and we're going to work through the entire machine learning pipeline by using Amazon SageMaker. This module will discuss a typical process for handling a machine learning problem. The machine learning pipeline can be applied to many machine learning problem. The machine learning pipeline can be applied to many machine learning problems. The focus is on supervised learning, but the process you learn in this module can be adapted to other types of machine learning as well. This is a large module and we'll be covering a lot of material. At the end of this module, you'll be able to formulate a problem from a business request, obtain and secure data for machine learning, build a Jupyter notebook by using Amazon SageMaker, outline the process for evaluating data, explain why data needs to be preprocessed, use open-source tools to examine and pre-process data. Use Amazon SageMaker to train and host a machine learning model. Use cross-validation to test the performance of a machine learning model. Use a hosted model for inference. And finally, create an Amazon SageMaker hyperparameter tuning job to optimize a model's effectiveness. We're ready to get started. See you in the next video.\n",
      "MoviePy - Writing audio in audios/Mod03_Sect01.wav\n"
     ]
    },
    {
     "name": "stderr",
     "output_type": "stream",
     "text": [
      "                                                                      \r"
     ]
    },
    {
     "name": "stdout",
     "output_type": "stream",
     "text": [
      "MoviePy - Done.\n",
      "Successfully processed CUR-TF-200-ACMNLP-1/video/Mod03_Sect01.mp4\n"
     ]
    },
    {
     "name": "stderr",
     "output_type": "stream",
     "text": [
      "Special tokens have been added in the vocabulary, make sure the associated word embeddings are fine-tuned or trained.\n"
     ]
    },
    {
     "name": "stdout",
     "output_type": "stream",
     "text": [
      " Hi, and welcome back to module 3. This is section 1, and we're going to take a look at some of the data sets we'll use in this module. We'll also look at guidance for how to formulate a business problem. Before we get started, here's a reminder of the machine learning pipeline we looked at in the previous module, and how that maps to the sections in this module. This section, Section 1, will cover how to formulate a problem. It will also cover the datasets we'll use throughout this module. Section 2 will discuss how to obtain and secure data for your machine learning activities. In Section 3, we'll show you tools and techniques for gaining an understanding of your data. Then in Section 4, we'll look at pre-processing your data so it's ready to train a model. Section 5 will cover selecting and training an appropriate machine learning model. Section 6 will show you how to deploy a model so you can make a prediction. Section 7 will examine the process of evaluating the performance of a machine learning model. And finally, in Section 8 we'll look at tuning the model. The machine learning pipeline is an iterative process. When you work on a real-world problem, you might find yourself iterating many times before you arrive at a solution that meets your business's needs. In this first section, we'll examine how to think about turning a business requirement into a machine learning problem. The first step in this phase is to simply define the problem you want to solve and the goal you want to reach. Understanding the business goal is key because you'll use it to measure the performance of your solution. It's not unusual to solidify the business problem before you can begin targeting a solution. There are a lot of other questions you could ask to develop a good understanding of the problem. With more information about the problem, you can begin framing an approach. First, can the problem even be solved by machine learning? Or would a traditional approach make more sense? Is this a supervised or unsupervised machine learning problem? Do you have labeled data to train a supervised model? There are many questions you could ask yourself and the business. Ultimately, you should try to validate the use of machine learning, and you should make sure you have access to the right people and data. You should also try to come up with the simplest solution to the problem. Here's an example. You want to identify fraudulent credit card transactions so you can stop the transaction before it processes. That's your problem. Now what's the business goal or outcome driving this problem statement? In this case, say that the intended outcome is a reduction in the number of customers who end their membership to the credit card as a result of a fraudulent transaction. From a business perspective, how do you define success given this problem and the desired outcome? This is the stage where you need to move from qualitative statements to quantitative statements that can be easily measured. Continuing with the example, a metric you could use to define success for this problem might be a 10% reduction in the number of customers who file claims for fraudulent transactions within a six-month period. So now you've defined the business side of your problem. It's time to start thinking about this in terms of your machine learning model itself. What's the actual output you want to see from your model? You want to be specific here. It should be a statement that reflects what an ML model could actually output. An example might be, the model will output whether or not a credit card transaction is fraudulent or not fraudulent. Now that you know what you want your ML model to actually achieve, you can use this information to determine the type of ML you're working with. You can use this information to determine the type of ML you're working with. If you have historical data where customers filed reports for fraud transactions, you can use this data for your machine learning purpose. This historical data falls under the supervised learning approach, where the labels are already defined. Recall from earlier in this course that supervised ML types are categorized into two groups, classification and regression. In the credit card example, the desired output of categorizing a transaction is fraud or not fraud. So you can see that you're dealing with a binary classification problem. Throughout this module, you'll see several datasets being used. Throughout this module, you'll see several datasets being used. You can access these datasets and many more from the UC Irvine Machine Learning Repository. The first dataset contains numerical information about the composition of wine along with the quality of the wine. The question you might want to ask on this dataset is, based on the composition of the wine, could we predict the quality and therefore the price? In addition to that question, we'll also use this dataset to view statistics, deal with outliers, and scale numerical data. The second dataset is a car evaluation database. This dataset is heavily text-based. This enables you to explore the encoding categorical data, which converts the text values into numbers that can be processed by machine learning. The third dataset is a biomedical dataset, which you'll also use in the labs. The question to answer for this dataset is, based on the biomechanical features, can you predict if a patient has an abnormality? This dataset will take you through the entire end-to-end process. You'll end with a trained model that's been tuned and that you can use to make a prediction. In this section, we looked at how business problems need to be converted into an ML problem. We also looked at some of the key questions to ask, which are, what is defining success? Can you measure the outcome or impact if your solution is implemented? Most business problems fall into one of two categories. The first category is classification, which can be binary or multi-class. Ask yourself, does the target belong to a class? And the second category is regression. For this, ask yourself, can you predict a numerical value? That's it for section one. We'll see you in the next video.\n",
      "MoviePy - Writing audio in audios/Mod03_Sect02_part1.wav\n"
     ]
    },
    {
     "name": "stderr",
     "output_type": "stream",
     "text": [
      "                                                                        \r"
     ]
    },
    {
     "name": "stdout",
     "output_type": "stream",
     "text": [
      "MoviePy - Done.\n",
      "Successfully processed CUR-TF-200-ACMNLP-1/video/Mod03_Sect02_part1.mp4\n"
     ]
    },
    {
     "name": "stderr",
     "output_type": "stream",
     "text": [
      "Special tokens have been added in the vocabulary, make sure the associated word embeddings are fine-tuned or trained.\n"
     ]
    },
    {
     "name": "stdout",
     "output_type": "stream",
     "text": [
      " Hi, welcome back. We're now going to look at a few ways you can collect and secure data. In this section, we'll explore some of the techniques and challenges associated with collecting and securing the data that's needed for machine learning. Consider again the original example about predicting credit card fraud. You've further formulated the problem. But what data do you need to actually train your model so you can get the desired output and subsequently achieve your intended business outcome? Do you have access to the data? If so, how much data do you have and where is it? What solution can you use to bring all this data into one centralized repository? The answers to these questions are essential at this stage. The good news for a budding data scientist is that there are many places where you can obtain data. Private data from you or your existing customer already exists, including everything from log files to customer invoice databases. Private data can be useful depending on the problem you're trying to solve. In many cases, private data is found in many different systems. We'll look at how to bring these sources together shortly. Sometimes you want to use data that was collected and made available by a commercial organization. Companies such as Reuters, Change Healthcare, Dun & Bradstreet, and Foursquare maintain databases you can subscribe to. They include curated news stories, anonymized healthcare transactions, global business records, and location data. If you supplement your own data with commercial data, you can get useful insights you wouldn't have gotten otherwise. There are also many open source data sets, ranging from wine quality to movie reviews. These data sets are made available for use in research or for teaching purposes. AWS, Kaggle, and the UCI machine learning repositories are good places to find open source data sets. Government and health organizations are other sources of data that could be useful. Supervised machine learning problems need a lot of data. These are also called observations, and you already need to know the target answer or prediction for that data. These are also called observations, and you already need to know the target answer or prediction for that data. This kind of data, where you already know the target answer or prediction, is called labeled data. Each observation in your data is made up of two elements, the target and the features. The target is the answer you want to predict. So in the credit card transaction example, the target of any given observation is either fraud or not fraud. A feature is an attribute of the example that you can use to identify patterns for predicting the target answer. A feature in the credit card example could be the date of the transaction, the vendor, or the amount in dollars of the transaction. You might wonder if the source of the target is fraud or not fraud. Typically, this information is discovered only after the transaction is complete and the actual card owner notices a fraudulent transaction on their statement. This information would be recorded with the transaction for exactly the purpose of using it to train a future model. So given what you know about the elements of an ML dataset, we'll return to one of the original questions. What data do you need to actually train your model to reach the desired output and subsequently your intended business outcome? This is an example of a stage in the ML pipeline when it's crucial to get domain expertise to help you answer this question. With domain knowledge, you can start determining the features and target data your model will need to make accurate predictions. Your data should be representative of the data you'll have when you're using the model to make a prediction. For example, if you want to predict credit card fraud, you need to collect data for positive or fraudulent transactions. You also need to collect data for negative or non-fraudulent transactions. You need both types of data so the machine learning algorithm can find patterns that will distinguish between the two types. Suppose your average amount of fraudulent transactions is actually 3%, but your training dataset only includes a very small fraction of fraudulent observations, say 0.4%. In this case, it'll be difficult for your model to truly learn patterns related to fraudulent transactions that it might encounter in production. There are many different services in AWS where you could find or store your data. Here are some key services you might use. Amazon Simple Storage Service is also known as Amazon S3. It provides object-level storage. With S3, you can store as much data as you want in the form of objects, which you can think of as files. They could be CSV files or files of other formats you need. S3 can be accessed through the web-based AWS Management Console. You can also access S3 programmatically through the API and SDKs or with third-party solutions, which also use the API and SDKs or with third-party solutions, which also use the API and SDKs. If your training data is already in S3 and you're planning to run training jobs several times with different algorithms and parameters, you could use Amazon FSx for Lustre. It's a file system service that speeds up your training jobs by serving your S3 data to Amazon SageMaker at high speeds. The first time you run a training job, FSx for Lustre automatically copies data from S3 and makes it available to SageMaker. You can use the same Amazon FSx file system for subsequent iterations of training jobs, which prevents repeated downloads of common S3 objects. Alternatively, your training data might already be in Amazon Elastic File System or Amazon EFS. If so, we recommend using EFS as your data source for training data. It can launch your training jobs directly from the service without needing data movement, which results in faster training start times. This is often the case in environments where data scientists have home directories in Amazon EFS. They can quickly iterate on their models by bringing in new data, sharing data with colleagues, and experimenting with different fields or labels in their dataset. For example, a data scientist can use a Jupyter notebook to do an initial cleansing on a training set and launch a training job from Amazon SageMaker. They could then use their Jupyter notebook to drop a column and relaunch the training job and finally compare the resulting models to see which one works better. There are many other AWS services and resources where you might find data. For example, you could use Amazon Relational Database Service or Amazon RDS, a managed relational database service. You could also use Amazon Redshift, which is a managed data warehouse service. Another option is Amazon Timestream, a managed time series database designed specifically to handle large amounts of data from the Internet of Things, or IoT. You could even spin up your own instances on Amazon Elastic Compute Cloud, which is also known as Amazon EC2, and host your own database on these instances. When you have data sources, you'll need to extract useful data from these sources when assembling your data for machine learning. We'll look at this next. That's it for part one of this section. We'll see you again for part two where we'll review how to extract, transform, and load data.\n",
      "MoviePy - Writing audio in audios/Mod03_Sect02_part2.wav\n"
     ]
    },
    {
     "name": "stderr",
     "output_type": "stream",
     "text": [
      "                                                                      \r"
     ]
    },
    {
     "name": "stdout",
     "output_type": "stream",
     "text": [
      "MoviePy - Done.\n",
      "Successfully processed CUR-TF-200-ACMNLP-1/video/Mod03_Sect02_part2.mp4\n"
     ]
    },
    {
     "name": "stderr",
     "output_type": "stream",
     "text": [
      "Special tokens have been added in the vocabulary, make sure the associated word embeddings are fine-tuned or trained.\n"
     ]
    },
    {
     "name": "stdout",
     "output_type": "stream",
     "text": [
      " Hi, welcome back. We'll continue exploring data collection by reviewing how to extract, transform, and load data. Data is typically spread across many different systems and data providers. This presents a challenge. You'll need to bring all these data sources together into something that can be consumed by a machine learning model. You can do this through extract, transform, and load, which is also known as ETL. The steps in ETL are defined this way. In the extract step, you pull the data from the sources to a single location. During extraction, you might need to modify the data, combine matching records, or do other tasks that transform the data. Finally, in the load step, the data is loaded into a repository such as Amazon S3. A typical ETL framework has several components. As an example, consider the diagram. First, the Crawler A program connects to a data store, which can be a source or a target. It progresses through a ranked list of classifiers to determine the schema for your data. Then, it creates metadata tables in the AWS Glue Data Catalog. A job defines the business logic that's needed to perform ETL work. To run the job, you'll need to use a schedule or event. As a final note, the services we just discussed exist in the transform partition of the ETL process. AWS Glue is a fully managed ETL service that makes it simple and cost-effective to categorize your data, clean it, enrich it, and move it reliably between various data stores. AWS Glue consists of a central metadata repository known as the AWS Glue Data Catalog. This is an ETL engine that automatically generates Python or Scala code. It also provides a flexible scheduler that handles dependency resolution, job monitoring, and retries. AWS Glue is serverless, so you don't need to set up or manage any infrastructure. You can use the AWS Glue console to discover data, transform it, and make it available for search and queries. The console calls the underlying services to orchestrate the work needed to transform your data. You can also use the AWS Glue API operations to interface with the AWS Glue services. This way, you can edit, debug, and test your Python or Scala Apache Spark ETL code using a familiar development environment. AWS Glue is well-suited to machine learning because it can receive labeled data that can be used for training. Here's an example. Say that you provide AWS Glue with training data that teaches the model what duplicate records in the data source look like. Then, AWS Glue can identify the duplicates and present them for further analysis by a data engineer. AWS Glue enables the orchestration of complex ETL jobs. In the example, AWS Glue crawls the data sources and presents the information to clients as a data catalog. AWS Glue can run your ETL jobs based on an event, such as getting a new data set. For example, you can use an AWS Lambda function to trigger your ETL jobs to run as soon as new data becomes available in Amazon S3. You can also register this new data set in the AWS Glue Data Catalog as part of your ETL jobs. Although managed tools are available in AWS to manipulate data, a data scientist will also write scripts in their Jupyter notebook to handle data. A very simple extract and load script is shown here. The Imports and Variables section imports the libraries that are used. Note that Bodo3 is the library for AWS. Variables are also set here for the zip files web location and a local folder for extraction. The download and extract section makes a web request, saving the bytes from the URL as a stream. This stream is passed to the zip file function, which is then used to extract the data. With the extracted files in a folder, the upload to S3 section enumerates the folder's files and uploads each file to Amazon S3. If you discover that this script is used often, it should be migrated to a standalone function that can be imported by other Python applications. That's it for part two of this section. We'll see you again for part three where we'll review how to secure your data.\n",
      "MoviePy - Writing audio in audios/Mod03_Sect02_part3.wav\n"
     ]
    },
    {
     "name": "stderr",
     "output_type": "stream",
     "text": [
      "                                                                      \r"
     ]
    },
    {
     "name": "stdout",
     "output_type": "stream",
     "text": [
      "MoviePy - Done.\n",
      "Successfully processed CUR-TF-200-ACMNLP-1/video/Mod03_Sect02_part3.mp4\n"
     ]
    },
    {
     "name": "stderr",
     "output_type": "stream",
     "text": [
      "Special tokens have been added in the vocabulary, make sure the associated word embeddings are fine-tuned or trained.\n"
     ]
    },
    {
     "name": "stdout",
     "output_type": "stream",
     "text": [
      " Hi, welcome back. We'll continue exploring data collection by reviewing how to secure your data. It's important to consider the security of your data. Though the data sets used in this course are all public, real data about customer transactions or health records need to be kept secure. You can use AWS Identity and Access Management, which is also known as IAM. It's a service that controls access to resources. Make sure you're securing your data within AWS correctly so you can avoid data breaches. The diagram shows a simple IAM policy that allows only read access to a specific S3 bucket for the listed role. In addition to controlling access to data, you need to make sure your data is secure. It's a good practice and it might also be legally required for certain data types, such as financial data or healthcare records. AWS provides encryption features for storage services, typically for data that's at rest or in transit. You can often meet these encryption requirements by enabling encryption on the object or service you want to protect. For data in transit, you must use secure transports like Secure Sockets Layer, Transport Layer Security, or SSL TLS. Another aspect to consider is compliance audits. When dealing with data from regulated industries, you'll often need to audit access to the data. AWS CloudTrail is a service that enables governance, compliance, operational auditing, and risk auditing of your AWS account. With CloudTrail, you can log, continuously monitor, and retain account activity related to actions across your entire AWS infrastructure. CloudTrail provides an event history of your AWS account activity, including actions taken through the AWS Management Console, AWS SDKs, command line tools, and other AWS services. This event history simplifies security analysis, resource change tracking, and troubleshooting. You can also use CloudTrail to detect unusual activity in your AWS accounts. All these features can help you simplify operational analysis and troubleshooting. Here are the key takeaways for this section. We looked at the first step in solving machine learning problems, obtaining the data required to train your machine learning model. We also reviewed how ETL can be used to obtain data from multiple sources. Services like AWS Glue can make it used to obtain data from multiple sources. Services like AWS Glue can make it easy to obtain data from multiple data stores. Finally, make sure you understand your security requirements. These are based on both business need and any regulatory requirements. Also make sure your data is secure. Only authorized users should be able to access your data and it should be encrypted where possible. That's it for Section 2, we'll see you in the next video.\n",
      "MoviePy - Writing audio in audios/Mod03_Sect03_part1.wav\n"
     ]
    },
    {
     "name": "stderr",
     "output_type": "stream",
     "text": [
      "                                                                      \r"
     ]
    },
    {
     "name": "stdout",
     "output_type": "stream",
     "text": [
      "MoviePy - Done.\n",
      "Successfully processed CUR-TF-200-ACMNLP-1/video/Mod03_Sect03_part1.mp4\n"
     ]
    },
    {
     "name": "stderr",
     "output_type": "stream",
     "text": [
      "Special tokens have been added in the vocabulary, make sure the associated word embeddings are fine-tuned or trained.\n"
     ]
    },
    {
     "name": "stdout",
     "output_type": "stream",
     "text": [
      " Hi and welcome back. This is section 3 and we're going to cover how to evaluate your data. In this section, we'll look at different data formats and types. We'll also look at how you can visualize and analyze the data before feature engineering. Before you can start running statistics on your data to better understand what you're working with, you need to ensure it's in the right format for analysis. For Amazon SageMaker, algorithms support training with data in CSV format. Many of the tools you'll use to explore, visualize, and analyze the data can also read it in CSV format. Generally speaking, you'll need to have at least some domain knowledge for the problem you're trying to solve with machine learning. For example, if you're developing a model to predict if a set of symptoms indicates a disease, you'd need to know the relationship between the symptoms and the disease. Data typically needs to be in numeric form, so machine learning algorithms can use the data to make predictions. We'll look at ways you can convert text data in the next section. For now, we'll just explore the data and try to gain some insights into the overall data set. One popular open source Python library is Pandas. It can take data in various formats, reformat it, and load it into a tabular representation of your data, presenting it in rows and columns. Some of the formats that Pandas can reformat and load include CSV, Excel, Pickle, and JavaScript Object Notation, or JSON. pandas also has data analysis and manipulation features and we'll use them throughout this module loading data can be as simple as the example which pulls in the CSV file from the specified URL when you load data into pandas it's stored as a pandas dataframe. In the pandas documentation, a dataframe is described as a general 2D labeled, size mutable tabular structure with potentially heterogeneously typed column. A more helpful way to think of a dataframe is to think of it as a spreadsheet or a SQL table. Like a table or spreadsheet, a dataframe will have rows which are also known as instances, and it will have columns which are also known as attributes. The shape property of a dataframe describes the number of rows and columns it has. Each column in a dataframe is a series. A series is a one-dimensional labeled array. A series can store data of any type. To learn more about data structures in Pandas, see the Pandas documentation. Along with data, you can load a data frame with row labels and column labels. The row labels are known as an index, and the column labels are known as columns. If you loaded your data from a CSV file with a header row, the columns will be created from the first line of the file. You can change that behavior, however. If you don't have column names in the source file, you can pass them as a parameter. When performing data analysis, it's important to make sure you're using the correct data types. In many cases, Pandas will correctly infer the correct data types when it loads data, and you can move on. If you have domain knowledge or access to a domain expert, they can often identify data type issues. You can use either D types or the info function to obtain information on the column types as shown in the example. If you don't have the correct data types, you need to figure out why this is the case. Often a numeric column could have been missing data or it could be a single text value. For example, in the car dataset, the number of doors can be 2, 3, 4, or 5 more. After you've analyzed the data, you can convert a column to the correct data type using Pandas. That's it for part 1 of this section. We'll see you again for part 2, where we'll review how to describe your data.\n",
      "MoviePy - Writing audio in audios/Mod03_Sect03_part2.wav\n"
     ]
    },
    {
     "name": "stderr",
     "output_type": "stream",
     "text": [
      "                                                                      \r"
     ]
    },
    {
     "name": "stdout",
     "output_type": "stream",
     "text": [
      "MoviePy - Done.\n",
      "Successfully processed CUR-TF-200-ACMNLP-1/video/Mod03_Sect03_part2.mp4\n"
     ]
    },
    {
     "name": "stderr",
     "output_type": "stream",
     "text": [
      "Special tokens have been added in the vocabulary, make sure the associated word embeddings are fine-tuned or trained.\n"
     ]
    },
    {
     "name": "stdout",
     "output_type": "stream",
     "text": [
      " Hi, welcome back. We'll continue exploring how to describe your data. Now that your data is in a readable format, you can perform descriptive statistics on the data to better understand it. Descriptive statistics help you gain valuable insights into your data so that you can effectively pre-process the data and prepare it for your ML model. We'll look at how you can do that and discuss why it's so important. First, descriptive statistics can be organized into a few different categories. Overall statistics include the number of rows and the number of columns in your dataset. This information, which relates to the dimensions of your data, is very important. For example, it can indicate that you have too many features, which can lead to high dimensionality and poor model performance. Attribute statistics are another type of descriptive statistic, specifically for numeric attributes. They're used to get a better sense of the shape of your attributes. This includes properties like the mean, standard deviation, variance, and minimum and maximum values. If you need to look at relationships between more than one variable, you can consider multivariate statistics. They mostly relate to the correlations and relationships between your attributes. For cases when you have multiple variables or features, you might want to look at the correlations between them. It's important to identify correlations between attributes because a high correlation between two attributes can sometimes lead to poor model performance. When features are closely correlated and they're all used in the same model to predict the response variable, there could be problems. For example, the model loss might not converge to a minimum state. So be aware of highly correlated features in your dataset. Mean and median are two different measures describing the extent that your data is clustered around some value or position. Mean can be a useful method for understanding your data when the data is symmetrical. However, if your data is skewed or contains outliers, then median tends to provide the better metric for understanding your data as it relates to central tenancy. For instance, if you have outliers with large values, the mean can be skewed one way, and it wouldn't serve as an accurate representation of where your values are truly centered. Median isn't affected by outliers in the same way. We'll talk more about outliers soon. Statistics are available, and they can be viewed on numerical data by using methods such as DESCRIBE. There are also other methods to calculate the mean, median, and others. You can also view statistics on single or multiple columns. You can even group data by specific values. For categorical attributes, you can look at the frequency of attribute values in your dataset. That information will give you some idea about what is inside that categorical variable. The diagram here shows the car dataset, which is made up of several categorical values, buying, maint, lug boot, safety, and class. Safety can be either low, medium, or high. From the describe function, you can see that there are three unique values, with low being the most frequent. values, with low being the most frequent. Looking at the class column, it appears that the top value of the four is UNACC, which stands for unaccounted. This accounts for 1,210 of the 1,728 values, or 70%. This might suggest an imbalance. For a target variable that's also of a categorical type, you can look at the class distribution to see whether there's a class imbalance in your dataset. Imbalanced data can mark a disproportionate ratio for your classes. For instance, your dataset is made up of credit card transactions, but only a tenth of a percent is labeled as fraud. In this case, your algorithm might not learn well enough to predict examples of credit card fraud. Visualization could help you gain insights into your data that you might not be aware of otherwise. A histogram is often a good visualization technique for seeing the overall behavior of a particular feature. With a histogram, you can answer questions like, is the feature data normally distributed? How many peaks are there in the data? Is there any skewness for that particular feature? When using histograms for your data visualization, values are binned. The taller peaks of the histogram indicate the most common values. For numerical features, you can use density plots and box plots, in addition to histograms, to get an idea of what's inside that particular feature. Like a histogram, these visualizations will help you answer questions like, what's the range of the data? The peak of the data? Are there any outliers? Are there any special features? Answering these questions helps you understand your data better and can also help you decide if you need to do more specialized data preprocessing. A box plot is a method for graphically depicting groups of numerical data through their quartiles. When you have more than two numerical variables in a feature dataset, you might want to look at their relationship. A scatter plot is a good way to identify any special relationships among those variables. In this case, the left diagram has sulfates and alcohol. They are two numerical variables. In this case, the left diagram has sulfates and alcohol. They are two numerical variables. Suppose you want to show the relationship between these variables. You can use a scatter plot to help you visualize that. There are plots scattered around, and the correlation among them might not be that high because the data is scattered. However, you might find some relatively positive relationships between the two variables. Scatter plot matrices help you look at the relationship between multiple different features. In Pendis, you can easily create scatter plot matrices based on the columns you want to look at. This example has three columns, and it will give the pairwise scatterplot for any two columns. With a scatterplot, you might want to identify special regions that a particular subset of data could fit into. In the example, is there a relationship between alcohol sulfates and quality? You could plot those values against good and poor quality wines like the example. Plotting gives you an idea of how useful particular variables can be if you're using them for a classification problem. That's it for part 2 of this section. We'll see you again for part 3 where we'll review correlations and the takeaways for this section.\n",
      "MoviePy - Writing audio in audios/Mod03_Sect03_part3.wav\n"
     ]
    },
    {
     "name": "stderr",
     "output_type": "stream",
     "text": [
      "                                                                      \r"
     ]
    },
    {
     "name": "stdout",
     "output_type": "stream",
     "text": [
      "MoviePy - Done.\n",
      "Successfully processed CUR-TF-200-ACMNLP-1/video/Mod03_Sect03_part3.mp4\n"
     ]
    },
    {
     "name": "stderr",
     "output_type": "stream",
     "text": [
      "Special tokens have been added in the vocabulary, make sure the associated word embeddings are fine-tuned or trained.\n"
     ]
    },
    {
     "name": "stdout",
     "output_type": "stream",
     "text": [
      " Hi, welcome back. Now we'll review how to find correlations in your dataset. How can you quantify the linear relationship among the variables you're seeing in a scatterplot? A correlation matrix is a good tool in this situation. It conveys both the strong and weak linear relationships among numerical variables. Correlation can go as high as 1 or as low as minus 1. When the correlation is 1, this means those two numerical features are perfectly correlated with each other. It's like saying y is proportional to x. When the correlation of those two variables is minus one, it's like saying y is proportional to minus x. Any linear relationship in between can be quantified by the correlation. So if the correlation is zero, this means there's no linear relationship. But it doesn't mean that there's no relationship, it's just an indication that there's no linear relationship between those two variables. However, looking at a number isn't always straightforward. Often it's easier to view the numbers when they're represented by colors. Now we'll look at the heat map. The highest number, 1, in dark green, and minus 1 is in dark brown. The color gives you both the positive and negative directions, and it also shows how strong the correlations are. We can use the seaborne heat map function to show the correlation matrix. Looking at the chart, there's some correlation between citric acid and fixed acidity. That would be expected in wine because citric acid contributes to the acidity of the wine. However, there isn't much correlation between fixed acidity and pH. pH is a measurement of the strength of those acids present, but fixed acidity is a measure of the quantity. In this particular dataset, there doesn't appear to be a correlation here. Some key takeaways from this section of the module include these points. The first step is to get your data into a format that can be used easily. PENDIS is a popular Python library for working with data. Descriptive statistics will help you gain insights into the data. You can use visualizations to examine the dataset in more detail. That's it for this section, we'll see you again in the next video.\n",
      "MoviePy - Writing audio in audios/Mod03_Sect04_part1.wav\n"
     ]
    },
    {
     "name": "stderr",
     "output_type": "stream",
     "text": [
      "                                                                      \r"
     ]
    },
    {
     "name": "stdout",
     "output_type": "stream",
     "text": [
      "MoviePy - Done.\n",
      "Successfully processed CUR-TF-200-ACMNLP-1/video/Mod03_Sect04_part1.mp4\n"
     ]
    },
    {
     "name": "stderr",
     "output_type": "stream",
     "text": [
      "Special tokens have been added in the vocabulary, make sure the associated word embeddings are fine-tuned or trained.\n"
     ]
    },
    {
     "name": "stdout",
     "output_type": "stream",
     "text": [
      " Hi, and welcome to section 4. In this section, we're going to look at feature engineering. Feature engineering is one of the most impactful things you can do to improve your machine learning model. We'll now look at what it is. There are two things that can help make your models more successful. The first is feature selection and the second is feature extraction or the process of creating features. In feature selection you select the most relevant features and discard the rest. You can apply feature selection to prevent redundancy or irrelevance in the existing features. You can also use it to limit the number of features to help prevent overfitting. Feature extraction builds valuable information from raw data by reformatting, combining, and transforming primary features into new ones. This process continues until it yields a new data set that can be consumed by the model to achieve your goals. As the diagram shows, feature extraction covers a range of activities, from dealing with missing data to converting text data into numerical data. Although the list isn't exhaustive, it should give you some idea of the data handling that's needed to get data into a useful state. Many of the tasks are no different than any other job working with data. You'll want to make sure data is in the correct format, that it's consistently represented, correctly spelled, among other tasks. For example, you might combine data or extract data into multiple columns. Or you could also remove columns altogether. Specific to machine learning, you'll need to convert text columns to numerical values. You'll also need to decide how to handle outliers and potentially rescale your data. Next, we'll look at some of the more common tasks in this section. Most machine learning algorithms work best with numerical data. You'll need to make sure that all columns in your dataset contain numeric data by converting or encoding it. You might need to make several passes through the data sheet before you can encode it. For example, you might have variability in the text values, such as rows that contain both medium and MED as values. If the categorical data has order to it, you'll want to encode the text into numerical values that capture this ordinal relationship. Say you have data showing maintenance costs. You might encode low to 1, medium to 2, high to 3, and very high to 4. to 4. After you've made sure your categorical data is all uniform, you can use tools like SkyKit Learn and Pandas to encode your data. If the categorical data doesn't have any order to it, then you'll need to break the data into multiple columns. This will help make sure you don't introduce an ordinal relationship to the data that isn't there. For example, suppose you assigned a value of 1 to the first color, such as red, and you then assigned 2 to the next value, say blue. The model could interpret blue as being more important than red because blue has a higher numeric value. Encoding non-ordinal data into multiple columns or features is a better way. Think of the new features like a checkbox. Consider the example. There are three features that were generated. The value 1 indicates that the instance has that feature, like its color. That's it for this section. We'll see you again in the next video.\n",
      "MoviePy - Writing audio in audios/Mod03_Sect04_part2.wav\n"
     ]
    },
    {
     "name": "stderr",
     "output_type": "stream",
     "text": [
      "                                                                      \r"
     ]
    },
    {
     "name": "stdout",
     "output_type": "stream",
     "text": [
      "MoviePy - Done.\n",
      "Successfully processed CUR-TF-200-ACMNLP-1/video/Mod03_Sect04_part2.mp4\n"
     ]
    },
    {
     "name": "stderr",
     "output_type": "stream",
     "text": [
      "Special tokens have been added in the vocabulary, make sure the associated word embeddings are fine-tuned or trained.\n"
     ]
    },
    {
     "name": "stdout",
     "output_type": "stream",
     "text": [
      " Hi, welcome back. We'll continue exploring feature engineering by reviewing how to clean your dataset. In addition to converting string data to numerical data, you'll need to clean your dataset for several other potential problem areas. Before encoding the string data, make sure the strings are all consistent. You'll also need to make sure variables use a consistent scale. For example, if one variable describes the number of doors in a car, the scale will probably be between 2 and 8. But if another variable describes the number of cars of a particular type sold in the state of California, the scale will type sold in the state of California, the scale will probably be in the thousands. Some data items might also capture more than one variable in a single value. For instance, suppose the dataset includes variables that combine safety and maintenance into a single variable, such as safe high maintenance. single variable, such as safe high maintenance. You'll need to train your machine learning system for both variables and also split that single variable into two separate variables. You might also encounter data sets that are missing data for some variables, and some data sets will include outliers. We'll cover techniques for dealing with these situations in this section. You might find that data is missing. For example, some columns in your data set could be missing data because of a data collection error, or maybe data wasn't collected on a particular feature until the data collection process was underway. Missing data can make it difficult to accurately interpret the relationship between the related feature and the target variable. So regardless of how the data ended up being missed, it's important for you to deal with this issue. Unfortunately, most machine learning algorithms can't handle missing values automatically. You'll need to use human intelligence to update missing values with data that's meaningful and relevant to the problem. Most Python libraries for data manipulation include functions for finding missing data. So how do you decide if you should drop or impute missing values. This question is answered in part by better understanding how those values came to be missing in the first place and how much data the missing values represent within your larger data set. For instance, say the missing values are randomly spread throughout your data set and don't represent a larger portion of its respective row or column. In this case, imputation is most likely the better option. In contrast, say that you have a column or row that has a large percentage of missing values. In this case, dropping the entire row or column would be preferred over imputation. If you decide to drop rows with missing data, you can use built-in functions to do this. For example, Panda's dropNa function can drop all rows with missing data, or you can drop specific data values by using a subset. As an alternative to dropping missing values, you can impute values for those missing values. There are different ways to impute a missing value. For categorical values, the missing value is usually replaced with the mean, the median, or the most frequent values. For numerical or continuous variables, the missing value is usually replaced with the mean or the median. You can impute a single row of missing data, which is known as univariate. You can also do this for multiple rows, which is known as multivariate. We'll now look at a univariate example. Here the scikit-learn imputer function is being used to impute some missing values. It's a fairly small dataset, but there are two missing values. The missing value was imputed by the strategy of the mean. To do this, you first calculate the mean. Here it's the mean of 3 and 2, which is 2.5. Then you'll impute the mean value for the missing value. Some data libraries include an impute package that provides more complex ways to impute data. Examples include k-nearest-neighbor, soft impute, multiple imputation by chain equations, and others. That's it for part 2 of this section. We'll see you again for part 3 where we'll review how to work with outliers in your data.\n",
      "MoviePy - Writing audio in audios/Mod03_Sect04_part3.wav\n"
     ]
    },
    {
     "name": "stderr",
     "output_type": "stream",
     "text": [
      "                                                                      \r"
     ]
    },
    {
     "name": "stdout",
     "output_type": "stream",
     "text": [
      "MoviePy - Done.\n",
      "Successfully processed CUR-TF-200-ACMNLP-1/video/Mod03_Sect04_part3.mp4\n"
     ]
    },
    {
     "name": "stderr",
     "output_type": "stream",
     "text": [
      "Special tokens have been added in the vocabulary, make sure the associated word embeddings are fine-tuned or trained.\n"
     ]
    },
    {
     "name": "stdout",
     "output_type": "stream",
     "text": [
      " Hi, welcome back. We'll continue exploring feature engineering by describing how to work with outliers. You might also need to clean your data based on any outliers that exist. Outliers are points in your dataset that lie at an abnormal distance from other values. They're not always something you want to clean up because they can add richness to your dataset. But they can also make it harder to make accurate predictions because they skew values away from the other, more normal values related to that feature. An outlier might also indicate that the data point actually belongs to another column. You can think of outliers as falling into two broad categories. might also indicate that the data point actually belongs to another column. You can think of outliers as falling into two broad categories. The first is a single variation for just a single variable, or a univariate outlier. The second is a variation of two or more variables, or a multivariate outlier. One of the more common ways to find univariate outliers is with a box plot. A box plot shows how far a data point is to the mean for that variable. The box in the plot shows the data values within two quartiles of the mean. Values outside that range are represented by the lines extending from the box, which are sometimes called whiskers. A scatter plot can be an effective way to see multivariate outliers. For example, this diagram shows the amount of sulfates and alcohol in a collection of wines. With the scatter plot, you can quickly visualize whether there are multivariate outliers for the two variables. The origin of your outlier will most likely inform how you deal with it during this pre-processing phase of the pipeline, or possibly later during feature engineering. There are several different approaches to dealing with outliers. You could delete the outlier if your outlier is based on an artificial error. This means the outlier isn't natural and was introduced because of some failure like incorrectly entered data. You could also transform the outlier by taking the natural log of a value. This, in turn, reduces the variation caused by the extreme outlier value, which would then reduce the outlier's influence on the overall dataset. Finally, you could use the mean of the feature and impute that value to replace the outlier value. Again, this would be a good approach if the outlier was caused by artificial error. This isn't an exhaustive list, but it describes the most common options. After you've extracted features, you'll need to select the most appropriate features for training your model. There are three main feature selection methods. Filter methods use statistical methods to measure the relevance of features by their correlation with the target variable. Wrapper methods measure how useful a subset of a feature is. They do this by training a model on the feature and then measuring how successful the model is. Filters are faster and cheaper than wrapper methods because they don't involve training the models repeatedly. Wrappers typically find the best subset of features, but there's a risk of overfitting compared to using subsets of features from filter methods. Embedded methods are algorithm-specific, and they might use a combination of both filters and wrappers. Filter methods use a proxy measure instead of the actual model's performance. They're fast to compute, but they can still capture how useful the feature set is. Here are some common measures. The first is Pearson's correlation coefficient, which measures the statistical relationship or association between two continuous variables. The second is linear discriminant analysis, or LDA. This is used to find a linear combination of features that separates two or more classes. The third is analysis of variance, or ANOVA. This is used to analyze the differences among group means in a sample. And finally, chi-square is a single number that tells you how much difference exists between your observed counts and the counts you'd expect if there were absolutely no relationships in the population. Filters are usually less computationally intensive than wrappers, but they produce a feature set that isn't tuned to a specific type of predictive model. This lack of tuning means a feature set from a filter is more general than one from a wrapper. The filter also usually has a lower prediction performance than a wrapper. lower prediction performance than a wrapper. However, the filter's feature set doesn't contain the assumptions of a prediction model, so it's more useful for exposing relationships between features. Many filters provide feature ranking instead of an explicit best feature subset, and the cutoff point in the ranking is chosen through cross-validation. Filters have also been used as a pre-processing step for wrappers, which enables a wrapper to be used on larger problems. Wrapper methods use a predictive model to score feature subsets. Each new subset is used to train a model, which is then tested on a holdout set. The score for that subset is calculated by counting the number of mistakes made on that holdout set, The score for that subset is calculated by counting the number of mistakes made on that holdout set, or the error rate of the model. Because wrappers train a new model for each subset, they're computationally intensive. However, they usually provide the best performing feature set for that particular type of model or problem. Forward selection starts with no features and adds them until the best model is found. Backward selection starts with all features, drops them one at a time, and then selects the best model. Embedded methods combine the qualities of filter and wrapper methods. They're implemented by algorithms that have their own built-in feature selection methods. Some of the most popular examples of these methods are lasso and ridge regression. They have built-in penalization functions to reduce overfitting. Here are some key takeaways from this section of the module. First, feature engineering involves selecting the best features for machine learning. Pre-processing gives you better data to work with, and better data typically provides better results. Two categories for preprocessing are converting data to numerical values and cleaning up dirty data by removing missing data and cleaning outliers. Finally, how you handle dirty data impacts your model. That's it for Section 4. We'll see you in the next video.\n",
      "MoviePy - Writing audio in audios/Mod03_Sect05.wav\n"
     ]
    },
    {
     "name": "stderr",
     "output_type": "stream",
     "text": [
      "                                                                        \r"
     ]
    },
    {
     "name": "stdout",
     "output_type": "stream",
     "text": [
      "MoviePy - Done.\n",
      "Successfully processed CUR-TF-200-ACMNLP-1/video/Mod03_Sect05.mp4\n"
     ]
    },
    {
     "name": "stderr",
     "output_type": "stream",
     "text": [
      "Special tokens have been added in the vocabulary, make sure the associated word embeddings are fine-tuned or trained.\n"
     ]
    },
    {
     "name": "stdout",
     "output_type": "stream",
     "text": [
      " Hi, welcome back to module 3. This is section 5 on training. In this section, we're going to look at how to select a model and train it with the data we have preprocessed. At this point, you've done a lot to clean and prepare your data, but that doesn't mean your data is completely ready to train the algorithm. Some algorithms may not be able to work with training data in a data frame format. Some file formats, like CSV, are commonly used by various algorithms, but they do not make use of that optimization that some of the file formats, like RecordIO Protobuf, can use. Many Amazon SageMaker algorithms support training with data in a CSV format. Amazon SageMaker requires that a CSV file doesn't have a header record and that the target variable is in the first column. Most Amazon SageMaker algorithms work best when you use the optimized protobuf record I-O format for the training data. Using this format allows you to take advantage of pipe mode when training the algorithms that support it. In pipe mode, your training job streams data directly from Amazon S3. When using the CSV format, the target variable in your training dataset should be the first column on the left and your features should be to the right of the target variable column. Evaluating a model with the same data that it trained on will lead to overfitting. Recall overfitting is where your model learns the particulars of a dataset too well. It's essentially memorizing the training data, rather than learning the relationships between features and labels. This means the model isn't learning from those relationships and patterns to apply them to new data in the future. Holdout is when you split your data into multiple sets, commonly sets for training data, validation data, and testing data. Training data, which includes both features and labels, feeds into the algorithm you've selected to produce your model. You then use the model to make predictions over the validation dataset, which is where you'll likely notice things you'll want to tweak, and tune, and change. Then, when you're ready, you run the test dataset, which only includes features since you want the labels to actually be predicted. The performance you get here with the test dataset is what you can reasonably expect to see in production. A common split when using the holdout method is using 80% of the data for a training set, 10% for validation, and 10% for test. Or if you have a lot of data, you can split it into 70% training, 15% validation, and 15% test. So for a small dataset, we can use k-fold cross-validation to utilize as much of the data as possible, while still having relatively good metrics, in order to choose which model is better. K-fold cross-validation randomly partitions the data into K different segments. For each segment, we'll use the rest of the data outside of it for training in order to do a validation on that particular segment. Let's look at an example. Here we have a 5-fold cross-validation. The available training data is separated into five different chunks. For the training of the first model, we are using all those chunks as the training data, and then we are going to calculate the metrics on this test piece. For the second model, we are going to use these pieces as training. After the model is trained, you apply it to this test piece. We do the same thing five times. We use all the training data and we test it on five different models on different chunks of the test data, eventually testing it on all data points. One other thing to note about splitting your data, data in a specific order can lead to biases on your model. This is especially true if you're working with structured data. For example, the wine data is ordered by the quality column. When you run your model against your test data, this ordered pattern will be applied, biasing the model. It might also mean that some targets are missing from the training data. Typically, randomizing your data set prior to splitting is sufficient, and many libraries will provide functions for this. With smaller sets, it is sometimes useful to use stratified sampling. Stratified sampling ensures that the training and test sets have approximately the same percentage of samples of each target class as the complete set. An internet search will give you many ways to shuffle and split the data. One of the easiest is to use the train test split function from sklearn. Amazon SageMaker provides four different ways you can train models. The built-in algorithms available can be easily deployed from the AWS console, CLI, or a Jupyter notebook. Containers are used behind the scenes when you use one of the Amazon SageMaker built-in algorithms, but you do not have to deal with them directly. Amazon SageMaker supported frameworks provide pre-built containers to support deep learning frameworks such as Apache MXNet, TensorFlow, PyTorch, and Chainer. It also supports machine learning libraries such as Skykit Learn and SparkML by providing pre-built Docker images. If you use the Amazon SageMaker Python SDK, they are deployed using their respective Amazon SageMaker SDK estimator class. If there is no pre-built Amazon SageMaker container image that you can use or modify for an advanced scenario, you can package your own script or algorithm to use with Amazon SageMaker. You can use any programming language or framework to develop your container. For an example, if your team works and builds ML models in R, you can build your own containers to train and host an algorithm in R as well. Someone else may have already developed and tuned a model. It is worth looking in the AWS marketplace to find available models. Amazon SageMaker provides high-performance, scalable machine learning algorithms optimized for speed, scale, and accuracy. algorithms optimized for speed, scale, and accuracy. For supervised learning, Amazon SageMaker includes XGBoost and Linear Learner algorithms for classification and quantitative problems. There is also a factorization machine to address recommendation and time series prediction problems. Amazon SageMaker includes support for unsupervised learning, such as with K-means clustering, and principal component analysis, PCA, to solve problems like identifying customer groupings based on purchasing behavior. Finally, there are a selection of specialized algorithms for processing images and other deep learning tasks. Let's look a little closer at three of the most commonly used built-in algorithms and their use cases. XGBoost, or Extreme Gradient Boosting, is a popular and efficient open-source implementation of the Gradient Boosted Trees algorithm. Gradient boosting is a supervised learning algorithm that attempts to accurately predict a target variable by combining an ensemble of estimates from a set of simpler, weaker models. XGBoost has done remarkably well in machine learning competitions because it robustly handles a variety of data types, relationships, and distributions. The large number of hyperparameters can be tweaked and tuned for improved fit. This flexibility makes XGBoost a solid choice for problems in regression, classification and ranking. The Amazon SageMaker Linear Learner algorithm provides a solution for both classification and regression problems. With the Amazon SageMaker algorithm, you can simultaneously explore different training objectives and choose the best solution from your validation set. You can also explore a large number of models and choose the best one for your needs. Compared with methods that provide a solution for only continuous objectives, the Amazon SageMaker Linear Learner algorithm provides a significant increase in speed over naive hyperparameter optimization techniques. K-Means is an unsupervised learning algorithm. It attempts to find discrete groupings within data where members of a group are as similar as possible to one another and as different as possible from members of other groups. You define the attributes that you want the algorithm to use to determine similarity. To train a model in Amazon SageMaker, you create a training job. The training job includes the URL of the Amazon S3 bucket where you stored the training data, the URL of the S3 bucket where you want to store the output of the job. The Amazon Elastic Container Registry path where the training code is stored. The compute resources that you want Amazon SageMaker to use for model training. Compute resources are ML compute instances managed by Amazon SageMaker. Amazon SageMaker provides a selection of instance types optimized to fit different machine learning use cases. Instance types comprise varying combinations of CPU, GPU, memory, and networking capacity, and give you the flexibility to choose the appropriate mix of resources for building, training, and deploying your ML models. Each instance type includes one or more instance sizes, allowing you to scale your resources to the requirements of your target workload. Some key takeaways from this section of the module include split data into training and testing sets helps you validate the model's accuracy. K-fold cross-validation can help with smaller data sets. Two key algorithms for supervised learning are XGBoost and LinearLearner. Use K-means for unsupervised learning. And use Amazon SageMaker to train models. That's it for Section 5, I hope to see you in the next video.\n",
      "MoviePy - Writing audio in audios/Mod03_Sect06.wav\n"
     ]
    },
    {
     "name": "stderr",
     "output_type": "stream",
     "text": [
      "                                                                      \r"
     ]
    },
    {
     "name": "stdout",
     "output_type": "stream",
     "text": [
      "MoviePy - Done.\n",
      "Successfully processed CUR-TF-200-ACMNLP-1/video/Mod03_Sect06.mp4\n"
     ]
    },
    {
     "name": "stderr",
     "output_type": "stream",
     "text": [
      "Special tokens have been added in the vocabulary, make sure the associated word embeddings are fine-tuned or trained.\n"
     ]
    },
    {
     "name": "stdout",
     "output_type": "stream",
     "text": [
      " Hi and welcome back. This is section 6 and we're going to look at hosting and using the model. In this section, we'll look at how you can deploy your trained model so it can be consumed by applications. After you've trained, tuned, and tested your model you'll learn more about testing in the next section, you're now ready to deploy your model. If you're thinking that we're looking at the phases out of order, here's why we're discussing deployment now. If you want to test your model and get performance metrics from it, you first need to make an inference or prediction from the model, and this typically requires deployment. Deployment for testing is different from production, although the mechanics are the same. Amazon SageMaker provides everything you need to host your model for simple testing and evaluation, from a few requests to deployments handling tens of thousands of requests. There are two ways you can deploy your model. For single predictions, you can deploy your model with Amazon SageMaker hosting services. SageMaker will deploy multiple compute instances, which run your model behind a load-balanced endpoint. Applications can call the API at the endpoint to make predictions. With this model, you can scale the number of instances up or down based on demand. To get predictions for an entire dataset, use Amazon SageMaker Batch Transform. Instead of deploying and maintaining a permanent endpoint, SageMaker will spin up your model and perform the predictions for the entire dataset you provide. It will then store the results in Amazon S3 before it shuts down and terminates the compute instances. It's useful for performing batch predictions when you test the model. You can quickly run your entire validation set against the model without writing any code to process and collate the individual results. The goal of the deployment phase is to provide a managed environment to host models for providing inference securely and with low latency. After your model is deployed into production, you should monitor your production data and retrain your model if necessary. Newly deployed models need to reflect the current production data. New data is accumulated over time and it could potentially identify alternative or new outcomes. And so deploying a model is not a one-time exercise. Instead, it's a continuous process. With one click, you can deploy your model on Amazon ML instances that can automatically scale across multiple availability zones for higher redundancy. Just specify the type of instance and the maximum and minimum number of instances desired. SageMaker will take care of the rest. It will launch the instances, deploy your model, and set up the secure HTTPS endpoint for your application. secure HTTPS endpoint for your application. Your application only needs to include an API call to this endpoint to achieve inference with low latency and high throughput. With this architecture, you can integrate your new models into your application in minutes because changes to the model no longer need changes to the application code. SageMaker manages your production compute infrastructure on your behalf. It can perform health checks, apply security patches, and conduct other routine maintenance, all with built-in Amazon CloudWatch monitoring and logging. After you've trained the model, you can create the endpoint either in code or by using the SageMaker console. If you're planning to host only a single model, you can create an endpoint for that model. But if you're planning to host multiple models, you need to create a multi-model endpoint. Multi-model endpoints provide a scalable and cost-effective solution for deploying large numbers of models. They use a shared serving container that's enabled to host multiple models. This reduces hosting costs by improving endpoint utilization compared to using single model endpoints. It also reduces deployment overhead because SageMaker manages loading models in memory and scaling the models based on the traffic patterns to them. When you deploy machine learning models into production to make predictions on new data, you need to make sure you apply the same data processing steps that were used in training to each inference request. Otherwise, you can get incorrect prediction results. By using inference pipelines, you can reuse the data processing steps from model training during inference without maintaining two separate copies of the same code. This helps ensure the accuracy of your predictions and reduces development overhead. Because SageMaker is a managed service, inference pipelines are completely managed. When you deploy the pipeline model, the service installs and runs the sequence of containers on each EC2 instance in the endpoint or each batch transform job. Additionally, the sequence of feature processing and inference runs with low latency because the containers are collated on the same EC2 instances. Some key takeaways from this section of the module include these points. You can deploy your trained model by using SageMaker to handle API calls from applications or to perform predictions using a batch transformation. The goal of your model is to generate predictions to answer the business problem. Be sure that your model can generate good results before you deploy to production. Finally, use multi-model endpoint support to save resources when you have multiple models to deploy. That's it for this section. We'll see you in the next video.\n",
      "MoviePy - Writing audio in audios/Mod03_Sect07_part1.wav\n"
     ]
    },
    {
     "name": "stderr",
     "output_type": "stream",
     "text": [
      "                                                                      \r"
     ]
    },
    {
     "name": "stdout",
     "output_type": "stream",
     "text": [
      "MoviePy - Done.\n",
      "Successfully processed CUR-TF-200-ACMNLP-1/video/Mod03_Sect07_part1.mp4\n"
     ]
    },
    {
     "name": "stderr",
     "output_type": "stream",
     "text": [
      "Special tokens have been added in the vocabulary, make sure the associated word embeddings are fine-tuned or trained.\n"
     ]
    },
    {
     "name": "stdout",
     "output_type": "stream",
     "text": [
      " Hi, welcome back to module 3. In this section, we'll look at how you can evaluate your model's success in predicting results. At this point, you've trained your models. It's now time to evaluate that model to determine if it will do a good job predicting the target on new and future data. Because future instances have unknown target values, you need to assess how the model will perform on data where you already know the target answer. You'll then use this assessment as a proxy for performance on future data. This is the reason why you hold out a sample of your data for evaluating or testing. An important part of this phase involves choosing the most appropriate metric for your business situation. Think back to the earlier section on problem formulation. During that phase, you define your business problem and outcome, and then you craft a business metric to evaluate success. The model metric you choose at this phase should be linked to that business metric as much as possible. There's often a high correlation between the two metrics. In addition to considering your business problem and success metric, the type of ML problem you're working with will influence the model metric you choose. Throughout the rest of this module, we'll look at examples of common metrics used in classification problems. We'll also look at common metrics used in regression problems. We're going to start by considering a simple binary classification problem. Here's a specific example. Imagine that you have a simple image recognition model that's labeling data as either cat or not cat. After the model's been trained, you can use the test dataset you held back to perform predictions. To help examine the performance of the model, you can compare the predicted values with the actual values. If you plot the values into a table like the example, you can start getting some insights into how well the model performed. In a confusion matrix, you can get a high-level comparison of how the predicted class is matched up against the actual classes. If the actual label or class is cat, which is identified as P for positive, and the predicted label or class is also cat, then you have a true positive. This is a good outcome for your model. Similarly, if you have an actual label of not cat, which is identified as N for negative, and the predicted label or class is also not cat, then you have a true negative. This is also a good outcome for your model. In both these cases, your model predicted the correct outcome when it used the testing data. There are two other possible outcomes, and both aren't considered good outcomes. The first one is when the actual class is negative, so you got not cat, but the predicted class is positive, or cat. This is called a false positive because the prediction is positive but incorrect. Finally, there are false negatives. These happen when the actual class is positive, so you got cat, but the predicted class is negative, or not cat. That's it for part one of this section. We'll see you again for part two where we'll review calculating classification metrics.\n",
      "MoviePy - Writing audio in audios/Mod03_Sect07_part2.wav\n"
     ]
    },
    {
     "name": "stderr",
     "output_type": "stream",
     "text": [
      "                                                                      \r"
     ]
    },
    {
     "name": "stdout",
     "output_type": "stream",
     "text": [
      "MoviePy - Done.\n",
      "Successfully processed CUR-TF-200-ACMNLP-1/video/Mod03_Sect07_part2.mp4\n"
     ]
    },
    {
     "name": "stderr",
     "output_type": "stream",
     "text": [
      "Special tokens have been added in the vocabulary, make sure the associated word embeddings are fine-tuned or trained.\n"
     ]
    },
    {
     "name": "stdout",
     "output_type": "stream",
     "text": [
      " Hi, welcome back. We'll continue exploring how to evaluate your model. The diagram shows the confusion matrix of how two different models performed on the same data. Can you tell which one's better? Which is better isn't a good question to ask. What do you mean by better? Does better mean making sure you find all the cats? Even if it means you'll get many false positives? Or does better mean making sure the model is the most accurate? It's difficult to see just by looking at the two charts. What if you're trying several models, using multiple folds, and have hundreds of data points to compare? To do that, you'll need to calculate more metrics. The first metric is sensitivity. This is sometimes referred to as recall, hit rate, or true positive rate. Sensitivity is the percentage of positive identifications. In the cat example, it represents what percentage of cats were correctly identified. To calculate sensitivity, take the number of true positives, or the number of positive identifications of cats, and divide that by the total number of actual cats. In this example, 60% of cats that were cats were correctly identified as cats. Specificity is sometimes referred to as selectivity or true negative rate. Specificity is the percentage of negatives correctly identified. In the cat example, this is the number of images that were not cats that were correctly identified as not cats. To calculate specificity, take the number of true negatives and divide that by the total number of actual negatives. So for the example, that's the number of not cats that were correctly identified divided by the total number of actual not cats. This means that in the example 64% of not-cats were identified as not-cats. Now that you have these metrics for each model, knowing what your business goal is makes it easier to decide which model to use. Which model would you choose if you wanted to make sure you'll identify as many cats as possible? Model B would be a good answer, if you're not concerned about having many false positives, that is. If you're not concerned about having incorrectly identified not-cats. Which model would you choose if you wanted to make sure you identified animals that were not cats? Model A might work for this scenario. Again, it would depend on how many false negatives you can tolerate. If this was a classification of patients who had heart disease or not, which model would be best? This is where it gets interesting. A fun website might get a bad reputation if it can't identify cats correctly, but if you're trying to diagnose patients, your focus will probably be very different. It's important to understand the trade-offs you're making when you decide which model to use. There are also other metrics that can help you make your decisions. That's it for part 2 of this section. We'll see you again for part 3 where we'll start looking at thresholds.\n",
      "MoviePy - Writing audio in audios/Mod03_Sect07_part3.wav\n"
     ]
    },
    {
     "name": "stderr",
     "output_type": "stream",
     "text": [
      "                                                                        \r"
     ]
    },
    {
     "name": "stdout",
     "output_type": "stream",
     "text": [
      "MoviePy - Done.\n",
      "Successfully processed CUR-TF-200-ACMNLP-1/video/Mod03_Sect07_part3.mp4\n"
     ]
    },
    {
     "name": "stderr",
     "output_type": "stream",
     "text": [
      "Special tokens have been added in the vocabulary, make sure the associated word embeddings are fine-tuned or trained.\n"
     ]
    },
    {
     "name": "stdout",
     "output_type": "stream",
     "text": [
      " Hi, welcome back. We'll continue exploring how to evaluate your model. Classification models are going to return a probability for the target. This is a value of the input belonging to the target class, and it will be between 0 and 1. To convert the value to a class, you need to determine the threshold to use. You might think it's 50%, but you could change it to be lower or higher to improve your results. As you've seen with sensitivity and specificity, there's a trade-off between correctly and incorrectly identifying classes. Changing the threshold can impact that outcome. We're going to take a look at how you can visualize this. A receiver operating characteristic graph is also known as an ROC graph. It summarizes all the confusion matrices that each threshold produced. To build one, you calculate and plot the sensitivity, or true positive rate, against the false positive rate on a graph for each threshold value. You can calculate the false positive rate by subtracting the specificity from 1. After you plot those points, you can draw a line between them. The dotted black line from 0, 0 to 1, 1 means that the sensitivity or true positive rate is equal to the false positive rate. The point at 1, 1 means that you've correctly identified all the cats, but you've also incorrectly identified all the not-cats. This is bad. Any point on this line means that the proportion of correctly classified samples is the same as the proportion of incorrectly classified samples. The point at represents that there are zero true positives and zero false positives. A model that has high sensitivity and low false positive rate is usually the goal, so it's considered to be better when the line between the threshold recordings is closer towards the top left corner. If you had the data from two models, you could plot out the ROC curve for each model and compare them. However, that can be tedious. There's another graph you can use for this which we'll look at next. Another evaluation metric you can use is the area under the curve receiver operator curve, which is also known as an AUC ROC. The AUC part is the area under the plotted line. When the AUC is higher, it means the model will be better at predicting cats as cats and not cats as not cats. You can use the AUC to quickly compare models with each other. With the four numbers from our confusion matrix, you can calculate the model's accuracy. This is also known as its score. You can do this by adding up the correct predictions and then dividing that number by the total number of predictions. Though accuracy is a widely used metric for classification problems, it has limitations. This metric isn't as effective when there are a lot of true negative cases in your dataset. Think about the cat-not-cat example. If most of your accuracy is based on true negatives, it says that your model is good at predicting what isn't a cat. In this case, you might not feel confident in your model's ability to predict cats after you roll it out into production. This leads to an example of why it's important to make sure that the metric you choose for model evaluation aligns to your business goal. Think about the credit card fraud example. In this case, using accuracy as your main metric probably isn't a good idea because you have a lot of true negatives. Your high true negative number might hide the fact that your model's ability to identify cases of fraud—that is, to identify true positives—isn't ideal. As a credit card company, it's probably unacceptable to have less than almost perfect performance identifying fraud cases. That would drive customers away, which would be the opposite of what you'd want to achieve from a business standpoint. This is why two other metrics are often used in these situations. The first one is precision, which essentially removes the negative predictions. Precision is the proportion of positive predictions that are actually correct. You can calculate it by taking the true positive and dividing it by true positive plus false positive. When the cost of false positives is high in your particular business situation, precision might be a good metric. Think about a classification model that identifies email messages as spam or not. In this case, you don't want your model to label an email message as spam and thus prevent your users from seeing that message when it's actually legitimate. Or consider an example of a model that needs to predict whether a patient has a terminal illness. In this case, using precision as your evaluation metric doesn't account for false negatives in your model. Here, for the model to be successful, it's crucial that it doesn't falsely predict the absence of illness in a patient who actually has that illness. Sensitivity would be a better metric to use for this situation. But it doesn't always need to be one or the other. The F1 score combines precision and sensitivity together. It gives you one number that quantifies the overall performance of a particular ML algorithm. You should consider using an F1 score when you have a class imbalance but want to preserve the equality between precision and sensitivity. But what do you do if you're dealing with a regression problem? In that case, there are other common metrics you can use to evaluate your model, including the mean squared error. The mean squared error is frequently used. Its general purpose is the same as what you saw with classification metrics. You determine the prediction from the model, and you compare the difference between the prediction and the actual outcome. More specifically, you take the difference between the prediction and actual value, square that difference, and then sum up all the squared differences for all the observations. In Skykit Learn, you can use the mean squared error function directly from the metrics library. There are other metrics you can use for linear models, such as R squared. So you've trained your model, performed a batch transformation on your test data, and calculated your metrics. Now what will you do? You'll use these metrics to help you tune the model. You could select a different set of features and train the model again. After you retrain the model, ask yourself, which was the better model? The metrics will help inform you. You could also use different data and retrain the model with the same features. Remember k-fold cross-validation from earlier in this module? Finally, you could tune the parameters of the model itself, which is the subject of the next section. Here are key takeaways from this section of the module. To evaluate the model, you need to have data that the model hasn't seen. This could be either a holdout set or you could use k-fold cross-validation. Different machine learning models use different metrics. Classification can use the confusion matrix and the AUCROC that you can generate from it. Regression can use mean squared. That's it for Section 7. See you in the next video.\n",
      "MoviePy - Writing audio in audios/Mod03_Sect08.wav\n"
     ]
    },
    {
     "name": "stderr",
     "output_type": "stream",
     "text": [
      "                                                                        \r"
     ]
    },
    {
     "name": "stdout",
     "output_type": "stream",
     "text": [
      "MoviePy - Done.\n",
      "Successfully processed CUR-TF-200-ACMNLP-1/video/Mod03_Sect08.mp4\n"
     ]
    },
    {
     "name": "stderr",
     "output_type": "stream",
     "text": [
      "Special tokens have been added in the vocabulary, make sure the associated word embeddings are fine-tuned or trained.\n"
     ]
    },
    {
     "name": "stdout",
     "output_type": "stream",
     "text": [
      " Hi, and welcome back to module 3. This is section 8. In this section, we're going to take a look at how you can tune the model's hyperparameters to improve model performance. Recall from an earlier module that hyperparameters can be thought of as the knobs that tune the machine learning algorithm to improve its performance. Now that we're looking more explicitly at tuning models, it's time to look more specifically at the different types of hyperparameters and how to perform hyperparameter optimization. There are a couple of different categories of hyperparameters. The first kind are model hyperparameters. The first kind are model hyperparameters. They help define the model itself. As an example, consider a neural network for a computer vision problem. For this case, additional attributes of the architecture need to be defined, like filter size, pooling, and the stride or padding. The second kind are optimizer hyperparameters. They relate to how the model learns patterns based on data, and they're used for a neural network model. These types of hyperparameters include optimizers like gradient descent and stochastic gradient descent. They can also include optimizers that use momentum, like Atom, or that initialize the parameter weights with methods like Xavier initialization or He initialization. The third kind are data hyperparameters. They relate to the attributes of the data itself. These include attributes that define different data augmentation techniques, like cropping or resizing for image-related problems. They're often used when you don't have enough data or enough variation in your data. Tuning hyperparameters can be very labor-intensive. used when you don't have enough data or enough variation in your data. Tuning hyperparameters can be very labor intensive. Traditionally this was done manually by someone who had domain experience related to the hyperparameter and the use case. This person would manually select the hyperparameters based on their intuition and experience. Then they would train the model and score it on the validation data. This process would be repeated over and over again until they achieved satisfactory results. This manual process isn't always the most thorough and efficient way of tuning hyperparameters. With SageMaker, you can perform automated hyperparameter tuning with Amazon SageMaker Automatic Model Tuning. It finds the best version of a model by running multiple training jobs on your dataset by using the algorithm and hyperparameter ranges you specify. It then chooses the hyperparameter values that results in a model that performs the best as measured by a metric you choose. It uses Gaussian process regression to predict which hyperparameter values might be most effective at improving fit. It also uses Bayesian optimization to balance exploring the hyperparameter space and exploiting specific hyperparameter values when appropriate. And importantly, automatic model tuning can be used with built-in algorithms from SageMaker, pre-built deep learning frameworks, and bring your own algorithm containers. Suppose that you want to solve a binary classification problem on a fraud data set. Your goal is to maximize the area under the AUC curve metric of the algorithm by training a linear learner algorithm model. You don't know which values of the learning rate, beta 1, beta 2, and epochs you should use to train the best model. To find the best values for these hyperparameters, you can specify ranges of values that SageMaker hyperparameter tuning will then search. It will find the combination of values that results in the training job that performs the best, as measured by the objective metric that you chose. In the example, SageMaker Hyperparameter Tuning launches training jobs that use hyperparameter values in the ranges you specified, and then returns the training job with the highest AUC. Hyperparameter tuning might not necessarily improve your model. It's an advanced tool for building machine solutions. As such, it should be considered part of the scientific method process. When you build complex machine learning systems, like deep learning neural networks, exploring all possible combinations is impractical. To improve optimization, use the following guidelines when you create hyperparameters. First, instead of using all hyperparameters, limit the number of hyperparameters to the ones you think would give you good results. The range of values for the hyperparameters you choose to search can significantly affect the success of hyperparameter optimization. Although you might want to specify a large range that covers every possible value for a hyperparameter, you'll get better results by limiting your search to a small range of values. If you get the best metric values within a part of a range, consider limiting the range to only that part. During hyperparameter tuning, SageMaker attempts to figure out if your hyperparameters are log-scaled or linear-scaled. Initially, it assumes that hyperparameters are linear-scaled. If they should be log-scaled, it might take time for SageMaker to discover that on its own. If you know that a hyperparameter should be log scaled and you can convert it yourself, doing so can improve hyperparameter optimization. Running more hyperparameter tuning jobs concurrently gets more work done quickly, but a tuning job improves only through successive rounds of experiments. Typically, running one training job at a time achieves the best results with the least amount of compute time. Say that you have a distributed training job that runs on multiple instances. In this case, hyperparameter tuning uses the last reported objective metric from all instances of that training job as the value of the objective metric for that training job. Design distributed training jobs so that they report the objective metric you want. Now that you've gone through the end-to-end process of training and tuning a machine learning model, it's worth talking about Amazon SageMaker Autopilot. This service can help you find a good model with little effort or input on your part. With Autopilot, you create a job that supplies the test, training, and target. Autopilot will analyze the data, select appropriate features, and then train and tune the models. It will document the metrics and find the best model based on the provided data. The results include the winning model and metrics and a Jupyter notebook you can use to investigate the results. Although using Autopilot doesn't remove your need to pre-process the data, it can save you time during feature selection and model tuning. Some key takeaways from this section of the module include these points. First, model tuning is important for finding the best solution to your business problem. Hyperparameters can be tuned for the model, optimizer, and data. SageMaker can perform automatic hyperparameter tuning. And finally, overall model development can be accelerated by using autopilot. That's it for this video, see you in the next one.\n",
      "MoviePy - Writing audio in audios/Mod03_WrapUp.wav\n"
     ]
    },
    {
     "name": "stderr",
     "output_type": "stream",
     "text": [
      "                                                                      \r"
     ]
    },
    {
     "name": "stdout",
     "output_type": "stream",
     "text": [
      "MoviePy - Done.\n",
      "Successfully processed CUR-TF-200-ACMNLP-1/video/Mod03_WrapUp.mp4\n"
     ]
    },
    {
     "name": "stderr",
     "output_type": "stream",
     "text": [
      "Special tokens have been added in the vocabulary, make sure the associated word embeddings are fine-tuned or trained.\n"
     ]
    },
    {
     "name": "stdout",
     "output_type": "stream",
     "text": [
      " It's now time to review the module and wrap up with a knowledge check. In this module, you learned how to formulate a problem from a business request, obtain and secure data for machine learning, build a Jupyter notebook by using Amazon SageMaker. Outline the process for evaluating data. Explain why data needs to be pre-processed. Use open source tools to examine and pre-process data. Use Amazon SageMaker to train and host a machine learning model. Use cross-validation to test the performance of an ML model, use a hosted model for inference, and create an Amazon SageMaker hyperparameter tuning job to optimize a model's effectiveness. That concludes this module. Thanks for watching. We'll see you again in the next video.\n",
      "MoviePy - Writing audio in audios/Mod04_Intro.wav\n"
     ]
    },
    {
     "name": "stderr",
     "output_type": "stream",
     "text": [
      "                                                                     \r"
     ]
    },
    {
     "name": "stdout",
     "output_type": "stream",
     "text": [
      "MoviePy - Done.\n",
      "Successfully processed CUR-TF-200-ACMNLP-1/video/Mod04_Intro.mp4\n"
     ]
    },
    {
     "name": "stderr",
     "output_type": "stream",
     "text": [
      "Special tokens have been added in the vocabulary, make sure the associated word embeddings are fine-tuned or trained.\n"
     ]
    },
    {
     "name": "stdout",
     "output_type": "stream",
     "text": [
      " Hi, and welcome to Module 4 of AWS Academy Machine Learning. In this module, we're going to look at forecasting. We'll start with an introduction to forecasting and look at how time series data is different from other kinds of data. Then, we're going to look at Amazon Forecast, a service that helps you simplify building forecasts. At the end of this module, you'll be able to describe the business problem solved with Amazon Forecast, describe the challenges of working with time series data, list the steps required to create a forecast by using Amazon Forecast. And use Amazon Forecast to make a prediction. See you in the next video!\n",
      "MoviePy - Writing audio in audios/Mod04_Sect01.wav\n"
     ]
    },
    {
     "name": "stderr",
     "output_type": "stream",
     "text": [
      "                                                                      \r"
     ]
    },
    {
     "name": "stdout",
     "output_type": "stream",
     "text": [
      "MoviePy - Done.\n",
      "Successfully processed CUR-TF-200-ACMNLP-1/video/Mod04_Sect01.mp4\n"
     ]
    },
    {
     "name": "stderr",
     "output_type": "stream",
     "text": [
      "Special tokens have been added in the vocabulary, make sure the associated word embeddings are fine-tuned or trained.\n"
     ]
    },
    {
     "name": "stdout",
     "output_type": "stream",
     "text": [
      " Hi, and welcome to Section 1. We'll get started by reviewing what forecasting is and some use cases for it. Forecasting is an important area of machine learning. It's important because there are so many opportunities for predicting future outcomes based on historical data. Many of these opportunities involve a time component. However, while the time component adds additional information, it also makes time series problems more difficult to handle compared to other types of predictions. You can think of time series data as falling into two broad categories. The first type is univariate data, which means there's just one variable. The second one is multivariate data, which means there's more than one variable. There are several common patterns in time series data. The first pattern is a trend. With a trend, you get a pattern with the values increasing, decreasing, or staying the same over time. There are seasonal patterns. These reflect times of the year, month, day, or other patterns. Cyclical patterns are similar to seasonal patterns. These are patterns that repeat, like a large retail sale event that happens the same time each year. Finally, there are changes in the data over time that appear to be random or that have no discernible pattern. There are many uses for forecasting. You can use forecasting in marketing applications, such as for sales forecasting or demand projections. It could also be used in inventory management systems that anticipate required inventory levels. Forecasting energy consumption can help predict when and where energy is needed. And weather forecasting systems can be used for governments and commercial applications, such as agriculture. That's it for this section. See you in the next video.\n",
      "MoviePy - Writing audio in audios/Mod04_Sect02_part1.wav\n"
     ]
    },
    {
     "name": "stderr",
     "output_type": "stream",
     "text": [
      "                                                                        \r"
     ]
    },
    {
     "name": "stdout",
     "output_type": "stream",
     "text": [
      "MoviePy - Done.\n",
      "Successfully processed CUR-TF-200-ACMNLP-1/video/Mod04_Sect02_part1.mp4\n"
     ]
    },
    {
     "name": "stderr",
     "output_type": "stream",
     "text": [
      "Special tokens have been added in the vocabulary, make sure the associated word embeddings are fine-tuned or trained.\n"
     ]
    },
    {
     "name": "stdout",
     "output_type": "stream",
     "text": [
      " Hi and welcome back. This is section 2 and we're going to focus on processing time series data because it can be different from other types of data you've been using so far. Time series data is data that is captured in chronological sequence over a defined period of time. Introducing time into a machine learning model has a positive impact because the model can derive meaning from changes in the data points over time. Time series data tends to be correlated. This means that there's a dependency between data points. This has mixed results for forecasting. This is because you're dealing with a regression problem, and regression assumes that data points are independent. You need to develop a method for dealing with data dependence so you can increase the validity of the predictions. In addition to the time series data, you can add related data to augment a forecasting model. For example, suppose you want to make a prediction about retail sales. You could include information about the product being sold, such as item identification or sales price, along with the number of units sold per time period. The third type of data is metadata about the dataset. For instance, say that you have a retail dataset. You might want to include metadata, like a brand name or a genre for music or videos, so you can group results. It's better to have more data. When you work with multiple data sources, you'll face the challenge of handling the timestamp of the data. You'll observe differences in the timestamp format and other challenges such as incomplete data. However, you might be able to infer missing data in some cases. For example, say you have some data that contains both the month and the day, but no year. Observe whether the data seems to sequence through the month numbers in the database, repeating after 12. If it does so, you could add the year if you knew when the data started. You could then infer future years based on the order of the data. Much timestamp data is stored in UTC format, but not all data is. You should check if the timestamp is in local or universal time. Sometimes the timestamp doesn't represent the time you think it does. For example, suppose you have a database of cars that were serviced at a garage. Does the timestamp indicate the time the car arrived, was completed, or picked up? Or does it indicate when the final entry was entered into the system? Say you're trying to model the hourly caloric intake of patients. However, you only have daily data. Then you'll need to adjust your target timescale. Also, your data might not have any timestamps. There could be other ways to extrapolate a time series depending on the data and domain. For example, you might have wavelength measurements or vectors within an image. As a final note, remember that daylight savings is different around the world. Also because of daylight savings, time might even occur twice a year in their time zones. A common occurrence in real-world forecasting problems is missing values in the raw data. Missing values makes it harder for a model to generate a forecast. The primary example in retail is an out-of-stock situation in demand forecasting. If an item goes out of stock, the sales for the day will zero. If the forecast is generated based on those zero sales values, the forecast will be incorrect. There are many reasons why values can be marked as missing. Missing values can occur because of no transaction. They can also occur because of possible measurement errors. For example, a service that monitored certain data wasn't working correctly. Or as another example, the measurement couldn't happen correctly. In retail, the primary example for an inability to take correct measurements is an out-of-stock situation in demand forecasting. This means that demand doesn't equal sales on that day. There are several ways you can calculate the missing data. The first method is forward fill. This uses the last known value for the missing value. Building on that idea, moving average uses the average of the last known values to calculate the missing value. Backward fill uses the next known value after the missing value. The danger here is that you're using the future to calculate the past, which is bad in forecasting. This method is also known as look-ahead and should be avoided. Interpolation uses an equation to calculate the missing value. You can also use a zero fill. This is often used in retail because missing sales data shouldn't be calculated. The missing data represents that there were no orders on that day. It would be wise to investigate why this happened, but in this case, you don't want to fill in the missing value. You might get data at different frequencies. For example, you might have sales data that includes the exact timestamp the sale was recorded, but have inventory data that only contains the year, month, and day of the inventory level. When you have data that's at a different frequency than other datasets, or data that's not compatible with your question, you might need to downsample. Downsampling is moving from a more finely grained time to a less finely grained time. As the example shows, this could be converting an hourly dataset to a daily dataset. When downsampling, you need to decide how to combine the values. In the previous case of sales data, summing the quantity makes the most sense. If the data is temperature, you might want to find the average. Understanding your data helps you decide what's the best course of action. The opposite of downsampling is upsampling, when you move from a less finely grained time to a more finely grained time. The problem with upsampling is that it's extremely difficult to achieve in most cases. Suppose you want to upsample your sales data from daily sales to hourly sales. Unless you have some other data source to reference, you wouldn't be able to do this. There are cases when you need to do something, perhaps to match the frequency of another time series. Or you might have an irregular time series or specific domain knowledge that would help. In those cases, you need to be careful how you make the conversion. For the retail example, the best you could do is create a single order for the day at a specified hour. For temperature, you could copy the daily temperature into each hourly slot, or use a formula to calculate a curve. In data science, outliers have a mix of positive and negative attributes. The same is true of time series data. Suppose you were examining sales data, and you had an order that has an unusually high number of items. You might not want to include that in your forecast calculations because the order size might never be repeated. Removing these outliers and anomalies is known as smoothing. Smoothing your data can help you deal with outliers and other anomalies. There are a few reasons why you might consider smoothing. First, during data preparation, you remove error values and could also remove outliers. You might also want to smooth your data to generate features. For visualization, you could smooth your data to reduce the noise in a plot. It's important to understand why you are smoothing the data and the impact that it might have. The outcome might be to reduce noise and create a better model. But an equally important question is, could your smoothing compromise the model? Is the model expecting noisy data? Will you also be able to smooth the data in production? That's it for part one of this section. We'll see you again for part two where we'll review more time series specific challenges and the tools and algorithms that can help us wrangle your data.\n",
      "MoviePy - Writing audio in audios/Mod04_Sect02_part2.wav\n"
     ]
    },
    {
     "name": "stderr",
     "output_type": "stream",
     "text": [
      "                                                                      \r"
     ]
    },
    {
     "name": "stdout",
     "output_type": "stream",
     "text": [
      "MoviePy - Done.\n",
      "Successfully processed CUR-TF-200-ACMNLP-1/video/Mod04_Sect02_part2.mp4\n"
     ]
    },
    {
     "name": "stderr",
     "output_type": "stream",
     "text": [
      "Special tokens have been added in the vocabulary, make sure the associated word embeddings are fine-tuned or trained.\n"
     ]
    },
    {
     "name": "stdout",
     "output_type": "stream",
     "text": [
      " Hi, welcome back. We'll continue exploring wrangling time series data. Seasonality in data is any kind of repeating observation where the frequency of the observation is stable. For example, in sales, you typically see higher sales at the end of a quarter and into the fourth quarter. Consumer retail sees even higher sales in the fourth quarter. Be aware that data can have multiple types of seasonality in the same data set. There are many times when you should incorporate seasonality information into your forecast. For instance, localized holidays are a good example for sales. The chart shows that the total revenue generated by arcades has a strong correlation with the number of computer science doctorates awarded in the US. But correlations do not mean causation. If you disagree, see the source for the chart. There are many other correlations plotted on the site, and none of them make any sense. With your own data, be careful that you're not seeing and acting on correlations that don't have meaning in the real world. Here's an experiment. If you generate two random time series datasets of numbers between 0 and 1, you'll find that they have a very low correlation. But if you introduce the same slope to both datasets, you'll see a very strong correlation. You need to know how stable a system is. The level of stability, or stationarity, can inform how much you should expect the system's past behavior to inform future behavior. A system with low stability won't be successful at predicting the future. You'll often want to determine the trend for a time series. want to determine the trend for a time series. But if you adjust the series for the trend, it can be difficult to compare it with another series that was also adjusted for the trend. This is because the trends might dominate the values in the series. This could then lead to overestimates in correlation between the two series like we discussed previously. Autocorrelation is one of the special problems you face with time series data. As you've seen in other machine learning problems, the goal of building an ML model is to make sure you're separating the signal from the noise. Autocorrelation is a form of noise because separate observations aren't independent of each other. of noise because separate observations aren't independent of each other. A time series with autocorrelation might overstate the accuracy of the model that's produced. Some of the algorithms you'll look at in this module can help correct for autocorrelation. These factors, along with seasonality, will influence the model you'll select to produce your forecast. Some algorithms handle seasonality and autocorrelation, but others do not. Pendus was developed with financial data analysis in mind. As such, it's good at handling time series data. First, you can set the index for your Pendas data frame to be a date time. You can then use date and time to select your data. You can use ranges that contain partial dates. You can also extract date parts such as year, month, weekday name, and more. For grouping and resampling tasks, Pendus has built-in functions to do both. Finally, Pendus can give you insights into auto-correlation. For more information about Pendus and the time series, refer to the Pendus documentation. One of the tasks in building a forecasting application is to choose an appropriate algorithm. Your choice of algorithm should be determined by the type of dataset you're using and the features of that dataset. Amazon Forecast supports these five algorithms, but there are others. Each algorithm can handle data with slightly different characteristics. For example, take autoregressive integrated moving average, which is also known as ARIMA. It removes autocorrelations that could influence the pattern of observations. Or take exponential smoothing, which is also known as ETS. This algorithm is useful for datasets with seasonality. You can find out more about these algorithms in the Amazon Forecast documentation. Some key takeaways from this section of the module include time series data is sequence data that includes a time element which makes it different from regular datasets. Some of the time challenges include dealing with different time formats, handling missing data through downsampling, upsampling, and smoothing, dealing with seasonality such as weekdays and yearly cycles, avoiding bad correlations. Appendix has excellent time series support with functions for dealing with time. Appendix has excellent time series support with functions for dealing with time. There are five algorithms used by Amazon Forecast, ARIMA, DeepAR+, ETS, NPTS, and PROFIT. That's it for this section, we'll see you in the next video.\n",
      "MoviePy - Writing audio in audios/Mod04_Sect02_part3.wav\n"
     ]
    },
    {
     "name": "stderr",
     "output_type": "stream",
     "text": [
      "                                                                        \r"
     ]
    },
    {
     "name": "stdout",
     "output_type": "stream",
     "text": [
      "MoviePy - Done.\n",
      "Successfully processed CUR-TF-200-ACMNLP-1/video/Mod04_Sect02_part3.mp4\n"
     ]
    },
    {
     "name": "stderr",
     "output_type": "stream",
     "text": [
      "Special tokens have been added in the vocabulary, make sure the associated word embeddings are fine-tuned or trained.\n"
     ]
    },
    {
     "name": "stdout",
     "output_type": "stream",
     "text": [
      " Hi and welcome back. In this section, we'll look at how you can use Amazon Forecast to create a predictor and generate forecasts. When you generate forecasts, you can apply the machine learning development pipeline you've seen throughout this course. But you still need data. You need to import as much data as you have, both historical data and related data. You'll want to do some basic evaluation and feature engineering before you use the data to train a model so you can meet the requirements of Amazon Forecast. To train a predictor, you need to choose an algorithm. If you're not sure which algorithm is the best for your data, Amazon Forecast can choose for you. To do this, select AutoML as your algorithm. You also need to select a domain for your data. If you're not sure what the best fit is, you can also select a custom domain. Domains have specific types of data they require. When you have a trained model, you can then use the model to make a forecast using an input data set group. After you've generated a forecast, you can query the forecast. You can also export it to a bucket in Amazon S3. And finally, you can encrypt the data in the forecast before exporting it. The overall process for working with Amazon Forecast is to import historical and related data. Amazon Forecast inspects the data, identifies key data, and selects an appropriate algorithm. It uses the algorithm to train and optimize a custom model and produce a predictor. You create forecasts by applying the predictor to your dataset. You can then retrieve these forecasts in the AWS Management Console, or you can export the forecasts as comma-delimited files. You can also use an API and AWS CLI commands to create and retrieve forecasts. When you work with Amazon Forecast, you can select the domain you're working in. There are domains ranging from retail to web traffic, and there's also a custom option for everything else. By selecting a domain, you improve the efficiency of the predictor. Each domain has specific types of data that you'll supply when you build the predictor. For example, the retail domain expects data for the item identifiers, a timestamp for the observation, the number of sales for that item, and the specified timestamp. Here's an example of the data you'd need to provide for a retail demand forecast. For the time series, you need the time when the transaction took place, ideally in UTC format, the item ID of the item, and how many items were sold. The metadata for the item might include the category, the item color, and other attributes. The link back to the time series data will be only the item ID, because item metadata typically doesn't change. Related data for creating a more useful forecast could include the sales price or other promotion data. To link this back to the item, you must include the timestamp and the item ID. Here's an example of the data you'd need to provide for a web traffic forecast. For the time series, you need the web page ID, the number of page views per month, and the timestamp. Related data for creating a more useful forecast could include the page category, such as navigation or content category. You'll also need the geographic identifier for the web client. For metadata, you might also need to provide the region and the sales promotion information. Amazon forecast predictors use an algorithm to train a model. They then use the model to make a forecast using an input dataset group. To help you get started, Amazon Forecast provides predefined algorithms, ARIMA, DeepAR+, ETS, NPTS, and PROFIT. You can also use the AutoML feature. It will try all the algorithms to see which one's the best at predicting data. When you prepare data for training and machine learning, you typically hold back data to use when you validate and score the model. The data that you hold back is usually a random sample of your available data. With time series data, you must process your data differently because of a correlation between time. When you import your data, Amazon Forecast breaks it into training and test datasets, which the diagram shows. The training data is used to train the model, which is then tested against the data that was held back. You can specify multiple backtest windows, which will split the data multiple times, train the model, and use metrics to determine which model gives the best results. The default backtest window is 1. You can change how Amazon Forecast splits the data by setting the backtest window offset parameter when you create the predictor. If you don't set this value, the algorithms use default values. After you've trained a model, you will need to measure its accuracy, which you'll learn about next. The first Amazon Forecast evaluation metric is the weighted quantile loss, or W quantile loss. When Amazon Forecast creates a forecast, it provides probabilistic predictions at three distinct quantiles, 10%, 50%, and 90%. These prediction quantiles show you how much uncertainty is associated with each forecast. A P10 quantile predicts that 10% of the time the true value will be less than the predicted value. For example, suppose that you are a retailer. You want to forecast product demand for winter gloves that sell well only during the fall and winter. Say that you don't have sufficient storage space and the cost of invested capital is high, or that the price of being overstocked on winter gloves concerns you. Then you might use the P10 Quantile to order a relatively low number of winter gloves. You know that the P10 forecast overestimates the demand for your winter gloves only 10% of the time, so you'll be sold out of your winter gloves for 90% of the time. A P50 quantile predicts that 50% of the time the true value will be less than the predicted value. Continuing the winter gloves example, say you know that there will be a moderate amount of demand for the gloves and you aren't concerned about being overstocked. Then you might choose to use the P50 quantile to order gloves. A P90 quantile predicts that 90% of the time the true value will be less than the predicted value. Suppose you determine that being understocked on gloves will result in large amounts of lost revenue. For example, the cost of not selling gloves is extremely high or the cost of invested capital is low. In this case, you might choose to use the P90 quantile to order gloves. Amazon Forecast also calculates the associated loss at each quantile. Weighted Quantile Loss calculates how far off the forecast a certain quantile is from actual demand in either direction. Lower W Quantile Loss metrics mean that the model's forecasts are more reliable. The Root Mean Square Error, or RMSE, is another method for evaluating the reliability of your forecasts. Like W quantile loss, RMSE calculates how far off the forecasted values were from the actual test data. The RMSE finds the difference between the actual target value in the dataset and the forecasted value for that time period, and it then squares the differences. The example shows how to calculate RMSE. The RMSE value represents the standard deviation of the prediction errors. This test is good for forecast validity when the errors are mostly of the same size, that is, there aren't many outliers. Lower RMSE metrics indicate that the model's forecasts are more reliable. Here is an example of how a web retailer might use the accuracy metrics to evaluate a forecast. The retailer wants to predict the demand for sales of a particular brand of shoes. They input the sales records for this brand into Amazon Forecast to create a predictor. The predictor provides a forecasted demand of 1,000 pairs with the P10, P50, and P90 values shown. The weighted quantile loss values indicate that 10% of the time there will be fewer than 880 pairs sold, 50% of the time fewer than 1,050 pairs will be sold, and 90% of the time fewer than 1,200 pairs will be sold. The retailer can then use these values to determine which level of inventory to hold. They can base their decision on their assessment of the risk that they won't be able to fulfill orders, or that they'll have excess inventory. Some key takeaways from this section of the module include, you can use Amazon Forecast to train and use a model for time series data. There are specific schemas defined for domains such as retail and EC2 capacity planning, or you can use a custom schema. You need to supply at least the time series data, but can also provide metadata and related data to add more information to the model. As with most supervised machine learning problems, your data is split into training and testing data, but takes into account the time element. Use RMSE and W quantile loss metrics to evaluate the efficiency of the model. That's it for this video, we'll see you in the next one.\n",
      "MoviePy - Writing audio in audios/Mod04_WrapUp.wav\n"
     ]
    },
    {
     "name": "stderr",
     "output_type": "stream",
     "text": [
      "                                                                    "
     ]
    },
    {
     "name": "stdout",
     "output_type": "stream",
     "text": [
      "MoviePy - Done.\n",
      "Successfully processed CUR-TF-200-ACMNLP-1/video/Mod04_WrapUp.mp4\n"
     ]
    },
    {
     "name": "stderr",
     "output_type": "stream",
     "text": [
      "Special tokens have been added in the vocabulary, make sure the associated word embeddings are fine-tuned or trained.\n"
     ]
    },
    {
     "name": "stdout",
     "output_type": "stream",
     "text": [
      " Hi, welcome back. It's now time to review the module and wrap it up. In this module, you learned how to describe the business problem solved by Amazon Forecast, describe the challenges of working with time series data, list the steps required to create Forecast by using Amazon Forecast, and use Amazon Forecast to make a prediction. Thanks for participating. See you in the next module.\n",
      "MoviePy - Writing audio in audios/Mod05_Intro.wav\n"
     ]
    },
    {
     "name": "stderr",
     "output_type": "stream",
     "text": [
      "                                                                      \r"
     ]
    },
    {
     "name": "stdout",
     "output_type": "stream",
     "text": [
      "MoviePy - Done.\n",
      "Successfully processed CUR-TF-200-ACMNLP-1/video/Mod05_Intro.mp4\n"
     ]
    },
    {
     "name": "stderr",
     "output_type": "stream",
     "text": [
      "Special tokens have been added in the vocabulary, make sure the associated word embeddings are fine-tuned or trained.\n"
     ]
    },
    {
     "name": "stdout",
     "output_type": "stream",
     "text": [
      " Welcome back to AWS Academy Machine Learning. This is Module 5, and we have a great topic for you today, Computer Vision. In this module, we'll start with an overview of the computer vision space, and you'll learn about some of the use cases and terminology. Next, we'll explore details about analyzing image and video with managed services from Amazon Web Services or AWS. Finally, we'll look at how you can use your own customized data sets for performing object detection. At the end of this module, you'll be able to describe the use cases for computer vision, describe the Amazon Managed Machine Learning services available for image and video analysis, list the steps required to prepare a custom dataset for object detection, describe how Amazon SageMaker Ground Truth can be used to prepare a custom dataset. And finally, use Amazon Recognition to perform facial detection. Thanks for watching, we'll see you in the next video.\n",
      "MoviePy - Writing audio in audios/Mod05_Sect01_ver2.wav\n"
     ]
    },
    {
     "name": "stderr",
     "output_type": "stream",
     "text": [
      "                                                                      \r"
     ]
    },
    {
     "name": "stdout",
     "output_type": "stream",
     "text": [
      "MoviePy - Done.\n",
      "Successfully processed CUR-TF-200-ACMNLP-1/video/Mod05_Sect01_ver2.mp4\n"
     ]
    },
    {
     "name": "stderr",
     "output_type": "stream",
     "text": [
      "Special tokens have been added in the vocabulary, make sure the associated word embeddings are fine-tuned or trained.\n"
     ]
    },
    {
     "name": "stdout",
     "output_type": "stream",
     "text": [
      " Hi, welcome back. This is section one, and we're going to introduce computer vision. Computer vision is an exciting space in machine learning. You can think of computer vision as the automated extraction of information from digital images. Using computer vision, machines can identify people, places, and things in images with an accuracy that's at or above human levels, and with greater speed and efficiency. Computer vision is often built with deep learning models. It automates the extraction, analysis, classification, and understanding of useful information from a single image or a sequence of images. The image data can take many forms, such as single images, video sequences, views from multiple cameras, or three-dimensional data. Computing power and algorithms have advanced over the last 10 years. This has led to an increase in capabilities and easier access to computer vision technologies. So how is computer vision being used? Here are some of the primary use cases for computer vision. You can use image and facial recognition to improve public safety and home security, or as a way to authenticate access to personal devices. You can also use it to automatically classify images for content management and analysis. Autonomous driving is partly enabled by computer vision technologies, and so are safety features of cars, such as lane detection or collision avoidance. Medical image analysis with computer vision can improve the accuracy and speed of a patient's medical diagnosis. This can result in better treatment outcomes and life expectancy for the patient. And finally, in manufacturing, well-trained computer vision is incorporated into robotics. This can improve quality assurance and operational efficiencies. These are just a few examples, and you can probably think of more. Computer vision problems can be broken down into a few areas. Content recognition is about identifying things in images. It's a classification problem, but it's a complex one with several layers. In the picture here, what's represented? Is it breakfast, lunch, or dinner? Would the classification only be food? The answer depends on what model you use to perform the classification. Models must be trained, and the training data provides the algorithm with data for it to learn from. Say that you have a model that was trained with pictures of different types of food. You might expect the image to output categories such as milk, peaches, mashed potato, chicken nuggets, and salad. If you trained the model with different images, it could classify objects as tray, cutlery, and napkin instead. When you work with images, you might want to know what kinds of objects are in the image and the location of those objects. Object detection provides the image categories and where the objects are located in the image. There's a set of coordinates defining the location of a box surrounding the image, which is known as the bounding box. Bounding boxes for detection are typically top, left, width, and height coordinates surrounding the images. You can use these coordinates in your applications. the images. You can use these coordinates in your applications. When objects are detected in an image, there's a confidence number usually associated with that object. This percentage indicates the probability that the object belongs to a specific class. This confidence level is important when you want to determine an action that's based on object detection, especially in facial detection applications or cases where the action has significance. Object segmentation is also known as semantic segmentation. It's like object detection, but you go into more detail to get fine boundaries for each detected object. Basically it's a fine-grained inference for predicting each pixel in the image. Some applications that require object segmentation include autonomous vehicles and advanced computer-human interactions. Though object segmentation is a key problem in the field of computer vision, we won't be covering it in this course. Video adds another dimension to computer vision. With video, you get more data to work with, so you can capture the movement of people or objects, which are referred to as instances. For example, you can detect people who enter and leave frames, and also deal with moving cameras. Here's a use case for computer vision. Building on detection and tracking, you can analyze shopper behavior in your retail store by studying the path each person follows. If you use face analysis, you can understand other details about shoppers, such as average age ranges, gender distribution, and expressed emotions without identifying them. Here's another computer vision use case. You can also analyze images to identify actions using the motion in the video. For example, activities such as delivering a package or dancing. Looking at this image of a baseball player, some examples from the image could include capturing the batter's accuracy, the pitcher's pitching style, the type of pitch slow ball, slider and others, the inning, and the batter's performance versus the specific pitcher. Managers could use all that data to coach players on how to improve their performance, and they do. Coaches can also use the data during the game to make game-time decisions. Say you want to initiate various actions based on the speed of the baseball leaving the bat and its trajectory. A hit that's calculated by an ML model could lead to an audio or visual warning about a possible foul ball into the crowd. Or it could result in a preemptive alarm that a hit has a high probability of being a home run. This means that events following a home run could be both well-timed and automated, such as playing music or setting off fireworks when the home run is hit by the home team. To wrap up this section, here are some key takeaways for this section. First, we covered how computer vision is the automated extraction of information from images. You can divide computer vision into two distinct areas, image analysis and video analysis. Image analysis includes object classification, detection, and segmentation. Video analysis includes instance tracking, action recognition, and motion estimation. Thanks for watching. We'll see you in the next video.\n",
      "MoviePy - Writing audio in audios/Mod05_Sect02_part1_ver2.wav\n"
     ]
    },
    {
     "name": "stderr",
     "output_type": "stream",
     "text": [
      "                                                                        \r"
     ]
    },
    {
     "name": "stdout",
     "output_type": "stream",
     "text": [
      "MoviePy - Done.\n",
      "Successfully processed CUR-TF-200-ACMNLP-1/video/Mod05_Sect02_part1_ver2.mp4\n"
     ]
    },
    {
     "name": "stderr",
     "output_type": "stream",
     "text": [
      "Special tokens have been added in the vocabulary, make sure the associated word embeddings are fine-tuned or trained.\n"
     ]
    },
    {
     "name": "stdout",
     "output_type": "stream",
     "text": [
      " Welcome back. In this section, we'll explore image analysis in more detail. And in part two, we'll take a closer look into video analysis. To start, we'll introduce the main Amazon service we'll be using, Amazon Recognition. Amazon Recognition is a computer vision service that's based on deep learning. You can use it to add image and video analysis to your applications. There are many uses for Amazon Recognition, including creating searchable image and video libraries. Amazon Recognition makes both images and stored videos searchable, so you can discover the objects and scenes that appear in them. You can use Amazon Recognition to build a face-based user verification system, so your applications can confirm user identities by comparing their live image with a reference image. Amazon Recognition interprets emotional expressions, such as happy, sad, or surprise. It can also interpret demographic information from facial images, such as gender. Amazon Recognition can also detect inappropriate content in both images and stored videos. And finally, Amazon Recognition can recognize and extract text content from images. Before we go further, here's a quick note on security. You need to check if the applications you build using Amazon Recognition fall under any regulatory restrictions as defined in your field or country. Security and compliance for Amazon Recognition is a shared responsibility between AWS and the customer. For more information about this topic, see the AWS Compliance page. Amazon Recognition is an AWS-managed service. With a managed service, Amazon hosts the machine learning models, maintains an API, and scales out to meet demand for you. You can benefit from a set of models that constantly learn and improve. Also, you can focus on building applications that use the API and optionally training the service to understand your unique business needs. There are various resources you can use to access and interact with Amazon Recognition, such as APIs, SDKs, and commands for the AWS command line interface, which is also known as the AWS CLI. The languages supported by the SDKs include JavaScript, Python, PHP, .NET, Ruby, Python, PHP, .NET, Ruby, Java, Go, Node.js, and C++. Finally, Amazon Recognition integrates with other AWS services. For example, if you need storage, you can use Amazon's Simple Storage Service, or S3. For authentication and authorization, you can use AWS Identity and Access Management, which is also known as IAM. This diagram illustrates an image search feature where users can take pictures and get information about the real estate properties they're viewing. First, the user takes a picture with their mobile device. The user then initiates a search, which causes the application to upload to Amazon S3. S3 is configured to call other services when a write event occurs. In this case, the bucket passes the S3 path of the new object to AWS Lambda. When the Lambda function is called, it uses the Amazon Recognition SDK to call the service. Amazon Recognition analyzes the image, detects aspects of the property, creates labels, and passes the information back to Lambda as an object formatted in JavaScript Object Notation or JSON. Lambda then stores the labels and confidence score in Amazon Elastic Search Service, which is also known as Amazon ES. Application users can now identify aspects of a property using the objects that were detected in the image. In this example architecture, the system checks uploaded images for inappropriate content. Like the previous example, processing begins when the user uploads content. First, the user uploads an image to Amazon S3. Second, the S3 bucket is configured to call a Lambda function when an object is written to the bucket. Third, Lambda calls Amazon Recognition via the SDK. Amazon Recognition then analyzes the images for inappropriate content and sends the response back to Lambda. Fourth, if the content is appropriate, the content is approved. Fifth, if the content isn't appropriate, the content can be sent for manual inspection. And finally, if the content isn't approved, a notification is sent to the user. In this final use case, the system analyzes a video feed for sentiment analysis. First, an in-store camera captures video that's then sent to a back office or a cloud-based application. Typically, an application like this uses Amazon Kinesis to stream the video. Second, the application uses the SDK to send the video to Amazon Recognition for further analysis. Visual sentiment is extracted along with other attributes such as age. Third, the discovered attributes are sent to Amazon Kinesis. Fourth, a Lambda function extracts the data from the stream. Fifth, the data is then written to S3. Next, the data is loaded into Amazon Redshift on a regular basis. And finally, tools like Amazon QuickSight can be used to generate reports from the data. Amazon Recognition is designed to integrate into your applications through the API and SDKs. API operations are provided for detecting labels, faces, recognizing celebrities, and detecting unsafe images. To perform a prediction, provide the service with an image object in Amazon S3 or upload a byte stream of an image. Images can be in JPEG or PNG formats. Amazon Recognition processes the image, performs the prediction, and returns a JSON object with the results. When Amazon Recognition performs predictions, it often returns multiple labels. Each label has a confidence level. This confidence level indicates how likely the label was found in the image. Like this example shows, labels can also have hierarchies. When you find instances of objects, you need to understand where the detected object is in the image. For each instance, the results from Amazon Recognition include a bounding box that contains the starting coordinate of top, left, and box dimensions of width, height. Like the example, you can use this information to determine the location of the detected object in the image. It's important to note that all findings contain a confidence score. You can use the confidence score in your applications to tune your response to predictions. With a higher score, it's more likely that the object was correctly labeled. That's it for Part 1 of this section. We'll see you again for Part 2, where we'll explore facial detection.\n",
      "MoviePy - Writing audio in audios/Mod05_Sect02_part2.wav\n"
     ]
    },
    {
     "name": "stderr",
     "output_type": "stream",
     "text": [
      "                                                                        \r"
     ]
    },
    {
     "name": "stdout",
     "output_type": "stream",
     "text": [
      "MoviePy - Done.\n",
      "Successfully processed CUR-TF-200-ACMNLP-1/video/Mod05_Sect02_part2.mp4\n"
     ]
    },
    {
     "name": "stderr",
     "output_type": "stream",
     "text": [
      "Special tokens have been added in the vocabulary, make sure the associated word embeddings are fine-tuned or trained.\n"
     ]
    },
    {
     "name": "stdout",
     "output_type": "stream",
     "text": [
      " Hi, welcome back. We'll continue exploring image analysis with a closer look at facial detection. Facial detection uses a model that was tuned to perform predictions specifically for detecting faces and facial features. Facial detection has many of the same features as standard object detection, such as a bounding box or the coordinates of the box surrounding the face that was detected. This will include a value representing the confidence that the bounding box contains a face. There will be a list of attributes if found, such as if the face has a beard or if it appears to be male or female. There will also be a confidence score for these attributes. It can also detect physical emotions, like whether the person is smiling or frowning. It's important to understand this classification is based only on visual clues, and so it might not represent the actual emotion of the person. Facial landmarks are components of the face such as eyes and mouth. Typical landmarks also include X and Y coordinates. Quality describes the brightness and the sharpness of the face. And Pose describes the rotation of the face inside the image. Again, confidence is a feature here, and it's provided for each detected feature. And remember, the feature prediction is based only on visual observations. With Amazon Recognition, you can compare two images to determine if they contain the same person. Comparisons require both a source and a target image. The results will include all the faces that were found, and they include information about matching and non-matching faces. Again, confidence scores indicate how likely each prediction is. Amazon Recognition can also search for known faces. To use this feature, you need to train the model by providing a collection of images to use. After you train the model, you can then detect those people and images you provide. To find known faces, first create a collection and add faces to the collection. Amazon Recognition will perform facial recognition on the images you provide. It will then return typical information like the bounding box coordinates or the confidence score. To associate faces with an image, specify an image ID in the externalImageId request parameter. This could be the file name of the image or another ID that you create. After you create your collection, you can then use the searchFacesByImage operation to search for faces from the collection. The returned data contains an array of all faces that matched. The information includes bounding boxes, confidence scores, and the external image ID value. You can then use this ID value to link back to the source image. Now that you've learned about the facial detection features of Amazon Recognition, here's a summary of the guidelines we've discussed so far. When Amazon Recognition detects a human face, it captures a bounding box that shows where the face was found in the video. It can also detect attributes such as the position of the eyes, nose, and mouth. It can detect emotion, the quality of the detection, and any landmarks that might appear. All these items will have an associated confidence score. A higher score means that the model has greater confidence about the detection. Gender is inferred from the image, not inferred from identity. Similarly, emotion is also determined from the image, and it might not reflect the subject's actual emotional state. How should I apply facial recognition responsibly? Facial recognition should never be used in a way that violates an individual's rights, including the right to privacy. in a way that violates an individual's rights, including the right to privacy. It should also never be used to make autonomous decisions for scenarios that require a human being to analyze them. For example, suppose that a bank uses tools like Amazon Recognition in a financial application to verify their customers' identities. The bank should always clearly disclose the use of the technology and ask the customer to approve their terms and conditions. For more information about this topic, see the AWS webpage about the facts on facial recognition with artificial intelligence. We'll now explain how you can use Amazon Recognition to process videos. You can perform video processing on both stored videos and video streams. Stored videos should be uploaded and stored in an S3 bucket. Each type of detection has its own start operation. You can search for people, faces, labels, celebrities, text, and inappropriate content. Amazon Recognition publishes a completion status to a topic in Amazon Simple Notification Service, which is also known as Amazon SNS. Then, SNS can route these messages to subscribers. For durability, it's a best practice to route messages to a message queue in Amazon Simple Queue Service or Amazon SQS. Your application should monitor the SQS queue for completion. Each start operation has a corresponding get operation for retrieving the results. If you call getDetectionResults, it returns an array of labels that contain information about any labels found in the video. The label information includes the same labels as image detection, but it also includes a timestamp of where the label was detected in milliseconds from the start of the video. In addition to stored videos, you can also use Amazon Recognition Video to detect and recognize faces in streaming video. A typical use case for this is detecting a known face in a video stream. Amazon Recognition Video uses Amazon Kinesis video streams to receive and process a video stream. Amazon Recognition Video uses Amazon Kinesis video streams to receive and process a video stream. The analysis results are output from Amazon Recognition Video to a Kinesis data stream. They are then read by your client application. Amazon Recognition Video provides a stream processor that's called CreateStreamProcessor, and you can use it to start and manage the analysis of the streaming video. To use Amazon Recognition Video with your streaming video, your application must implement these resources. First, you need a Kinesis video stream to send streaming video to Amazon Recognition Video. Next, you need an Amazon Recognition Video stream processor to manage the streaming video analysis. And finally, you need a Kinesis data stream consumer to read the analysis results that Amazon Recognition Video sends to the data stream. If you want to find a face in a video, you sends to the data stream. If you want to find a face in a video, you need to create a collection. This process is the same as creating a collection for still images. Amazon Recognition Video places a JSON frame record for each analyzed frame into the Kinesis output stream. Amazon Recognition Video doesn't analyze every frame that's passed to it through the Kinesis video stream. A frame record that's sent to a Kinesis data stream contains information about which video stream fragment the frame is in, where the frame is in the fragment, and faces that are recognized in the frame. It also includes status information for the stream processor. Before we wrap up, here's a quick summary. Amazon Recognition is a computer vision service that's based on deep learning. You can easily add image and video analysis to your applications. Amazon Recognition can detect faces, sentiment, text, unsafe content, and library search in both images and video. Amazon Recognition is integrated with other AWS services. Thanks for watching. We'll see you in the next video.\n",
      "MoviePy - Writing audio in audios/Mod05_Sect03_part1.wav\n"
     ]
    },
    {
     "name": "stderr",
     "output_type": "stream",
     "text": [
      "                                                                      \r"
     ]
    },
    {
     "name": "stdout",
     "output_type": "stream",
     "text": [
      "MoviePy - Done.\n",
      "Successfully processed CUR-TF-200-ACMNLP-1/video/Mod05_Sect03_part1.mp4\n"
     ]
    },
    {
     "name": "stderr",
     "output_type": "stream",
     "text": [
      "Special tokens have been added in the vocabulary, make sure the associated word embeddings are fine-tuned or trained.\n"
     ]
    },
    {
     "name": "stdout",
     "output_type": "stream",
     "text": [
      " In this section, we'll look at preparing custom datasets for computer vision, so you can detect custom objects. One challenge of using a pre-built model is that it will only find images it was trained to find. Though Amazon Rekognition was trained with tens of millions of images, it can't detect objects that it wasn't trained on. For example, consider the 8 of hearts playing card. If you run this card through Amazon Recognition, the results show various attributes. However, none of the labels are playing card or 8 of hearts. If you want Amazon Recognition to detect images in your problem domain, you must train the model with your images. So in this section, you'll learn how to train Amazon Recognition with images from your problem domain. Though you'll focus only on using Amazon Recognition here, you'll encounter a similar process if you use other pre-trained models. Training a computer vision algorithm to recognize images requires a large input dataset, which isn't practical for most organizations. Many machine learning problems today can be solved by training existing models, or you can use a managed service like Amazon Recognition Custom Labels. Like other machine learning processes, you need to train Amazon Recognition so it recognizes scenes and objects that are in a specific domain. You'll need both a training dataset and a test dataset that contain labeled images. If you have images that need labels, you can use Amazon Recognition Custom Labels to simplify your labeling tasks. For example, it provides a UI for labeling images, which includes a feature you can use to draw bounding boxes around images. It can also help find objects and scenes that are unique to your business needs. You can use it to classify images or detect objects within an image. Say you want to identify specific machine parts in images, such as turbochargers or torque converters. You could collect pictures of each kind of machine part and use them to train your model. Amazon Rekognition Custom Labels also includes automated machine learning capabilities that handle the machine learning process for you. When you provide training images, the service can automatically load and inspect the data, select the correct machine learning algorithms, train a model, and provide model performance metrics. When you finish training your model, you can then evaluate your custom model's performance on your test set. Each image in the test set has a side-by-side comparison of the model's prediction versus the label it assigned. There are also detailed performance metrics for you to review. You can start using your model immediately for image analysis, or you can iterate and retrain new versions with more images to refine the model. After you start using your model, you can track your predictions, correct any mistakes, and use the feedback data to retrain new model versions and improve their performance. So how do you label images? The diagram shows a typical process for training a computer vision model, which includes the Amazon recognition custom labels feature. We'll step through this in some detail. The process of developing a custom model to analyze images requires time, expertise, and resources. It often takes months to complete. and resources. It often takes months to complete. It can also require thousands or tens of thousands of hand-labeled images so the model has enough data to make accurate decisions. It can take months to generate and gather this data. And it can require large teams of labelers to prepare it for use in machine learning. Amazon Recognition Custom Labels builds on the existing capabilities of Amazon Recognition, which is already trained on tens of millions of images across many categories. Instead of thousands of images, you can upload a small set of training images that are specific to your use case. Typically, you'd use a few hundred images for this. You can use the AWS Management Console to upload training images. If your images are already labeled, Amazon Recognition Custom Labels can begin training your model. If they're not, you can label the images directly in the labeling interface. Or you can use Amazon SageMaker Ground Truth to label them for you. There'll be more on that shortly. Amazon Recognition Custom Labels works best when you use different models for different domains. For example, if you need to detect both machine parts and plant health, you'd use two different models. Images you select for training should be similar to the images that will be used for inference. Use images that use various lighting conditions, backgrounds, and resolutions. Ideally, your training images will mirror images you'd want to perform detection on. If you can use the same source, like you'd use in production, that works best. The documentation includes additional guidelines on image type, so whether they are JPEGs or PNGs, and other properties, like image size and resolution. That's it for part one of this section. We'll see you again for part two, where we'll review how to create the training dataset.\n",
      "MoviePy - Writing audio in audios/Mod05_Sect03_part2.wav\n"
     ]
    },
    {
     "name": "stderr",
     "output_type": "stream",
     "text": [
      "                                                                      \r"
     ]
    },
    {
     "name": "stdout",
     "output_type": "stream",
     "text": [
      "MoviePy - Done.\n",
      "Successfully processed CUR-TF-200-ACMNLP-1/video/Mod05_Sect03_part2.mp4\n"
     ]
    },
    {
     "name": "stderr",
     "output_type": "stream",
     "text": [
      "Special tokens have been added in the vocabulary, make sure the associated word embeddings are fine-tuned or trained.\n"
     ]
    },
    {
     "name": "stdout",
     "output_type": "stream",
     "text": [
      " Hi, welcome back. We'll continue exploring video analysis by reviewing how to create the training dataset. Datasets contain information that's needed to train and test an Amazon Recognition Custom Labels model, such as images, labels, and bounding boxes. such as images, labels, and bounding boxes. You can use images from Amazon S3, or you can upload them from your computer to S3 as part of the process. To train a model, your dataset should have at least two labels, with at least 10 images per label. Each image in your dataset must be labeled. As we mentioned earlier, you can use the Amazon Recognition Custom Labels console or Amazon SageMaker Ground Truth to label your images. Again, to train an Amazon Recognition Custom Labels model, your images must be labeled. A label indicates that an image contains an object, scene, or concept. As we mentioned earlier, a dataset needs at least two defined labels. Also, each image must have at least one assigned label that identifies the object, scene, or concept in the image. When you apply labels to an image as a whole, these labels are known as image-level labels. They're useful for identifying scenes or concepts that you want to detect. For example, one of the images shows a beach scene from Ko'olina. It's on the island of Oahu in the US state of Hawaii. To train a model to detect beaches, you'd add a beach label that applies to the entire image. You can also apply labels to specific areas of an image that contain an object you want to detect. For example, if you want your model to detect Amazon Echo devices, it must identify the different types of Echo devices in an image. The model needs information about where the devices are located in the image, and it needs a corresponding label that identifies the type of the device. This information is known as localization information. The location of the device is expressed as a bounding box. The example objects with bounding boxes image shows a bounding box that surrounds an Amazon Echo dot. The image also contains an Amazon Echo without a bounding box. The output of the labeling process will be a manifest file. The manifest file for an image-level label typically contains the label, or class name, along with some metadata about how the image was labeled. For object detection, the manifest contains information about each labeled image. The bounding box identifies where the object is in the image, along with the label that the bounding box belongs to. We've mentioned Amazon SageMaker Ground Truth a few times. We'll now look at what it is and how it might help you. With SageMaker Ground Truth, you can build high-quality training datasets for your machine learning models. To use it, create a dataset that needs labeling. You then provide detailed instructions on what needs to be labeled and submit the job. You can decide who processes the images to create a labeled dataset. You can use workers from the Amazon Mechanical Turk service, a vendor company, or an internal workforce with machine learning. You can use the labeled dataset output from SageMaker Ground Truth to train your own models, or you can also use it with Amazon Rekognition custom labels. SageMaker Ground Truth can use active learning to automate the labeling of your input data. Active learning is a machine learning technique that identifies data that should be labeled by your workers. In SageMaker Ground Truth this functionality is called automated data labeling. Automated data labeling can reduce the time and cost it takes to label your data set compared to using only human workers. When you use automated labeling, you incur Amazon SageMaker training and inference costs. Yes, we just said that you can use machine learning to label the images that you'll then use for machine learning. We'll talk through how this works. When SageMaker Ground Truth starts an automated data labeling job, it selects a random sample of input data or objects and sends it to human workers. When the labeled data is returned, SageMaker Ground Truth uses this data, which is the validation data, to validate the models that were trained for automated data labeling. SageMaker Ground Truth runs a batch transform job using the validated model for inference on the validation data. Batch inference produces a confidence score and quality metric for each object in the validation data. Automated labeling determines if the confidence score for each object, which was produced in step five, meets the required threshold, which was determined in step four. If the confidence score meets the threshold, the expected quality of automatic labeling exceeds the requested level of accuracy. The object is then considered to be automatically labeled. Step 6 produces a dataset of unlabeled data with confidence scores. SageMaker Ground Truth selects data points with low confidence scores from this dataset and sends them to human workers for additional labeling. SageMaker Ground Truth then uses the existing human-labeled data and the additional human-labeled data to train a new model. The process is repeated until the dataset is fully labeled or until another stopping condition is met. For example, automatic labeling can stop when you meet your budget for human annotation. We recommend using automated data labeling on large data sets. The minimum number of objects allowed for automated data labeling is 1,250. However, we strongly suggest providing a minimum of 5,000 objects. That's it for part 2 of this section. We'll see you again for part 3, where we'll review how to evaluate and improve your model.\n",
      "MoviePy - Writing audio in audios/Mod05_Sect03_part3.wav\n"
     ]
    },
    {
     "name": "stderr",
     "output_type": "stream",
     "text": [
      "                                                                      \r"
     ]
    },
    {
     "name": "stdout",
     "output_type": "stream",
     "text": [
      "MoviePy - Done.\n",
      "Successfully processed CUR-TF-200-ACMNLP-1/video/Mod05_Sect03_part3.mp4\n"
     ]
    },
    {
     "name": "stderr",
     "output_type": "stream",
     "text": [
      "Special tokens have been added in the vocabulary, make sure the associated word embeddings are fine-tuned or trained.\n"
     ]
    },
    {
     "name": "stdout",
     "output_type": "stream",
     "text": [
      " Hi, welcome back. We'll continue exploring video analysis by reviewing how to create the test dataset. The final step before you train your model is to identify a test dataset. You will use this test dataset to validate and evaluate the model's performance. You'll do this by performing an inference on the images in the test dataset. You'll then compare the results with the labeling information that's in the training dataset. You can create your own test dataset. Alternatively, you can use Amazon Recognition Custom Labels to split your training dataset into two datasets by using an 80-20 split. This split means that 80% of the data is used for training and 20% is used for testing. After you define the training and test datasets, Amazon Recognition Custom Labels can automatically train the model for you. The service automatically loads and inspects the data, selects the correct machine learning algorithms, trains a model, and provides model performance metrics. You're charged for the amount of time a model takes to train. A dataset that contains more images and labels will take longer to train. When training's complete, you evaluate the performance of the model. During testing, Amazon Recognition Custom Labels predicts if a test image contains a custom label. The confidence score is a value that quantifies the certainty of the model's prediction. Because this is a classification problem, the results can be mapped to a confusion matrix. With a true positive, the model correctly predicts the presence of the custom label in the test image. That is, the predicted label is also a ground truth label for that image. For example, Amazon Recognition Custom Labels correctly returns a cat label when a cat is present in an image. For a false positive, the model incorrectly predicts the presence of a custom label in a test image. That is, the predicted label isn't a ground truth label for the image. For example, Amazon Recognition Custom Labels returns a cat label, but there's no cat label in the ground truth for that image. For a false negative, the model doesn't predict that a custom label is present in the image, but the ground truth for that image includes this label. For example, Amazon Recognition Custom Labels doesn't return a cat custom label for an image that contains a cat. With a true negative, the model correctly predicts that a custom label isn't present in the test image. For example, Amazon Recognition Custom Labels doesn't return a cat label for an image that doesn't contain a cat. The console provides access to true positive, false positive, and false negative values for each image in your test dataset. These prediction results are used to calculate the various metrics for each label and an aggregate of metrics for your entire test set. The same definitions apply to predictions that the model makes at the bounding box level. With bounding boxes, all metrics are calculated over each bounding box in each test image, regardless of whether the boxes are prediction or ground truth. To help you, Amazon Recognition Custom Labels provides various metrics. For example, you can view summary metrics and evaluation metrics for each label. It also provides precision metrics for each label, and an average precision metric for the entire test data set. Precision is the proportion of positive results that were correctly classified. Amazon Recognition Custom Labels provides average recall metrics for each label and an average recall metric for the entire test data set. Recall is the fraction of your test set labels that were correctly classified. Using the previous example of cats, that would be how many cats were correctly classified. The service also provides an average model performance score for each label, and an average model performance score for the entire test dataset. The F1 score combines precision and recall together to give you just one number that quantifies the overall performance of a particular machine learning algorithm. You might use the F1 score when you have a class imbalance, but you also want to preserve the equality between precision and sensitivity. A higher value means better model performance for both recall and precision. If you're satisfied with the accuracy of your model, you can start using it. That's it for part 3 of this section. We'll see you again for part 4 where we'll review how to evaluate and improve your model.\n",
      "MoviePy - Writing audio in audios/Mod05_Sect03_part4_ver2.wav\n"
     ]
    },
    {
     "name": "stderr",
     "output_type": "stream",
     "text": [
      "                                                                      \r"
     ]
    },
    {
     "name": "stdout",
     "output_type": "stream",
     "text": [
      "MoviePy - Done.\n",
      "Successfully processed CUR-TF-200-ACMNLP-1/video/Mod05_Sect03_part4_ver2.mp4\n"
     ]
    },
    {
     "name": "stderr",
     "output_type": "stream",
     "text": [
      "Special tokens have been added in the vocabulary, make sure the associated word embeddings are fine-tuned or trained.\n"
     ]
    },
    {
     "name": "stdout",
     "output_type": "stream",
     "text": [
      " Hi, welcome back. We'll continue exploring video analysis by reviewing how to evaluate and improve your model. In general, you can improve the quality of your model with larger quantities of better quality data. Use training images that clearly show the object or scene, and don't include many things that you're not interested in. For bounding boxes around objects, use training images that show the object as fully visible and not hidden by other objects. Make sure that your training and test data sets match the type of images that you'll eventually run inference on. For objects where you have just a few training examples, like logos, you should provide bounding boxes around the logo in your test images. These images represent the scenarios you want to localize the object in. Reducing false positives often results in better precision. To reduce false positives, first, check if increasing the confidence threshold enables you to keep the correct predictions while eliminating false positives. Increasing the confidence threshold eventually results in diminishing gains because of the trade-off between precision and recall for a given model. Next, check to see if you need to add additional classes for training. For example, if you are detecting cats, but often dogs are being flagged as cats, add dog as a label to your training dataset, along with the images of dogs that you got the false positive on. Effectively, you are helping the model learn to predict dog and not cat through the new training images. You might find that the model is confused between two of your custom labels, cat and dog. The test image with label cat is predicted as having label dog and vice versa. In this case, first check for mislabeled images in your training and test sets. Also, adding more training images that reflect this confusion will help a retrained model learn to better discriminate between cat and dog. Reducing false negatives often results in better recall. To reduce false negatives, first lower the confidence threshold. This should improve recall. Also use better examples to model the variety of both the object and the images they appear in. Finally, split your label into two classes that are easier to learn. For example, instead of good cookies and bad cookies, you might want good cookies, burnt cookies, and broken cookies to help the model learn each unique concept better. If you're satisfied with the performance of your model, you can make it available for use by starting it from the console or by using code. After the model is running, you can perform an inference with the AWS CLI or the SDK. When you call the API, you specify the Amazon resource name of the Amazon Recognition Custom Labels model that you want to use. The Amazon resource name is also known as an ARN. You'll also specify the image you want the model to make a prediction with. You can provide an input image as an image byte array of base64 encoded image bytes, or as an S3 object. Custom labels are returned in an array of custom label objects. Each custom label represents a single object, scene, or concept that's found in the image. A custom label includes a label for the object, scene, or concept that was found in the image. It also includes a bounding box for objects that were found in the image. The bounding box coordinates show where the object is located on the source image. The coordinate values are a ratio of the overall image size. Finally, the custom label includes the confidence score. This represents how confident Amazon Recognition Custom Labels is in the accuracy of the label and bounding box. During training, a model calculates a threshold value that determines if a prediction for a label is true. By default, the Detect Custom Labels operation doesn't return labels with a confidence value that's less than the model's calculated threshold value. To filter the returned labels, specify a value for minconfidence that's greater than the model's calculated threshold. You can get the model's calculated threshold from the model's training results in the Amazon Recognition Custom Labels console. To get all the labels regardless of confidence, specify a minconfidence value of 0. If you find that the confidence values returned by the Detect Custom Labels operation are too low, consider retraining the model. You can restrict the number of custom labels that are returned from the Detect Custom Labels operation by specifying the Max Results input parameter. The returned results are sorted from the highest confidence to the lowest confidence. Here are some key takeaways from this section of the module. Models must be trained for the specific domain that you want to analyze. If you're looking for turbochargers, you'll need many pictures of turbochargers to train your model. You can set custom labeling for the specific business case. We looked at the custom labeling process and some of the tools you can use. If you want objects to be detected, you need to label images and create bounding boxes for these objects. You can use Amazon SageMaker Ground Truth to build training datasets for your models, which can also use machine learning to label your images. Thanks for watching, and we'll see you in the next video.\n",
      "MoviePy - Writing audio in audios/Mod05_WrapUp_ver2.wav\n"
     ]
    },
    {
     "name": "stderr",
     "output_type": "stream",
     "text": [
      "                                                                     \r"
     ]
    },
    {
     "name": "stdout",
     "output_type": "stream",
     "text": [
      "MoviePy - Done.\n",
      "Successfully processed CUR-TF-200-ACMNLP-1/video/Mod05_WrapUp_ver2.mp4\n"
     ]
    },
    {
     "name": "stderr",
     "output_type": "stream",
     "text": [
      "Special tokens have been added in the vocabulary, make sure the associated word embeddings are fine-tuned or trained.\n"
     ]
    },
    {
     "name": "stdout",
     "output_type": "stream",
     "text": [
      " It's now time to summarize some of the main points in this module. In this module, you learned how to describe the use cases for computer vision, describe the Amazon Managed Machine Learning services available for image and video analysis, list the steps required to prepare a custom data set for object detection. Describe how Amazon SageMaker Ground Truth can be used to prepare a custom data set. And use Amazon Recognition to perform facial detection. That concludes this introduction to computer vision. Thanks for watching. We'll see you again in the next video.\n",
      "MoviePy - Writing audio in audios/Mod06_Intro.wav\n"
     ]
    },
    {
     "name": "stderr",
     "output_type": "stream",
     "text": [
      "                                                                     \r"
     ]
    },
    {
     "name": "stdout",
     "output_type": "stream",
     "text": [
      "MoviePy - Done.\n",
      "Successfully processed CUR-TF-200-ACMNLP-1/video/Mod06_Intro.mp4\n"
     ]
    },
    {
     "name": "stderr",
     "output_type": "stream",
     "text": [
      "Special tokens have been added in the vocabulary, make sure the associated word embeddings are fine-tuned or trained.\n"
     ]
    },
    {
     "name": "stdout",
     "output_type": "stream",
     "text": [
      " Introduction to Natural Language Processing Hi, and welcome to Module 6 of AWS Academy Machine Learning, Introduction to Natural Language Processing. In this module, we'll introduce Natural Language Processing, which is also known as NLP. This section includes a description of the major challenges faced by NLP and the overall development process for NLP applications. We'll then review five AWS services you can use to speed up the development of NLP-based applications. After completing this module, you should be able to describe the NLP use cases that are solved by using managed Amazon ML services and describe the managed Amazon ML services available for NLP let's get started\n",
      "MoviePy - Writing audio in audios/Mod06_Sect01.wav\n"
     ]
    },
    {
     "name": "stderr",
     "output_type": "stream",
     "text": [
      "                                                                        \r"
     ]
    },
    {
     "name": "stdout",
     "output_type": "stream",
     "text": [
      "MoviePy - Done.\n",
      "Successfully processed CUR-TF-200-ACMNLP-1/video/Mod06_Sect01.mp4\n"
     ]
    },
    {
     "name": "stderr",
     "output_type": "stream",
     "text": [
      "Special tokens have been added in the vocabulary, make sure the associated word embeddings are fine-tuned or trained.\n"
     ]
    },
    {
     "name": "stdout",
     "output_type": "stream",
     "text": [
      " We'll get started by reviewing what Natural Language Processing means. Natural Language Processing is also known as NLP. Before we explain what NLP is, we'll consider an example of NLP, Amazon Alexa. Alexa works by having a device, such as an Amazon Echo, record your words. The recording of your speech is sent to Amazon's servers to be analyzed more efficiently. Amazon breaks down your phrase into individual sounds. Then, it connects to a database containing the pronunciation of various words to find which words most closely correspond to the combination of individual sounds. Amazon identifies important words to make sense of the tasks and carry out corresponding functions. For instance, if Alexa notices words like outside or temperature, it will open the weather Alexa skill. Amazon servers then send the information back to your device and Alexa skill. Amazon servers then send the information back to your device, and Alexa speaks. NLP is a broad term for a general set of business or computational problems you can solve with machine learning, or ML. However, NLP systems predate machine learning. For example, speech-to-text on older pre-smartphone cell phones used NLP, and so did screen readers. Many NLP systems now use some form of machine learning. NLP considers the hierarchical structure of language. Words are at the lowest layer in a hierarchy. A group of words make a phrase. In the next level up, phrases make a sentence. And ultimately, sentences convey ideas. NLP systems face several significant challenges. We'll look at its challenges next. Language isn't precise. Words can have different meanings based on the other words that surround them. device. Words can have different meanings based on the other words that surround them. This is known as context. Often the same words or phrases can have multiple meanings. For example, consider the term weather. You could be under the weather, which has a colloquial meaning in English that you're sick. Or you could say, there's wonderful weather outside, which means the weather conditions outside are good. The phrase, oh really, could convey surprise, disagreement, and many other things. It depends on the context and inflection. Here are some of the main challenges for NLP. One challenge is discovering the structure of the text. One challenge is discovering the structure of the text. One of the first tasks of any NLP application is to break down the text into meaningful units, such as words, phrases, and sentences. Another challenge is labeling data. After the system converts the text to data, it must apply labels representing the various parts of speech. Every language will require a different labeling scheme to match the language's grammar. NLP also faces a challenge in representing context. Because word meaning can depend heavily on context, any NLP system needs a way to represent it. This is a large challenge because there are many contexts, and it's difficult to convert context into a form computers can understand. Finally, although grammar defines a structure for language, the application of grammar is indescribably large in scope. Handling the variation in how language is used by humans is a major challenge for NLP systems. That's where machine learning can have a large impact. You can apply NLP to a range of problems. Some of the more common applications include search applications such as Google or Bing, human-machine interactions like Alexa, sentiment analysis for marketing or political campaigns, social research based on media analysis, and chatbots to mimic human speech in applications. You can apply the machine learning development pipeline you've seen throughout this course when developing an NLP solution. The first task is to formulate a problem, then collect and label data. For NLP, collecting data consists of breaking down the text into meaningful subsets and labeling the sets. Feature engineering is a major part of NLP applications. This process gets complicated when you're dealing with highly irregular or unstructured text. For example, say you're building an application to classify documents. You'd need to be able to distinguish between the words with common terms but different meanings. Labeling data in the NLP domain is sometimes also called tagging. In the labeling process, you assign individual text strings to different parts of speech. There are specialized tools you can use for NLP labeling. The first task for an NLP application is to convert the text to data so it can be analyzed. You convert text by removing words that aren't needed for analysis from the input text. In the example, the words this and is are removed to leave the phrase sample text. After removing stop words, you can normalize text by converting similar words into a common form. For example, the words run, runner, ran, and running are all different forms of the word run. You can normalize all instances of these words in a block of text using the stemming and lemmatization processes. Lemmatization groups different forms of a word into a single term. Limitization of the versions of the word run would group all instances of those forms into a single term, run. Stemming, on the other hand, removes characters that the stemming algorithm considers unnecessary. Stemming might not work with the run example, as the form ran might not be recognized as a form of the word run. After you've normalized the text, you can standardize it by removing words that aren't in the dictionary you're using for analysis. For example, you could remove acronyms, slang, and special characters. The Natural Language Toolkit is also known as NLTK. Their Python library provides functions for removing stop words and normalizing text. Another first step in creating an NLP system is to convert the text into a data collection such as a data frame. All NLP libraries provide functions to assist with this process. The example shows using the word tokenize function from the NLTK library. After you've cleaned up your text and loaded it into a data frame, you can apply one of the NLP models to create features. Here are a couple of common models. The first model is known as bag of words. This is a simple model for capturing the frequency of words in a document. The model creates a key for each word. The value of the key is the number of times that word occurs in the document. The second model is term frequency and inverse document frequency, which is also known as TF-IDF. Term frequency is a count of how many times a word appears in a document. Inverse document frequency is the number of times a word occurs in a group of documents. These two values are used together to calculate a weight for the words. Words that frequently appear in many documents have a lower weight. There are many established models in the NLP field. The example shows a bag-of-words model. Bag-of-words is a vector model. Vector models convert each sentence or phrase into a vector, which is a mathematical object that records both directionality and magnitude. In the example, a simple sentence is converted into a vector, where the frequency of each word is recorded. The word is has a value of 2 because it appears twice in the sentence. Bag of words is often used to classify documents into different categories. It's also used to derive attributes that feed into NLP applications, such as in sentiment analysis. There are three broad categories of text analysis. First, the classification of text is similar to other classification systems you've seen in this course. Text provides the input to a process that extracts features. Then you send the features through a machine learning algorithm that interacts with a classifier model and infers the classification. There are many applications for text matching. For example, autocorrect spelling and grammar checking are based on text matching. The algorithm for edit distance, also known as the Levenstein distance, is frequently used. You can derive relationships between different words or phrases in the text using a process called co-reference resolution. Several NLP systems provide Python libraries for deriving relationships. One of the biggest challenges for NLP is how to describe the context for the text. Consider this example where a user is searching for the term tablet. Because the word tablet has at least two distinct meanings, the search engine needs to know which meaning the user has in mind. Most search engines rely on the most commonly used context if the term isn't qualified further. For example, by adding another term like medicine or computing to the search. The process of extracting entities is known as named entity recognition, or NER. An NER model has the following functions. First, it can identify noun phrases using dependency charts and part of speech tagging. It can classify phrases using a classification algorithm, such as Word2Vec. Finally, it can disambiguate entities using a knowledge graph. Here's an example of using NER to extract the entities Titanic and North Atlantic from the text. After the named entities are extracted, you can use a knowledge graph to extract meaning. A knowledge graph combines subject matter expertise with machine learning to extract meaning. A knowledge graph combines subject matter expertise with machine learning to derive meaning. The Amazon Recommendations Engine is an example of a knowledge graph. Here are the main points to remember from this section. First, NLP predates machine learning. You can use the same ML workflow that you've seen in other modules for NLP. Some of the main use cases for NLP are search query analysis, human-machine interaction, and marketing and social research. NLP is complicated because human language lacks precision. Thanks for watching, we'll see you in the next video.\n",
      "MoviePy - Writing audio in audios/Mod06_Sect02.wav\n"
     ]
    },
    {
     "name": "stderr",
     "output_type": "stream",
     "text": [
      "                                                                        \r"
     ]
    },
    {
     "name": "stdout",
     "output_type": "stream",
     "text": [
      "MoviePy - Done.\n",
      "Successfully processed CUR-TF-200-ACMNLP-1/video/Mod06_Sect02.mp4\n"
     ]
    },
    {
     "name": "stderr",
     "output_type": "stream",
     "text": [
      "Special tokens have been added in the vocabulary, make sure the associated word embeddings are fine-tuned or trained.\n"
     ]
    },
    {
     "name": "stdout",
     "output_type": "stream",
     "text": [
      " Welcome back. In this section, we'll review five managed machine learning services you can use for various use cases. These services simplify the process of creating a machine learning application. We'll start by looking at Amazon Transcribe. You can use Amazon Transcribe to recognize speech in audio files and produce a transcription. It can recognize specific voices in an audio file, and you can create a customized vocabulary for terms that are specialized for a particular domain. You can also add a transcription service to your applications by integrating with WebSockets, a transcription service to your applications by integrating with WebSockets, an internet protocol you can use for two-way communication between an application and Amazon Transcribe. Here are some of the more common use cases for Amazon Transcribe. First, medical professionals can record their notes, and Amazon Transcribe can capture their spoken notes as text. Also, video production organizations can generate subtitles automatically from video. This could also be done in real time for a live feed to add closed captioning. Media companies can use Amazon Transcribe to capture and label content. They can then feed the content into Amazon Comprehend for further analysis. Last, companies can record customer service or sales calls and transcribe them. They can analyze the results for training or for strategic opportunities. Amazon Polly can convert text into lifelike speech. You can input either plain text files or a file that's formatted in Speech Synthesis Markup Language, or SSML. SSML is a markup language used to provide special instructions for how speech should sound. For example, if you want to introduce a pause in the flow of speech, you can add an SSML tag that instructs Amazon Polly to pause between two words. You can also output speech from Amazon Polly to MP3, Vorbis, and PCM audio stream formats. Amazon Polly is eligible for use with certain regulated workloads. For example, it's eligible for use with the U.S. Health Insurance Portability and Accountability Act of 1996, or HIPAA. Amazon Polly is also eligible for use with Payment Card Industry Data Security Standard, or PCI DSS. Here are some of the more common use cases for Amazon Polly. As a first example, major news companies are using Amazon Polly to generate vocal content directly from their written stories. It's also been embedded in mapping APIs so developers can add voice to their geo-based applications. Language training companies have used Amazon Polly to create systems for learning a new language. Finally, animators have used it to add voices to their characters. With Amazon Translate, you can create multi-language experiences in your applications. You can create systems that read documents in one language and then render or store them in another language. You can also use it as part of a document analysis system. Amazon Translate is fully integrated with other machine learning services, such as Amazon Comprehend, Amazon Transcribe, and Amazon Polly. With this integration, you can extract named entities, sentiment and key phrases by integrating it with Amazon Comprehend, create multilingual subtitles with Amazon Transcribe, and speak translated content with Amazon Polly. Here are some of the more common use cases for Amazon Translate. The first use case is building international websites. You can use Amazon Translate to quickly globalize your websites. Amazon Translate can also be used to develop multilingual chatbots. Chatbots are used to create a more human-like interface to applications. With Amazon Translate, you can create a chatbot that speaks multiple languages. Another use case is software localization. Localization is a major cost for all software aimed at a global audience. Amazon Translate can decrease software development time and significantly reduce costs for localizing software. The final example use case is international media management. Companies that manage media for a global audience have used Amazon Translate to reduce their costs for localization. Amazon Comprehend implements many of the NLP techniques that we reviewed earlier in this module. You can extract key entities, perform sentiment analysis, and tag words with parts of speech. Here are some of the more common use cases for Amazon Comprehend. The first example is analyzing legal and medical documents. is analyzing legal and medical documents. Legal, insurance, and medical organizations have used Amazon Comprehend to perform many of the NLP functions we reviewed in this module. Another use is for large-scale mobile app analysis. Mobile app developers use Amazon Comprehend to look for patterns of usage with their apps so they can design improvements. Financial fraud detection is another use case for Amazon Comprehend. Banking, financial, and other institutions have used it to examine very large datasets of financial transactions to uncover fraud and look for patterns of illegal transactions. Finally, it can be used for content management. Media and other content companies can use Amazon Comprehend to tag content for analysis and management. With Amazon Lex, you can add a human language front end to your applications. Amazon Lex lets you use the same conversational engine that powers Amazon Alexa. You can automatically increase capacity for your Amazon Lex solution by creating AWS Lambda functions that scale on demand. You can also store log files of the conversations for further analysis. Here are some of the more common use cases for Amazon Lex. The first use case is building front-end interfaces for inventory management and sales. Voice interfaces are becoming more common. Companies have used Amazon Lex to add chatbots to their inventory and sales applications. Another use for Amazon Lex is creating customer service interfaces. Human-like voice applications are quickly becoming the standard for many customer service applications. Amazon Lex can reduce the time it takes to develop these chatbots and increase their quality. Amazon Lex can also be used to develop interactive assistance. By combining Amazon Lex with other ML services, customers are creating more sophisticated assistance for many different industries. The final example use case is querying databases with a human-like language. Amazon Lex has been combined with other AWS database services to create sophisticated data analysis applications with a human-like language interface. Here are some of the main points you should take away from this module. First, Amazon Transcribe can automatically convert spoken language to text. Amazon Polly can convert written text to spoken language. Amazon Translate can create real-time translation between languages. Amazon Comprehend automates many of the NLP use cases reviewed in this module. And finally, Amazon Lex can create a human-like interface to your applications. Thanks for watching. We'll see you in the next video.\n",
      "MoviePy - Writing audio in audios/Mod06_WrapUp.wav\n"
     ]
    },
    {
     "name": "stderr",
     "output_type": "stream",
     "text": [
      "                                                                    "
     ]
    },
    {
     "name": "stdout",
     "output_type": "stream",
     "text": [
      "MoviePy - Done.\n",
      "Successfully processed CUR-TF-200-ACMNLP-1/video/Mod06_WrapUp.mp4\n"
     ]
    },
    {
     "name": "stderr",
     "output_type": "stream",
     "text": [
      "Special tokens have been added in the vocabulary, make sure the associated word embeddings are fine-tuned or trained.\n"
     ]
    },
    {
     "name": "stdout",
     "output_type": "stream",
     "text": [
      " Welcome back. It's now time to review the module and wrap it up. In summary, in this module, you learned how to describe the NLP use cases that are solved by using managed Amazon ML services and describe the managed ML services available for NLP. Good job. Thanks for watching. We'll see you in the next module. and describe the managed ML services available for NLP. Good job. Thanks for watching. We'll see you in the next module.\n",
      "MoviePy - Writing audio in audios/Mod07_Sect01.wav\n"
     ]
    },
    {
     "name": "stderr",
     "output_type": "stream",
     "text": [
      "                                                                      \r"
     ]
    },
    {
     "name": "stdout",
     "output_type": "stream",
     "text": [
      "MoviePy - Done.\n",
      "Successfully processed CUR-TF-200-ACMNLP-1/video/Mod07_Sect01.mp4\n"
     ]
    },
    {
     "name": "stderr",
     "output_type": "stream",
     "text": [
      "Special tokens have been added in the vocabulary, make sure the associated word embeddings are fine-tuned or trained.\n"
     ]
    },
    {
     "name": "stdout",
     "output_type": "stream",
     "text": [
      " Welcome to Module 7, Course Wrap-Up. Congratulations on completing the AWS Academy Machine Learning course. We'll take a few minutes to review what you've learned and where you can go from here. We're going to start with a review of what you've learned in this course. You learned how to describe machine learning, implement a machine learning pipeline, and use Amazon machine learning services for forecasting, computer vision, and natural language processing. Well done. Although this course isn't designed to prepare you to become certified for the AWS Certified Machine Learning specialty, we'll review how you can continue to work towards that certification. AWS Certification helps you build credibility and confidence by validating your cloud expertise with an industry-recognized credential. It also helps organizations identify skilled professionals who can lead cloud initiatives by using AWS. You must earn a passing score by taking a proctored exam to earn an AWS certification. After receiving a passing score, you'll receive your certification credentials. AWS certification doesn't publish a list of all services or features that are covered in a certification exam. However, there's an exam guide for each exam, and it lists the current topic areas and objectives covered in the exam. Exam guides can be found on the Prepare for Your AWS Certification Exam webpage. You'll be required to update your certification or recertify every three years. View the AWS Certification Recertification page for more details. The information on this slide is current as of June 2020. However, exams are frequently updated. Also, the details regarding which exams are available and what topics are tested by each exam are subject to change. The AWS Certified Machine Learning Specialty means you can select and justify the appropriate machine learning approach for a given business problem. You can also identify appropriate AWS services to implement machine learning solutions. And finally, you can design and implement scalable, cost-optimized, reliable, and secure machine learning solutions. Before sitting for the AWS Certified Machine Learning Specialty exam, we recommend that you have the following knowledge and experience. First, you should have one to two years of experience developing, architecting, or running ML or deep learning workloads on the AWS Cloud. Your experience should include performing basic hyperparameter optimization and working with machine learning and deep learning frameworks. You should also be able to express the intuition behind basic ML algorithms. Finally, you should be able to follow best practices for model training, in addition to best practices for deployment and operations. Thanks for watching and congratulations on completing the AWS Academy Machine Learning course.\n"
     ]
    },
    {
     "data": {
      "text/html": [
       "<div>\n",
       "<style scoped>\n",
       "    .dataframe tbody tr th:only-of-type {\n",
       "        vertical-align: middle;\n",
       "    }\n",
       "\n",
       "    .dataframe tbody tr th {\n",
       "        vertical-align: top;\n",
       "    }\n",
       "\n",
       "    .dataframe thead th {\n",
       "        text-align: right;\n",
       "    }\n",
       "</style>\n",
       "<table border=\"1\" class=\"dataframe\">\n",
       "  <thead>\n",
       "    <tr style=\"text-align: right;\">\n",
       "      <th></th>\n",
       "      <th>video</th>\n",
       "      <th>audio</th>\n",
       "      <th>text</th>\n",
       "    </tr>\n",
       "  </thead>\n",
       "  <tbody>\n",
       "    <tr>\n",
       "      <th>0</th>\n",
       "      <td>Mod01_Course Overview.mp4</td>\n",
       "      <td>Mod01_Course Overview.wav</td>\n",
       "      <td>Hi, and welcome to Amazon Academy Machine Lea...</td>\n",
       "    </tr>\n",
       "    <tr>\n",
       "      <th>1</th>\n",
       "      <td>Mod02_Intro.mp4</td>\n",
       "      <td>Mod02_Intro.wav</td>\n",
       "      <td>Hi, and welcome to Module 2 of AWS Academy Ma...</td>\n",
       "    </tr>\n",
       "    <tr>\n",
       "      <th>2</th>\n",
       "      <td>Mod02_Sect01.mp4</td>\n",
       "      <td>Mod02_Sect01.wav</td>\n",
       "      <td>Hi, and welcome to Section 1. In this section...</td>\n",
       "    </tr>\n",
       "    <tr>\n",
       "      <th>3</th>\n",
       "      <td>Mod02_Sect02.mp4</td>\n",
       "      <td>Mod02_Sect02.wav</td>\n",
       "      <td>Hi and welcome back. In this section, we're g...</td>\n",
       "    </tr>\n",
       "    <tr>\n",
       "      <th>4</th>\n",
       "      <td>Mod02_Sect03.mp4</td>\n",
       "      <td>Mod02_Sect03.wav</td>\n",
       "      <td>Hi and welcome back. This is section 3 and we...</td>\n",
       "    </tr>\n",
       "    <tr>\n",
       "      <th>5</th>\n",
       "      <td>Mod02_Sect04.mp4</td>\n",
       "      <td>Mod02_Sect04.wav</td>\n",
       "      <td>Welcome back. In this section, we'll look at ...</td>\n",
       "    </tr>\n",
       "    <tr>\n",
       "      <th>6</th>\n",
       "      <td>Mod02_Sect05.mp4</td>\n",
       "      <td>Mod02_Sect05.wav</td>\n",
       "      <td>Hi, welcome back. This is section 5 and we're...</td>\n",
       "    </tr>\n",
       "    <tr>\n",
       "      <th>7</th>\n",
       "      <td>Mod02_WrapUp.mp4</td>\n",
       "      <td>Mod02_WrapUp.wav</td>\n",
       "      <td>It's now time to review the module. Here are ...</td>\n",
       "    </tr>\n",
       "    <tr>\n",
       "      <th>8</th>\n",
       "      <td>Mod03_Intro.mp4</td>\n",
       "      <td>Mod03_Intro.wav</td>\n",
       "      <td>Welcome back to AWS Academy Machine Learning....</td>\n",
       "    </tr>\n",
       "    <tr>\n",
       "      <th>9</th>\n",
       "      <td>Mod03_Sect01.mp4</td>\n",
       "      <td>Mod03_Sect01.wav</td>\n",
       "      <td>Hi, and welcome back to module 3. This is sec...</td>\n",
       "    </tr>\n",
       "    <tr>\n",
       "      <th>10</th>\n",
       "      <td>Mod03_Sect02_part1.mp4</td>\n",
       "      <td>Mod03_Sect02_part1.wav</td>\n",
       "      <td>Hi, welcome back. We're now going to look at ...</td>\n",
       "    </tr>\n",
       "    <tr>\n",
       "      <th>11</th>\n",
       "      <td>Mod03_Sect02_part2.mp4</td>\n",
       "      <td>Mod03_Sect02_part2.wav</td>\n",
       "      <td>Hi, welcome back. We'll continue exploring da...</td>\n",
       "    </tr>\n",
       "    <tr>\n",
       "      <th>12</th>\n",
       "      <td>Mod03_Sect02_part3.mp4</td>\n",
       "      <td>Mod03_Sect02_part3.wav</td>\n",
       "      <td>Hi, welcome back. We'll continue exploring da...</td>\n",
       "    </tr>\n",
       "    <tr>\n",
       "      <th>13</th>\n",
       "      <td>Mod03_Sect03_part1.mp4</td>\n",
       "      <td>Mod03_Sect03_part1.wav</td>\n",
       "      <td>Hi and welcome back. This is section 3 and we...</td>\n",
       "    </tr>\n",
       "    <tr>\n",
       "      <th>14</th>\n",
       "      <td>Mod03_Sect03_part2.mp4</td>\n",
       "      <td>Mod03_Sect03_part2.wav</td>\n",
       "      <td>Hi, welcome back. We'll continue exploring ho...</td>\n",
       "    </tr>\n",
       "    <tr>\n",
       "      <th>15</th>\n",
       "      <td>Mod03_Sect03_part3.mp4</td>\n",
       "      <td>Mod03_Sect03_part3.wav</td>\n",
       "      <td>Hi, welcome back. Now we'll review how to fin...</td>\n",
       "    </tr>\n",
       "    <tr>\n",
       "      <th>16</th>\n",
       "      <td>Mod03_Sect04_part1.mp4</td>\n",
       "      <td>Mod03_Sect04_part1.wav</td>\n",
       "      <td>Hi, and welcome to section 4. In this section...</td>\n",
       "    </tr>\n",
       "    <tr>\n",
       "      <th>17</th>\n",
       "      <td>Mod03_Sect04_part2.mp4</td>\n",
       "      <td>Mod03_Sect04_part2.wav</td>\n",
       "      <td>Hi, welcome back. We'll continue exploring fe...</td>\n",
       "    </tr>\n",
       "    <tr>\n",
       "      <th>18</th>\n",
       "      <td>Mod03_Sect04_part3.mp4</td>\n",
       "      <td>Mod03_Sect04_part3.wav</td>\n",
       "      <td>Hi, welcome back. We'll continue exploring fe...</td>\n",
       "    </tr>\n",
       "    <tr>\n",
       "      <th>19</th>\n",
       "      <td>Mod03_Sect05.mp4</td>\n",
       "      <td>Mod03_Sect05.wav</td>\n",
       "      <td>Hi, welcome back to module 3. This is section...</td>\n",
       "    </tr>\n",
       "    <tr>\n",
       "      <th>20</th>\n",
       "      <td>Mod03_Sect06.mp4</td>\n",
       "      <td>Mod03_Sect06.wav</td>\n",
       "      <td>Hi and welcome back. This is section 6 and we...</td>\n",
       "    </tr>\n",
       "    <tr>\n",
       "      <th>21</th>\n",
       "      <td>Mod03_Sect07_part1.mp4</td>\n",
       "      <td>Mod03_Sect07_part1.wav</td>\n",
       "      <td>Hi, welcome back to module 3. In this section...</td>\n",
       "    </tr>\n",
       "    <tr>\n",
       "      <th>22</th>\n",
       "      <td>Mod03_Sect07_part2.mp4</td>\n",
       "      <td>Mod03_Sect07_part2.wav</td>\n",
       "      <td>Hi, welcome back. We'll continue exploring ho...</td>\n",
       "    </tr>\n",
       "    <tr>\n",
       "      <th>23</th>\n",
       "      <td>Mod03_Sect07_part3.mp4</td>\n",
       "      <td>Mod03_Sect07_part3.wav</td>\n",
       "      <td>Hi, welcome back. We'll continue exploring ho...</td>\n",
       "    </tr>\n",
       "    <tr>\n",
       "      <th>24</th>\n",
       "      <td>Mod03_Sect08.mp4</td>\n",
       "      <td>Mod03_Sect08.wav</td>\n",
       "      <td>Hi, and welcome back to module 3. This is sec...</td>\n",
       "    </tr>\n",
       "    <tr>\n",
       "      <th>25</th>\n",
       "      <td>Mod03_WrapUp.mp4</td>\n",
       "      <td>Mod03_WrapUp.wav</td>\n",
       "      <td>It's now time to review the module and wrap u...</td>\n",
       "    </tr>\n",
       "    <tr>\n",
       "      <th>26</th>\n",
       "      <td>Mod04_Intro.mp4</td>\n",
       "      <td>Mod04_Intro.wav</td>\n",
       "      <td>Hi, and welcome to Module 4 of AWS Academy Ma...</td>\n",
       "    </tr>\n",
       "    <tr>\n",
       "      <th>27</th>\n",
       "      <td>Mod04_Sect01.mp4</td>\n",
       "      <td>Mod04_Sect01.wav</td>\n",
       "      <td>Hi, and welcome to Section 1. We'll get start...</td>\n",
       "    </tr>\n",
       "    <tr>\n",
       "      <th>28</th>\n",
       "      <td>Mod04_Sect02_part1.mp4</td>\n",
       "      <td>Mod04_Sect02_part1.wav</td>\n",
       "      <td>Hi and welcome back. This is section 2 and we...</td>\n",
       "    </tr>\n",
       "    <tr>\n",
       "      <th>29</th>\n",
       "      <td>Mod04_Sect02_part2.mp4</td>\n",
       "      <td>Mod04_Sect02_part2.wav</td>\n",
       "      <td>Hi, welcome back. We'll continue exploring wr...</td>\n",
       "    </tr>\n",
       "    <tr>\n",
       "      <th>30</th>\n",
       "      <td>Mod04_Sect02_part3.mp4</td>\n",
       "      <td>Mod04_Sect02_part3.wav</td>\n",
       "      <td>Hi and welcome back. In this section, we'll l...</td>\n",
       "    </tr>\n",
       "    <tr>\n",
       "      <th>31</th>\n",
       "      <td>Mod04_WrapUp.mp4</td>\n",
       "      <td>Mod04_WrapUp.wav</td>\n",
       "      <td>Hi, welcome back. It's now time to review the...</td>\n",
       "    </tr>\n",
       "    <tr>\n",
       "      <th>32</th>\n",
       "      <td>Mod05_Intro.mp4</td>\n",
       "      <td>Mod05_Intro.wav</td>\n",
       "      <td>Welcome back to AWS Academy Machine Learning....</td>\n",
       "    </tr>\n",
       "    <tr>\n",
       "      <th>33</th>\n",
       "      <td>Mod05_Sect01_ver2.mp4</td>\n",
       "      <td>Mod05_Sect01_ver2.wav</td>\n",
       "      <td>Hi, welcome back. This is section one, and we...</td>\n",
       "    </tr>\n",
       "    <tr>\n",
       "      <th>34</th>\n",
       "      <td>Mod05_Sect02_part1_ver2.mp4</td>\n",
       "      <td>Mod05_Sect02_part1_ver2.wav</td>\n",
       "      <td>Welcome back. In this section, we'll explore ...</td>\n",
       "    </tr>\n",
       "    <tr>\n",
       "      <th>35</th>\n",
       "      <td>Mod05_Sect02_part2.mp4</td>\n",
       "      <td>Mod05_Sect02_part2.wav</td>\n",
       "      <td>Hi, welcome back. We'll continue exploring im...</td>\n",
       "    </tr>\n",
       "    <tr>\n",
       "      <th>36</th>\n",
       "      <td>Mod05_Sect03_part1.mp4</td>\n",
       "      <td>Mod05_Sect03_part1.wav</td>\n",
       "      <td>In this section, we'll look at preparing cust...</td>\n",
       "    </tr>\n",
       "    <tr>\n",
       "      <th>37</th>\n",
       "      <td>Mod05_Sect03_part2.mp4</td>\n",
       "      <td>Mod05_Sect03_part2.wav</td>\n",
       "      <td>Hi, welcome back. We'll continue exploring vi...</td>\n",
       "    </tr>\n",
       "    <tr>\n",
       "      <th>38</th>\n",
       "      <td>Mod05_Sect03_part3.mp4</td>\n",
       "      <td>Mod05_Sect03_part3.wav</td>\n",
       "      <td>Hi, welcome back. We'll continue exploring vi...</td>\n",
       "    </tr>\n",
       "    <tr>\n",
       "      <th>39</th>\n",
       "      <td>Mod05_Sect03_part4_ver2.mp4</td>\n",
       "      <td>Mod05_Sect03_part4_ver2.wav</td>\n",
       "      <td>Hi, welcome back. We'll continue exploring vi...</td>\n",
       "    </tr>\n",
       "    <tr>\n",
       "      <th>40</th>\n",
       "      <td>Mod05_WrapUp_ver2.mp4</td>\n",
       "      <td>Mod05_WrapUp_ver2.wav</td>\n",
       "      <td>It's now time to summarize some of the main p...</td>\n",
       "    </tr>\n",
       "    <tr>\n",
       "      <th>41</th>\n",
       "      <td>Mod06_Intro.mp4</td>\n",
       "      <td>Mod06_Intro.wav</td>\n",
       "      <td>Introduction to Natural Language Processing H...</td>\n",
       "    </tr>\n",
       "    <tr>\n",
       "      <th>42</th>\n",
       "      <td>Mod06_Sect01.mp4</td>\n",
       "      <td>Mod06_Sect01.wav</td>\n",
       "      <td>We'll get started by reviewing what Natural L...</td>\n",
       "    </tr>\n",
       "    <tr>\n",
       "      <th>43</th>\n",
       "      <td>Mod06_Sect02.mp4</td>\n",
       "      <td>Mod06_Sect02.wav</td>\n",
       "      <td>Welcome back. In this section, we'll review f...</td>\n",
       "    </tr>\n",
       "    <tr>\n",
       "      <th>44</th>\n",
       "      <td>Mod06_WrapUp.mp4</td>\n",
       "      <td>Mod06_WrapUp.wav</td>\n",
       "      <td>Welcome back. It's now time to review the mod...</td>\n",
       "    </tr>\n",
       "    <tr>\n",
       "      <th>45</th>\n",
       "      <td>Mod07_Sect01.mp4</td>\n",
       "      <td>Mod07_Sect01.wav</td>\n",
       "      <td>Welcome to Module 7, Course Wrap-Up. Congratu...</td>\n",
       "    </tr>\n",
       "  </tbody>\n",
       "</table>\n",
       "</div>"
      ],
      "text/plain": [
       "                          video                        audio  \\\n",
       "0     Mod01_Course Overview.mp4    Mod01_Course Overview.wav   \n",
       "1               Mod02_Intro.mp4              Mod02_Intro.wav   \n",
       "2              Mod02_Sect01.mp4             Mod02_Sect01.wav   \n",
       "3              Mod02_Sect02.mp4             Mod02_Sect02.wav   \n",
       "4              Mod02_Sect03.mp4             Mod02_Sect03.wav   \n",
       "5              Mod02_Sect04.mp4             Mod02_Sect04.wav   \n",
       "6              Mod02_Sect05.mp4             Mod02_Sect05.wav   \n",
       "7              Mod02_WrapUp.mp4             Mod02_WrapUp.wav   \n",
       "8               Mod03_Intro.mp4              Mod03_Intro.wav   \n",
       "9              Mod03_Sect01.mp4             Mod03_Sect01.wav   \n",
       "10       Mod03_Sect02_part1.mp4       Mod03_Sect02_part1.wav   \n",
       "11       Mod03_Sect02_part2.mp4       Mod03_Sect02_part2.wav   \n",
       "12       Mod03_Sect02_part3.mp4       Mod03_Sect02_part3.wav   \n",
       "13       Mod03_Sect03_part1.mp4       Mod03_Sect03_part1.wav   \n",
       "14       Mod03_Sect03_part2.mp4       Mod03_Sect03_part2.wav   \n",
       "15       Mod03_Sect03_part3.mp4       Mod03_Sect03_part3.wav   \n",
       "16       Mod03_Sect04_part1.mp4       Mod03_Sect04_part1.wav   \n",
       "17       Mod03_Sect04_part2.mp4       Mod03_Sect04_part2.wav   \n",
       "18       Mod03_Sect04_part3.mp4       Mod03_Sect04_part3.wav   \n",
       "19             Mod03_Sect05.mp4             Mod03_Sect05.wav   \n",
       "20             Mod03_Sect06.mp4             Mod03_Sect06.wav   \n",
       "21       Mod03_Sect07_part1.mp4       Mod03_Sect07_part1.wav   \n",
       "22       Mod03_Sect07_part2.mp4       Mod03_Sect07_part2.wav   \n",
       "23       Mod03_Sect07_part3.mp4       Mod03_Sect07_part3.wav   \n",
       "24             Mod03_Sect08.mp4             Mod03_Sect08.wav   \n",
       "25             Mod03_WrapUp.mp4             Mod03_WrapUp.wav   \n",
       "26              Mod04_Intro.mp4              Mod04_Intro.wav   \n",
       "27             Mod04_Sect01.mp4             Mod04_Sect01.wav   \n",
       "28       Mod04_Sect02_part1.mp4       Mod04_Sect02_part1.wav   \n",
       "29       Mod04_Sect02_part2.mp4       Mod04_Sect02_part2.wav   \n",
       "30       Mod04_Sect02_part3.mp4       Mod04_Sect02_part3.wav   \n",
       "31             Mod04_WrapUp.mp4             Mod04_WrapUp.wav   \n",
       "32              Mod05_Intro.mp4              Mod05_Intro.wav   \n",
       "33        Mod05_Sect01_ver2.mp4        Mod05_Sect01_ver2.wav   \n",
       "34  Mod05_Sect02_part1_ver2.mp4  Mod05_Sect02_part1_ver2.wav   \n",
       "35       Mod05_Sect02_part2.mp4       Mod05_Sect02_part2.wav   \n",
       "36       Mod05_Sect03_part1.mp4       Mod05_Sect03_part1.wav   \n",
       "37       Mod05_Sect03_part2.mp4       Mod05_Sect03_part2.wav   \n",
       "38       Mod05_Sect03_part3.mp4       Mod05_Sect03_part3.wav   \n",
       "39  Mod05_Sect03_part4_ver2.mp4  Mod05_Sect03_part4_ver2.wav   \n",
       "40        Mod05_WrapUp_ver2.mp4        Mod05_WrapUp_ver2.wav   \n",
       "41              Mod06_Intro.mp4              Mod06_Intro.wav   \n",
       "42             Mod06_Sect01.mp4             Mod06_Sect01.wav   \n",
       "43             Mod06_Sect02.mp4             Mod06_Sect02.wav   \n",
       "44             Mod06_WrapUp.mp4             Mod06_WrapUp.wav   \n",
       "45             Mod07_Sect01.mp4             Mod07_Sect01.wav   \n",
       "\n",
       "                                                 text  \n",
       "0    Hi, and welcome to Amazon Academy Machine Lea...  \n",
       "1    Hi, and welcome to Module 2 of AWS Academy Ma...  \n",
       "2    Hi, and welcome to Section 1. In this section...  \n",
       "3    Hi and welcome back. In this section, we're g...  \n",
       "4    Hi and welcome back. This is section 3 and we...  \n",
       "5    Welcome back. In this section, we'll look at ...  \n",
       "6    Hi, welcome back. This is section 5 and we're...  \n",
       "7    It's now time to review the module. Here are ...  \n",
       "8    Welcome back to AWS Academy Machine Learning....  \n",
       "9    Hi, and welcome back to module 3. This is sec...  \n",
       "10   Hi, welcome back. We're now going to look at ...  \n",
       "11   Hi, welcome back. We'll continue exploring da...  \n",
       "12   Hi, welcome back. We'll continue exploring da...  \n",
       "13   Hi and welcome back. This is section 3 and we...  \n",
       "14   Hi, welcome back. We'll continue exploring ho...  \n",
       "15   Hi, welcome back. Now we'll review how to fin...  \n",
       "16   Hi, and welcome to section 4. In this section...  \n",
       "17   Hi, welcome back. We'll continue exploring fe...  \n",
       "18   Hi, welcome back. We'll continue exploring fe...  \n",
       "19   Hi, welcome back to module 3. This is section...  \n",
       "20   Hi and welcome back. This is section 6 and we...  \n",
       "21   Hi, welcome back to module 3. In this section...  \n",
       "22   Hi, welcome back. We'll continue exploring ho...  \n",
       "23   Hi, welcome back. We'll continue exploring ho...  \n",
       "24   Hi, and welcome back to module 3. This is sec...  \n",
       "25   It's now time to review the module and wrap u...  \n",
       "26   Hi, and welcome to Module 4 of AWS Academy Ma...  \n",
       "27   Hi, and welcome to Section 1. We'll get start...  \n",
       "28   Hi and welcome back. This is section 2 and we...  \n",
       "29   Hi, welcome back. We'll continue exploring wr...  \n",
       "30   Hi and welcome back. In this section, we'll l...  \n",
       "31   Hi, welcome back. It's now time to review the...  \n",
       "32   Welcome back to AWS Academy Machine Learning....  \n",
       "33   Hi, welcome back. This is section one, and we...  \n",
       "34   Welcome back. In this section, we'll explore ...  \n",
       "35   Hi, welcome back. We'll continue exploring im...  \n",
       "36   In this section, we'll look at preparing cust...  \n",
       "37   Hi, welcome back. We'll continue exploring vi...  \n",
       "38   Hi, welcome back. We'll continue exploring vi...  \n",
       "39   Hi, welcome back. We'll continue exploring vi...  \n",
       "40   It's now time to summarize some of the main p...  \n",
       "41   Introduction to Natural Language Processing H...  \n",
       "42   We'll get started by reviewing what Natural L...  \n",
       "43   Welcome back. In this section, we'll review f...  \n",
       "44   Welcome back. It's now time to review the mod...  \n",
       "45   Welcome to Module 7, Course Wrap-Up. Congratu...  "
      ]
     },
     "execution_count": 4,
     "metadata": {},
     "output_type": "execute_result"
    }
   ],
   "source": [
    "import os\n",
    "import pandas as pd\n",
    "import boto3\n",
    "from moviepy.editor import VideoFileClip\n",
    "import torch\n",
    "from transformers import AutoModelForSpeechSeq2Seq, AutoProcessor, pipeline\n",
    "import warnings\n",
    "\n",
    "warnings.filterwarnings(\"ignore\", category=DeprecationWarning)\n",
    "\n",
    "# Directory to save audios\n",
    "directory = \"audios\"\n",
    "\n",
    "# Initialize the S3 client\n",
    "s3 = boto3.client(\"s3\")\n",
    "\n",
    "\n",
    "# Convert videos to wav audio files\n",
    "def process_video(video_key):\n",
    "    try:\n",
    "        # Check if the directory exists\n",
    "        if not os.path.exists(directory):\n",
    "            # Create directory if it doesn\"t exist\n",
    "            os.makedirs(directory)\n",
    "\n",
    "        # Extract the video ID\n",
    "        video_id = video_key.split(\"/\")[-1].replace(\".mp4\", \"\")\n",
    "\n",
    "        # Output audio\n",
    "        audio_file = f\"{directory}/{video_id}.wav\"\n",
    "\n",
    "        # Download the video to a temporary file\n",
    "        tmp_video_file = \"/tmp/video.mp4\"\n",
    "        s3.download_file(source_bucket, video_key, tmp_video_file)\n",
    "\n",
    "        # Load the video clip\n",
    "        video_clip = VideoFileClip(tmp_video_file)\n",
    "\n",
    "        # Extract audio from the video clip\n",
    "        audio_clip = video_clip.audio\n",
    "\n",
    "        # Write the audio to a 16 bit wav file\n",
    "        audio_clip.write_audiofile(audio_file, codec=\"pcm_s16le\")\n",
    "\n",
    "        # Close the video clip\n",
    "        video_clip.close()\n",
    "        print(f\"Successfully processed {video_key}\")\n",
    "\n",
    "\n",
    "    except Exception as e:\n",
    "        print(f\"Error processing {video_key}: {e}\")\n",
    "        return None\n",
    "\n",
    "# Convert audio to text\n",
    "def transcribe_audio(audio_path):\n",
    "    device = \"cuda:0\" if torch.cuda.is_available() else \"cpu\"\n",
    "    torch_dtype = torch.float16 if torch.cuda.is_available() else torch.float32\n",
    "\n",
    "    model_id = \"openai/whisper-large-v3\"\n",
    "    model = AutoModelForSpeechSeq2Seq.from_pretrained(\n",
    "        model_id, torch_dtype=torch_dtype, low_cpu_mem_usage=True, use_safetensors=True\n",
    "    )\n",
    "    model.to(device)\n",
    "\n",
    "    processor = AutoProcessor.from_pretrained(model_id)\n",
    "\n",
    "    pipe = pipeline(\n",
    "        \"automatic-speech-recognition\",\n",
    "        model=model,\n",
    "        tokenizer=processor.tokenizer,\n",
    "        feature_extractor=processor.feature_extractor,\n",
    "        max_new_tokens=128,\n",
    "        chunk_length_s=30,\n",
    "        batch_size=16,\n",
    "        return_timestamps=True,\n",
    "        torch_dtype=torch_dtype,\n",
    "        device=device,\n",
    "    )\n",
    "\n",
    "    result = pipe(audio_path)\n",
    "    print(result[\"text\"])\n",
    "    return result[\"text\"]\n",
    "\n",
    "\n",
    "# List objects in the source bucket\n",
    "response = s3.list_objects_v2(Bucket=source_bucket, Prefix=source_prefix)\n",
    "\n",
    "# Create\n",
    "df = pd.DataFrame(columns=[\"video\", \"audio\", \"text\"])\n",
    "\n",
    "# Process each video\n",
    "if \"Contents\" in response:\n",
    "    for obj in response[\"Contents\"]:\n",
    "        video_key = obj[\"Key\"]\n",
    "        if video_key.endswith(\".mp4\"):\n",
    "            process_video(video_key)\n",
    "            video_name = video_key.split(\"/\")[-1]\n",
    "            audio_name = video_name.replace(\".mp4\", \".wav\")\n",
    "            audio_text = transcribe_audio(f\"{directory}/{audio_name}\")\n",
    "            new_df = pd.DataFrame([{\"video\": video_name, \"audio\": audio_name, \"text\": audio_text}])\n",
    "            df = pd.concat([df, new_df], ignore_index=True)\n",
    "\n",
    "df"
   ]
  },
  {
   "cell_type": "markdown",
   "metadata": {},
   "source": [
    "## 3. Normalizing the text\n",
    "([Go to top](#Capstone-8:-Bringing-It-All-Together))\n",
    "\n",
    "Use this section to perform any text normalization steps that are necessary for your solution."
   ]
  },
  {
   "cell_type": "code",
   "execution_count": 5,
   "metadata": {},
   "outputs": [
    {
     "name": "stderr",
     "output_type": "stream",
     "text": [
      "[nltk_data] Downloading package punkt to /home/ec2-user/nltk_data...\n",
      "[nltk_data]   Package punkt is already up-to-date!\n",
      "[nltk_data] Downloading package wordnet to /home/ec2-user/nltk_data...\n",
      "[nltk_data]   Package wordnet is already up-to-date!\n",
      "[nltk_data] Downloading package stopwords to\n",
      "[nltk_data]     /home/ec2-user/nltk_data...\n",
      "[nltk_data]   Package stopwords is already up-to-date!\n"
     ]
    },
    {
     "data": {
      "text/html": [
       "<div>\n",
       "<style scoped>\n",
       "    .dataframe tbody tr th:only-of-type {\n",
       "        vertical-align: middle;\n",
       "    }\n",
       "\n",
       "    .dataframe tbody tr th {\n",
       "        vertical-align: top;\n",
       "    }\n",
       "\n",
       "    .dataframe thead th {\n",
       "        text-align: right;\n",
       "    }\n",
       "</style>\n",
       "<table border=\"1\" class=\"dataframe\">\n",
       "  <thead>\n",
       "    <tr style=\"text-align: right;\">\n",
       "      <th></th>\n",
       "      <th>video</th>\n",
       "      <th>audio</th>\n",
       "      <th>text</th>\n",
       "      <th>normalized_text</th>\n",
       "    </tr>\n",
       "  </thead>\n",
       "  <tbody>\n",
       "    <tr>\n",
       "      <th>0</th>\n",
       "      <td>Mod01_Course Overview.mp4</td>\n",
       "      <td>Mod01_Course Overview.wav</td>\n",
       "      <td>Hi, and welcome to Amazon Academy Machine Lea...</td>\n",
       "      <td>hi welcome amazon academy machine learning fou...</td>\n",
       "    </tr>\n",
       "    <tr>\n",
       "      <th>1</th>\n",
       "      <td>Mod02_Intro.mp4</td>\n",
       "      <td>Mod02_Intro.wav</td>\n",
       "      <td>Hi, and welcome to Module 2 of AWS Academy Ma...</td>\n",
       "      <td>hi welcome module aws academy machine learning...</td>\n",
       "    </tr>\n",
       "    <tr>\n",
       "      <th>2</th>\n",
       "      <td>Mod02_Sect01.mp4</td>\n",
       "      <td>Mod02_Sect01.wav</td>\n",
       "      <td>Hi, and welcome to Section 1. In this section...</td>\n",
       "      <td>hi welcome section section going talk machine ...</td>\n",
       "    </tr>\n",
       "    <tr>\n",
       "      <th>3</th>\n",
       "      <td>Mod02_Sect02.mp4</td>\n",
       "      <td>Mod02_Sect02.wav</td>\n",
       "      <td>Hi and welcome back. In this section, we're g...</td>\n",
       "      <td>hi welcome back section going look type busine...</td>\n",
       "    </tr>\n",
       "    <tr>\n",
       "      <th>4</th>\n",
       "      <td>Mod02_Sect03.mp4</td>\n",
       "      <td>Mod02_Sect03.wav</td>\n",
       "      <td>Hi and welcome back. This is section 3 and we...</td>\n",
       "      <td>hi welcome back section going give quick high ...</td>\n",
       "    </tr>\n",
       "    <tr>\n",
       "      <th>5</th>\n",
       "      <td>Mod02_Sect04.mp4</td>\n",
       "      <td>Mod02_Sect04.wav</td>\n",
       "      <td>Welcome back. In this section, we'll look at ...</td>\n",
       "      <td>welcome back section look tool using throughou...</td>\n",
       "    </tr>\n",
       "    <tr>\n",
       "      <th>6</th>\n",
       "      <td>Mod02_Sect05.mp4</td>\n",
       "      <td>Mod02_Sect05.wav</td>\n",
       "      <td>Hi, welcome back. This is section 5 and we're...</td>\n",
       "      <td>hi welcome back section going discus challenge...</td>\n",
       "    </tr>\n",
       "    <tr>\n",
       "      <th>7</th>\n",
       "      <td>Mod02_WrapUp.mp4</td>\n",
       "      <td>Mod02_WrapUp.wav</td>\n",
       "      <td>It's now time to review the module. Here are ...</td>\n",
       "      <td>time review module main takeaway module first ...</td>\n",
       "    </tr>\n",
       "    <tr>\n",
       "      <th>8</th>\n",
       "      <td>Mod03_Intro.mp4</td>\n",
       "      <td>Mod03_Intro.wav</td>\n",
       "      <td>Welcome back to AWS Academy Machine Learning....</td>\n",
       "      <td>welcome back aws academy machine learning modu...</td>\n",
       "    </tr>\n",
       "    <tr>\n",
       "      <th>9</th>\n",
       "      <td>Mod03_Sect01.mp4</td>\n",
       "      <td>Mod03_Sect01.wav</td>\n",
       "      <td>Hi, and welcome back to module 3. This is sec...</td>\n",
       "      <td>hi welcome back module section going take look...</td>\n",
       "    </tr>\n",
       "    <tr>\n",
       "      <th>10</th>\n",
       "      <td>Mod03_Sect02_part1.mp4</td>\n",
       "      <td>Mod03_Sect02_part1.wav</td>\n",
       "      <td>Hi, welcome back. We're now going to look at ...</td>\n",
       "      <td>hi welcome back going look way collect secure ...</td>\n",
       "    </tr>\n",
       "    <tr>\n",
       "      <th>11</th>\n",
       "      <td>Mod03_Sect02_part2.mp4</td>\n",
       "      <td>Mod03_Sect02_part2.wav</td>\n",
       "      <td>Hi, welcome back. We'll continue exploring da...</td>\n",
       "      <td>hi welcome back continue exploring data collec...</td>\n",
       "    </tr>\n",
       "    <tr>\n",
       "      <th>12</th>\n",
       "      <td>Mod03_Sect02_part3.mp4</td>\n",
       "      <td>Mod03_Sect02_part3.wav</td>\n",
       "      <td>Hi, welcome back. We'll continue exploring da...</td>\n",
       "      <td>hi welcome back continue exploring data collec...</td>\n",
       "    </tr>\n",
       "    <tr>\n",
       "      <th>13</th>\n",
       "      <td>Mod03_Sect03_part1.mp4</td>\n",
       "      <td>Mod03_Sect03_part1.wav</td>\n",
       "      <td>Hi and welcome back. This is section 3 and we...</td>\n",
       "      <td>hi welcome back section going cover evaluate d...</td>\n",
       "    </tr>\n",
       "    <tr>\n",
       "      <th>14</th>\n",
       "      <td>Mod03_Sect03_part2.mp4</td>\n",
       "      <td>Mod03_Sect03_part2.wav</td>\n",
       "      <td>Hi, welcome back. We'll continue exploring ho...</td>\n",
       "      <td>hi welcome back continue exploring describe da...</td>\n",
       "    </tr>\n",
       "    <tr>\n",
       "      <th>15</th>\n",
       "      <td>Mod03_Sect03_part3.mp4</td>\n",
       "      <td>Mod03_Sect03_part3.wav</td>\n",
       "      <td>Hi, welcome back. Now we'll review how to fin...</td>\n",
       "      <td>hi welcome back review find correlation datase...</td>\n",
       "    </tr>\n",
       "    <tr>\n",
       "      <th>16</th>\n",
       "      <td>Mod03_Sect04_part1.mp4</td>\n",
       "      <td>Mod03_Sect04_part1.wav</td>\n",
       "      <td>Hi, and welcome to section 4. In this section...</td>\n",
       "      <td>hi welcome section section going look feature ...</td>\n",
       "    </tr>\n",
       "    <tr>\n",
       "      <th>17</th>\n",
       "      <td>Mod03_Sect04_part2.mp4</td>\n",
       "      <td>Mod03_Sect04_part2.wav</td>\n",
       "      <td>Hi, welcome back. We'll continue exploring fe...</td>\n",
       "      <td>hi welcome back continue exploring feature eng...</td>\n",
       "    </tr>\n",
       "    <tr>\n",
       "      <th>18</th>\n",
       "      <td>Mod03_Sect04_part3.mp4</td>\n",
       "      <td>Mod03_Sect04_part3.wav</td>\n",
       "      <td>Hi, welcome back. We'll continue exploring fe...</td>\n",
       "      <td>hi welcome back continue exploring feature eng...</td>\n",
       "    </tr>\n",
       "    <tr>\n",
       "      <th>19</th>\n",
       "      <td>Mod03_Sect05.mp4</td>\n",
       "      <td>Mod03_Sect05.wav</td>\n",
       "      <td>Hi, welcome back to module 3. This is section...</td>\n",
       "      <td>hi welcome back module section training sectio...</td>\n",
       "    </tr>\n",
       "    <tr>\n",
       "      <th>20</th>\n",
       "      <td>Mod03_Sect06.mp4</td>\n",
       "      <td>Mod03_Sect06.wav</td>\n",
       "      <td>Hi and welcome back. This is section 6 and we...</td>\n",
       "      <td>hi welcome back section going look hosting usi...</td>\n",
       "    </tr>\n",
       "    <tr>\n",
       "      <th>21</th>\n",
       "      <td>Mod03_Sect07_part1.mp4</td>\n",
       "      <td>Mod03_Sect07_part1.wav</td>\n",
       "      <td>Hi, welcome back to module 3. In this section...</td>\n",
       "      <td>hi welcome back module section look evaluate m...</td>\n",
       "    </tr>\n",
       "    <tr>\n",
       "      <th>22</th>\n",
       "      <td>Mod03_Sect07_part2.mp4</td>\n",
       "      <td>Mod03_Sect07_part2.wav</td>\n",
       "      <td>Hi, welcome back. We'll continue exploring ho...</td>\n",
       "      <td>hi welcome back continue exploring evaluate mo...</td>\n",
       "    </tr>\n",
       "    <tr>\n",
       "      <th>23</th>\n",
       "      <td>Mod03_Sect07_part3.mp4</td>\n",
       "      <td>Mod03_Sect07_part3.wav</td>\n",
       "      <td>Hi, welcome back. We'll continue exploring ho...</td>\n",
       "      <td>hi welcome back continue exploring evaluate mo...</td>\n",
       "    </tr>\n",
       "    <tr>\n",
       "      <th>24</th>\n",
       "      <td>Mod03_Sect08.mp4</td>\n",
       "      <td>Mod03_Sect08.wav</td>\n",
       "      <td>Hi, and welcome back to module 3. This is sec...</td>\n",
       "      <td>hi welcome back module section section going t...</td>\n",
       "    </tr>\n",
       "    <tr>\n",
       "      <th>25</th>\n",
       "      <td>Mod03_WrapUp.mp4</td>\n",
       "      <td>Mod03_WrapUp.wav</td>\n",
       "      <td>It's now time to review the module and wrap u...</td>\n",
       "      <td>time review module wrap knowledge check module...</td>\n",
       "    </tr>\n",
       "    <tr>\n",
       "      <th>26</th>\n",
       "      <td>Mod04_Intro.mp4</td>\n",
       "      <td>Mod04_Intro.wav</td>\n",
       "      <td>Hi, and welcome to Module 4 of AWS Academy Ma...</td>\n",
       "      <td>hi welcome module aws academy machine learning...</td>\n",
       "    </tr>\n",
       "    <tr>\n",
       "      <th>27</th>\n",
       "      <td>Mod04_Sect01.mp4</td>\n",
       "      <td>Mod04_Sect01.wav</td>\n",
       "      <td>Hi, and welcome to Section 1. We'll get start...</td>\n",
       "      <td>hi welcome section get started reviewing forec...</td>\n",
       "    </tr>\n",
       "    <tr>\n",
       "      <th>28</th>\n",
       "      <td>Mod04_Sect02_part1.mp4</td>\n",
       "      <td>Mod04_Sect02_part1.wav</td>\n",
       "      <td>Hi and welcome back. This is section 2 and we...</td>\n",
       "      <td>hi welcome back section going focus processing...</td>\n",
       "    </tr>\n",
       "    <tr>\n",
       "      <th>29</th>\n",
       "      <td>Mod04_Sect02_part2.mp4</td>\n",
       "      <td>Mod04_Sect02_part2.wav</td>\n",
       "      <td>Hi, welcome back. We'll continue exploring wr...</td>\n",
       "      <td>hi welcome back continue exploring wrangling t...</td>\n",
       "    </tr>\n",
       "    <tr>\n",
       "      <th>30</th>\n",
       "      <td>Mod04_Sect02_part3.mp4</td>\n",
       "      <td>Mod04_Sect02_part3.wav</td>\n",
       "      <td>Hi and welcome back. In this section, we'll l...</td>\n",
       "      <td>hi welcome back section look use amazon foreca...</td>\n",
       "    </tr>\n",
       "    <tr>\n",
       "      <th>31</th>\n",
       "      <td>Mod04_WrapUp.mp4</td>\n",
       "      <td>Mod04_WrapUp.wav</td>\n",
       "      <td>Hi, welcome back. It's now time to review the...</td>\n",
       "      <td>hi welcome back time review module wrap module...</td>\n",
       "    </tr>\n",
       "    <tr>\n",
       "      <th>32</th>\n",
       "      <td>Mod05_Intro.mp4</td>\n",
       "      <td>Mod05_Intro.wav</td>\n",
       "      <td>Welcome back to AWS Academy Machine Learning....</td>\n",
       "      <td>welcome back aws academy machine learning modu...</td>\n",
       "    </tr>\n",
       "    <tr>\n",
       "      <th>33</th>\n",
       "      <td>Mod05_Sect01_ver2.mp4</td>\n",
       "      <td>Mod05_Sect01_ver2.wav</td>\n",
       "      <td>Hi, welcome back. This is section one, and we...</td>\n",
       "      <td>hi welcome back section one going introduce co...</td>\n",
       "    </tr>\n",
       "    <tr>\n",
       "      <th>34</th>\n",
       "      <td>Mod05_Sect02_part1_ver2.mp4</td>\n",
       "      <td>Mod05_Sect02_part1_ver2.wav</td>\n",
       "      <td>Welcome back. In this section, we'll explore ...</td>\n",
       "      <td>welcome back section explore image analysis de...</td>\n",
       "    </tr>\n",
       "    <tr>\n",
       "      <th>35</th>\n",
       "      <td>Mod05_Sect02_part2.mp4</td>\n",
       "      <td>Mod05_Sect02_part2.wav</td>\n",
       "      <td>Hi, welcome back. We'll continue exploring im...</td>\n",
       "      <td>hi welcome back continue exploring image analy...</td>\n",
       "    </tr>\n",
       "    <tr>\n",
       "      <th>36</th>\n",
       "      <td>Mod05_Sect03_part1.mp4</td>\n",
       "      <td>Mod05_Sect03_part1.wav</td>\n",
       "      <td>In this section, we'll look at preparing cust...</td>\n",
       "      <td>section look preparing custom datasets compute...</td>\n",
       "    </tr>\n",
       "    <tr>\n",
       "      <th>37</th>\n",
       "      <td>Mod05_Sect03_part2.mp4</td>\n",
       "      <td>Mod05_Sect03_part2.wav</td>\n",
       "      <td>Hi, welcome back. We'll continue exploring vi...</td>\n",
       "      <td>hi welcome back continue exploring video analy...</td>\n",
       "    </tr>\n",
       "    <tr>\n",
       "      <th>38</th>\n",
       "      <td>Mod05_Sect03_part3.mp4</td>\n",
       "      <td>Mod05_Sect03_part3.wav</td>\n",
       "      <td>Hi, welcome back. We'll continue exploring vi...</td>\n",
       "      <td>hi welcome back continue exploring video analy...</td>\n",
       "    </tr>\n",
       "    <tr>\n",
       "      <th>39</th>\n",
       "      <td>Mod05_Sect03_part4_ver2.mp4</td>\n",
       "      <td>Mod05_Sect03_part4_ver2.wav</td>\n",
       "      <td>Hi, welcome back. We'll continue exploring vi...</td>\n",
       "      <td>hi welcome back continue exploring video analy...</td>\n",
       "    </tr>\n",
       "    <tr>\n",
       "      <th>40</th>\n",
       "      <td>Mod05_WrapUp_ver2.mp4</td>\n",
       "      <td>Mod05_WrapUp_ver2.wav</td>\n",
       "      <td>It's now time to summarize some of the main p...</td>\n",
       "      <td>time summarize main point module module learne...</td>\n",
       "    </tr>\n",
       "    <tr>\n",
       "      <th>41</th>\n",
       "      <td>Mod06_Intro.mp4</td>\n",
       "      <td>Mod06_Intro.wav</td>\n",
       "      <td>Introduction to Natural Language Processing H...</td>\n",
       "      <td>introduction natural language processing hi we...</td>\n",
       "    </tr>\n",
       "    <tr>\n",
       "      <th>42</th>\n",
       "      <td>Mod06_Sect01.mp4</td>\n",
       "      <td>Mod06_Sect01.wav</td>\n",
       "      <td>We'll get started by reviewing what Natural L...</td>\n",
       "      <td>get started reviewing natural language process...</td>\n",
       "    </tr>\n",
       "    <tr>\n",
       "      <th>43</th>\n",
       "      <td>Mod06_Sect02.mp4</td>\n",
       "      <td>Mod06_Sect02.wav</td>\n",
       "      <td>Welcome back. In this section, we'll review f...</td>\n",
       "      <td>welcome back section review five managed machi...</td>\n",
       "    </tr>\n",
       "    <tr>\n",
       "      <th>44</th>\n",
       "      <td>Mod06_WrapUp.mp4</td>\n",
       "      <td>Mod06_WrapUp.wav</td>\n",
       "      <td>Welcome back. It's now time to review the mod...</td>\n",
       "      <td>welcome back time review module wrap summary m...</td>\n",
       "    </tr>\n",
       "    <tr>\n",
       "      <th>45</th>\n",
       "      <td>Mod07_Sect01.mp4</td>\n",
       "      <td>Mod07_Sect01.wav</td>\n",
       "      <td>Welcome to Module 7, Course Wrap-Up. Congratu...</td>\n",
       "      <td>welcome module course wrap congratulation comp...</td>\n",
       "    </tr>\n",
       "  </tbody>\n",
       "</table>\n",
       "</div>"
      ],
      "text/plain": [
       "                          video                        audio  \\\n",
       "0     Mod01_Course Overview.mp4    Mod01_Course Overview.wav   \n",
       "1               Mod02_Intro.mp4              Mod02_Intro.wav   \n",
       "2              Mod02_Sect01.mp4             Mod02_Sect01.wav   \n",
       "3              Mod02_Sect02.mp4             Mod02_Sect02.wav   \n",
       "4              Mod02_Sect03.mp4             Mod02_Sect03.wav   \n",
       "5              Mod02_Sect04.mp4             Mod02_Sect04.wav   \n",
       "6              Mod02_Sect05.mp4             Mod02_Sect05.wav   \n",
       "7              Mod02_WrapUp.mp4             Mod02_WrapUp.wav   \n",
       "8               Mod03_Intro.mp4              Mod03_Intro.wav   \n",
       "9              Mod03_Sect01.mp4             Mod03_Sect01.wav   \n",
       "10       Mod03_Sect02_part1.mp4       Mod03_Sect02_part1.wav   \n",
       "11       Mod03_Sect02_part2.mp4       Mod03_Sect02_part2.wav   \n",
       "12       Mod03_Sect02_part3.mp4       Mod03_Sect02_part3.wav   \n",
       "13       Mod03_Sect03_part1.mp4       Mod03_Sect03_part1.wav   \n",
       "14       Mod03_Sect03_part2.mp4       Mod03_Sect03_part2.wav   \n",
       "15       Mod03_Sect03_part3.mp4       Mod03_Sect03_part3.wav   \n",
       "16       Mod03_Sect04_part1.mp4       Mod03_Sect04_part1.wav   \n",
       "17       Mod03_Sect04_part2.mp4       Mod03_Sect04_part2.wav   \n",
       "18       Mod03_Sect04_part3.mp4       Mod03_Sect04_part3.wav   \n",
       "19             Mod03_Sect05.mp4             Mod03_Sect05.wav   \n",
       "20             Mod03_Sect06.mp4             Mod03_Sect06.wav   \n",
       "21       Mod03_Sect07_part1.mp4       Mod03_Sect07_part1.wav   \n",
       "22       Mod03_Sect07_part2.mp4       Mod03_Sect07_part2.wav   \n",
       "23       Mod03_Sect07_part3.mp4       Mod03_Sect07_part3.wav   \n",
       "24             Mod03_Sect08.mp4             Mod03_Sect08.wav   \n",
       "25             Mod03_WrapUp.mp4             Mod03_WrapUp.wav   \n",
       "26              Mod04_Intro.mp4              Mod04_Intro.wav   \n",
       "27             Mod04_Sect01.mp4             Mod04_Sect01.wav   \n",
       "28       Mod04_Sect02_part1.mp4       Mod04_Sect02_part1.wav   \n",
       "29       Mod04_Sect02_part2.mp4       Mod04_Sect02_part2.wav   \n",
       "30       Mod04_Sect02_part3.mp4       Mod04_Sect02_part3.wav   \n",
       "31             Mod04_WrapUp.mp4             Mod04_WrapUp.wav   \n",
       "32              Mod05_Intro.mp4              Mod05_Intro.wav   \n",
       "33        Mod05_Sect01_ver2.mp4        Mod05_Sect01_ver2.wav   \n",
       "34  Mod05_Sect02_part1_ver2.mp4  Mod05_Sect02_part1_ver2.wav   \n",
       "35       Mod05_Sect02_part2.mp4       Mod05_Sect02_part2.wav   \n",
       "36       Mod05_Sect03_part1.mp4       Mod05_Sect03_part1.wav   \n",
       "37       Mod05_Sect03_part2.mp4       Mod05_Sect03_part2.wav   \n",
       "38       Mod05_Sect03_part3.mp4       Mod05_Sect03_part3.wav   \n",
       "39  Mod05_Sect03_part4_ver2.mp4  Mod05_Sect03_part4_ver2.wav   \n",
       "40        Mod05_WrapUp_ver2.mp4        Mod05_WrapUp_ver2.wav   \n",
       "41              Mod06_Intro.mp4              Mod06_Intro.wav   \n",
       "42             Mod06_Sect01.mp4             Mod06_Sect01.wav   \n",
       "43             Mod06_Sect02.mp4             Mod06_Sect02.wav   \n",
       "44             Mod06_WrapUp.mp4             Mod06_WrapUp.wav   \n",
       "45             Mod07_Sect01.mp4             Mod07_Sect01.wav   \n",
       "\n",
       "                                                 text  \\\n",
       "0    Hi, and welcome to Amazon Academy Machine Lea...   \n",
       "1    Hi, and welcome to Module 2 of AWS Academy Ma...   \n",
       "2    Hi, and welcome to Section 1. In this section...   \n",
       "3    Hi and welcome back. In this section, we're g...   \n",
       "4    Hi and welcome back. This is section 3 and we...   \n",
       "5    Welcome back. In this section, we'll look at ...   \n",
       "6    Hi, welcome back. This is section 5 and we're...   \n",
       "7    It's now time to review the module. Here are ...   \n",
       "8    Welcome back to AWS Academy Machine Learning....   \n",
       "9    Hi, and welcome back to module 3. This is sec...   \n",
       "10   Hi, welcome back. We're now going to look at ...   \n",
       "11   Hi, welcome back. We'll continue exploring da...   \n",
       "12   Hi, welcome back. We'll continue exploring da...   \n",
       "13   Hi and welcome back. This is section 3 and we...   \n",
       "14   Hi, welcome back. We'll continue exploring ho...   \n",
       "15   Hi, welcome back. Now we'll review how to fin...   \n",
       "16   Hi, and welcome to section 4. In this section...   \n",
       "17   Hi, welcome back. We'll continue exploring fe...   \n",
       "18   Hi, welcome back. We'll continue exploring fe...   \n",
       "19   Hi, welcome back to module 3. This is section...   \n",
       "20   Hi and welcome back. This is section 6 and we...   \n",
       "21   Hi, welcome back to module 3. In this section...   \n",
       "22   Hi, welcome back. We'll continue exploring ho...   \n",
       "23   Hi, welcome back. We'll continue exploring ho...   \n",
       "24   Hi, and welcome back to module 3. This is sec...   \n",
       "25   It's now time to review the module and wrap u...   \n",
       "26   Hi, and welcome to Module 4 of AWS Academy Ma...   \n",
       "27   Hi, and welcome to Section 1. We'll get start...   \n",
       "28   Hi and welcome back. This is section 2 and we...   \n",
       "29   Hi, welcome back. We'll continue exploring wr...   \n",
       "30   Hi and welcome back. In this section, we'll l...   \n",
       "31   Hi, welcome back. It's now time to review the...   \n",
       "32   Welcome back to AWS Academy Machine Learning....   \n",
       "33   Hi, welcome back. This is section one, and we...   \n",
       "34   Welcome back. In this section, we'll explore ...   \n",
       "35   Hi, welcome back. We'll continue exploring im...   \n",
       "36   In this section, we'll look at preparing cust...   \n",
       "37   Hi, welcome back. We'll continue exploring vi...   \n",
       "38   Hi, welcome back. We'll continue exploring vi...   \n",
       "39   Hi, welcome back. We'll continue exploring vi...   \n",
       "40   It's now time to summarize some of the main p...   \n",
       "41   Introduction to Natural Language Processing H...   \n",
       "42   We'll get started by reviewing what Natural L...   \n",
       "43   Welcome back. In this section, we'll review f...   \n",
       "44   Welcome back. It's now time to review the mod...   \n",
       "45   Welcome to Module 7, Course Wrap-Up. Congratu...   \n",
       "\n",
       "                                      normalized_text  \n",
       "0   hi welcome amazon academy machine learning fou...  \n",
       "1   hi welcome module aws academy machine learning...  \n",
       "2   hi welcome section section going talk machine ...  \n",
       "3   hi welcome back section going look type busine...  \n",
       "4   hi welcome back section going give quick high ...  \n",
       "5   welcome back section look tool using throughou...  \n",
       "6   hi welcome back section going discus challenge...  \n",
       "7   time review module main takeaway module first ...  \n",
       "8   welcome back aws academy machine learning modu...  \n",
       "9   hi welcome back module section going take look...  \n",
       "10  hi welcome back going look way collect secure ...  \n",
       "11  hi welcome back continue exploring data collec...  \n",
       "12  hi welcome back continue exploring data collec...  \n",
       "13  hi welcome back section going cover evaluate d...  \n",
       "14  hi welcome back continue exploring describe da...  \n",
       "15  hi welcome back review find correlation datase...  \n",
       "16  hi welcome section section going look feature ...  \n",
       "17  hi welcome back continue exploring feature eng...  \n",
       "18  hi welcome back continue exploring feature eng...  \n",
       "19  hi welcome back module section training sectio...  \n",
       "20  hi welcome back section going look hosting usi...  \n",
       "21  hi welcome back module section look evaluate m...  \n",
       "22  hi welcome back continue exploring evaluate mo...  \n",
       "23  hi welcome back continue exploring evaluate mo...  \n",
       "24  hi welcome back module section section going t...  \n",
       "25  time review module wrap knowledge check module...  \n",
       "26  hi welcome module aws academy machine learning...  \n",
       "27  hi welcome section get started reviewing forec...  \n",
       "28  hi welcome back section going focus processing...  \n",
       "29  hi welcome back continue exploring wrangling t...  \n",
       "30  hi welcome back section look use amazon foreca...  \n",
       "31  hi welcome back time review module wrap module...  \n",
       "32  welcome back aws academy machine learning modu...  \n",
       "33  hi welcome back section one going introduce co...  \n",
       "34  welcome back section explore image analysis de...  \n",
       "35  hi welcome back continue exploring image analy...  \n",
       "36  section look preparing custom datasets compute...  \n",
       "37  hi welcome back continue exploring video analy...  \n",
       "38  hi welcome back continue exploring video analy...  \n",
       "39  hi welcome back continue exploring video analy...  \n",
       "40  time summarize main point module module learne...  \n",
       "41  introduction natural language processing hi we...  \n",
       "42  get started reviewing natural language process...  \n",
       "43  welcome back section review five managed machi...  \n",
       "44  welcome back time review module wrap summary m...  \n",
       "45  welcome module course wrap congratulation comp...  "
      ]
     },
     "execution_count": 5,
     "metadata": {},
     "output_type": "execute_result"
    }
   ],
   "source": [
    "import nltk\n",
    "nltk.download(\"punkt\")\n",
    "nltk.download(\"wordnet\")\n",
    "nltk.download(\"stopwords\")\n",
    "from nltk.tokenize import word_tokenize\n",
    "from nltk.stem import WordNetLemmatizer\n",
    "from nltk.corpus import stopwords\n",
    "import re\n",
    "\n",
    "\n",
    "# Text normalization and lemmatization\n",
    "def preprocess_text(text):\n",
    "    # Convert the text to lowercase\n",
    "    text = text.lower()\n",
    "\n",
    "    # Remove special characters\n",
    "    text = re.sub(\"[^A-Za-z0-9]+\", \" \", text)\n",
    "\n",
    "    # Replace all newline characters (\\n) with spaces\n",
    "    text = re.sub(r\"\\n\", \" \", text)\n",
    "\n",
    "    # Remove leading or trailing whitespaces\n",
    "    text = text.strip()\n",
    "\n",
    "    # Remove stopwords\n",
    "    stop_words = set(stopwords.words(\"english\"))\n",
    "\n",
    "    tokens = word_tokenize(text)\n",
    "    tokens = [token for token in tokens if token not in stop_words]\n",
    "\n",
    "    # Lemmatization\n",
    "    lemmatizer = WordNetLemmatizer()\n",
    "    tokens = [lemmatizer.lemmatize(token) for token in tokens if token.isalpha()]\n",
    "    tokens = \" \".join(tokens)\n",
    "    return tokens\n",
    "\n",
    "df[\"normalized_text\"] = df[\"text\"].apply(preprocess_text)\n",
    "df"
   ]
  },
  {
   "cell_type": "markdown",
   "metadata": {},
   "source": [
    "## 4. Extracting key phrases and topics\n",
    "([Go to top](#Capstone-8:-Bringing-It-All-Together))\n",
    "\n",
    "Use this section to extract the key phrases and topics from the videos."
   ]
  },
  {
   "cell_type": "code",
   "execution_count": 6,
   "metadata": {},
   "outputs": [
    {
     "data": {
      "text/html": [
       "<div>\n",
       "<style scoped>\n",
       "    .dataframe tbody tr th:only-of-type {\n",
       "        vertical-align: middle;\n",
       "    }\n",
       "\n",
       "    .dataframe tbody tr th {\n",
       "        vertical-align: top;\n",
       "    }\n",
       "\n",
       "    .dataframe thead th {\n",
       "        text-align: right;\n",
       "    }\n",
       "</style>\n",
       "<table border=\"1\" class=\"dataframe\">\n",
       "  <thead>\n",
       "    <tr style=\"text-align: right;\">\n",
       "      <th></th>\n",
       "      <th>video</th>\n",
       "      <th>audio</th>\n",
       "      <th>text</th>\n",
       "      <th>normalized_text</th>\n",
       "      <th>key_phrases</th>\n",
       "      <th>topics</th>\n",
       "    </tr>\n",
       "  </thead>\n",
       "  <tbody>\n",
       "    <tr>\n",
       "      <th>0</th>\n",
       "      <td>Mod01_Course Overview.mp4</td>\n",
       "      <td>Mod01_Course Overview.wav</td>\n",
       "      <td>Hi, and welcome to Amazon Academy Machine Lea...</td>\n",
       "      <td>hi welcome amazon academy machine learning fou...</td>\n",
       "      <td>[amazon academy machine, foundation module, co...</td>\n",
       "      <td>[machine learning, first, amazon, lex amazon, ...</td>\n",
       "    </tr>\n",
       "    <tr>\n",
       "      <th>1</th>\n",
       "      <td>Mod02_Intro.mp4</td>\n",
       "      <td>Mod02_Intro.wav</td>\n",
       "      <td>Hi, and welcome to Module 2 of AWS Academy Ma...</td>\n",
       "      <td>hi welcome module aws academy machine learning...</td>\n",
       "      <td>[introduce machine, first look business proble...</td>\n",
       "      <td>[first, welcome, module, machine, module, intr...</td>\n",
       "    </tr>\n",
       "    <tr>\n",
       "      <th>2</th>\n",
       "      <td>Mod02_Sect01.mp4</td>\n",
       "      <td>Mod02_Sect01.wav</td>\n",
       "      <td>Hi, and welcome to Section 1. In this section...</td>\n",
       "      <td>hi welcome section section going talk machine ...</td>\n",
       "      <td>[welcome section section, talk machine learnin...</td>\n",
       "      <td>[first, every year, first, welcome, section, s...</td>\n",
       "    </tr>\n",
       "    <tr>\n",
       "      <th>3</th>\n",
       "      <td>Mod02_Sect02.mp4</td>\n",
       "      <td>Mod02_Sect02.wav</td>\n",
       "      <td>Hi and welcome back. In this section, we're g...</td>\n",
       "      <td>hi welcome back section going look type busine...</td>\n",
       "      <td>[section, machine learning, digital life email...</td>\n",
       "      <td>[anomaly x ray, first, boundary cross, first, ...</td>\n",
       "    </tr>\n",
       "    <tr>\n",
       "      <th>4</th>\n",
       "      <td>Mod02_Sect03.mp4</td>\n",
       "      <td>Mod02_Sect03.wav</td>\n",
       "      <td>Hi and welcome back. This is section 3 and we...</td>\n",
       "      <td>hi welcome back section going give quick high ...</td>\n",
       "      <td>[section, quick high level overview machine, t...</td>\n",
       "      <td>[november, february year, mali city, age birth...</td>\n",
       "    </tr>\n",
       "    <tr>\n",
       "      <th>5</th>\n",
       "      <td>Mod02_Sect04.mp4</td>\n",
       "      <td>Mod02_Sect04.wav</td>\n",
       "      <td>Welcome back. In this section, we'll look at ...</td>\n",
       "      <td>welcome back section look tool using throughou...</td>\n",
       "      <td>[section look tool, rest course, exhaustive li...</td>\n",
       "      <td>[today, first, linear, tensorflow kera, first,...</td>\n",
       "    </tr>\n",
       "    <tr>\n",
       "      <th>6</th>\n",
       "      <td>Mod02_Sect05.mp4</td>\n",
       "      <td>Mod02_Sect05.wav</td>\n",
       "      <td>Hi, welcome back. This is section 5 and we're...</td>\n",
       "      <td>hi welcome back section going discus challenge...</td>\n",
       "      <td>[section, discus challenge machine learning, m...</td>\n",
       "      <td>[today, first, recognition, section, discus, c...</td>\n",
       "    </tr>\n",
       "    <tr>\n",
       "      <th>7</th>\n",
       "      <td>Mod02_WrapUp.mp4</td>\n",
       "      <td>Mod02_WrapUp.wav</td>\n",
       "      <td>It's now time to review the module. Here are ...</td>\n",
       "      <td>time review module main takeaway module first ...</td>\n",
       "      <td>[time review module main takeaway module, land...</td>\n",
       "      <td>[time, review, module, module, machine, fit, l...</td>\n",
       "    </tr>\n",
       "    <tr>\n",
       "      <th>8</th>\n",
       "      <td>Mod03_Intro.mp4</td>\n",
       "      <td>Mod03_Intro.wav</td>\n",
       "      <td>Welcome back to AWS Academy Machine Learning....</td>\n",
       "      <td>welcome back aws academy machine learning modu...</td>\n",
       "      <td>[back aws academy machine learning module, ama...</td>\n",
       "      <td>[machine, module, work, machine, pipeline, mod...</td>\n",
       "    </tr>\n",
       "    <tr>\n",
       "      <th>9</th>\n",
       "      <td>Mod03_Sect01.mp4</td>\n",
       "      <td>Mod03_Sect01.wav</td>\n",
       "      <td>Hi, and welcome back to module 3. This is sec...</td>\n",
       "      <td>hi welcome back module section going take look...</td>\n",
       "      <td>[module section, data set use module, guidance...</td>\n",
       "      <td>[first, first, first, six month, first, second...</td>\n",
       "    </tr>\n",
       "    <tr>\n",
       "      <th>10</th>\n",
       "      <td>Mod03_Sect02_part1.mp4</td>\n",
       "      <td>Mod03_Sect02_part1.wav</td>\n",
       "      <td>Hi, welcome back. We're now going to look at ...</td>\n",
       "      <td>hi welcome back going look way collect secure ...</td>\n",
       "      <td>[look, technique challenge, securing data, mac...</td>\n",
       "      <td>[healthcare dun, kaggle uci machine learning, ...</td>\n",
       "    </tr>\n",
       "    <tr>\n",
       "      <th>11</th>\n",
       "      <td>Mod03_Sect02_part2.mp4</td>\n",
       "      <td>Mod03_Sect02_part2.wav</td>\n",
       "      <td>Hi, welcome back. We'll continue exploring da...</td>\n",
       "      <td>hi welcome back continue exploring data collec...</td>\n",
       "      <td>[data collection reviewing extract transform l...</td>\n",
       "      <td>[first, determine schema, metadata, scala, byt...</td>\n",
       "    </tr>\n",
       "    <tr>\n",
       "      <th>12</th>\n",
       "      <td>Mod03_Sect02_part3.mp4</td>\n",
       "      <td>Mod03_Sect02_part3.wav</td>\n",
       "      <td>Hi, welcome back. We'll continue exploring da...</td>\n",
       "      <td>hi welcome back continue exploring data collec...</td>\n",
       "      <td>[data collection, secure data, security data, ...</td>\n",
       "      <td>[simple iam, first, data, collection, data, se...</td>\n",
       "    </tr>\n",
       "    <tr>\n",
       "      <th>13</th>\n",
       "      <td>Mod03_Sect03_part1.mp4</td>\n",
       "      <td>Mod03_Sect03_part1.wav</td>\n",
       "      <td>Hi and welcome back. This is section 3 and we...</td>\n",
       "      <td>hi welcome back section going cover evaluate d...</td>\n",
       "      <td>[section, cover evaluate data section, differe...</td>\n",
       "      <td>[csv, json panda, first, section, cover, evalu...</td>\n",
       "    </tr>\n",
       "    <tr>\n",
       "      <th>14</th>\n",
       "      <td>Mod03_Sect03_part2.mp4</td>\n",
       "      <td>Mod03_Sect03_part2.wav</td>\n",
       "      <td>Hi, welcome back. We'll continue exploring ho...</td>\n",
       "      <td>hi welcome back continue exploring describe da...</td>\n",
       "      <td>[data data, descriptive statistic data, descri...</td>\n",
       "      <td>[first, describe, data, data, format, statisti...</td>\n",
       "    </tr>\n",
       "    <tr>\n",
       "      <th>15</th>\n",
       "      <td>Mod03_Sect03_part3.mp4</td>\n",
       "      <td>Mod03_Sect03_part3.wav</td>\n",
       "      <td>Hi, welcome back. Now we'll review how to fin...</td>\n",
       "      <td>hi welcome back review find correlation datase...</td>\n",
       "      <td>[review, correlation, linear relationship, sca...</td>\n",
       "      <td>[linear, linear, linear, linear, linear, first...</td>\n",
       "    </tr>\n",
       "    <tr>\n",
       "      <th>16</th>\n",
       "      <td>Mod03_Sect04_part1.mp4</td>\n",
       "      <td>Mod03_Sect04_part1.wav</td>\n",
       "      <td>Hi, and welcome to section 4. In this section...</td>\n",
       "      <td>hi welcome section section going look feature ...</td>\n",
       "      <td>[welcome section section, feature engineering ...</td>\n",
       "      <td>[first, second, first, welcome, section, secti...</td>\n",
       "    </tr>\n",
       "    <tr>\n",
       "      <th>17</th>\n",
       "      <td>Mod03_Sect04_part2.mp4</td>\n",
       "      <td>Mod03_Sect04_part2.wav</td>\n",
       "      <td>Hi, welcome back. We'll continue exploring fe...</td>\n",
       "      <td>hi welcome back continue exploring feature eng...</td>\n",
       "      <td>[feature engineering, clean dataset addition, ...</td>\n",
       "      <td>[california, california, first, first, feature...</td>\n",
       "    </tr>\n",
       "    <tr>\n",
       "      <th>18</th>\n",
       "      <td>Mod03_Sect04_part3.mp4</td>\n",
       "      <td>Mod03_Sect04_part3.wav</td>\n",
       "      <td>Hi, welcome back. We'll continue exploring fe...</td>\n",
       "      <td>hi welcome back continue exploring feature eng...</td>\n",
       "      <td>[feature engineering, describing work outlier,...</td>\n",
       "      <td>[first, second, first, second, third, chosen c...</td>\n",
       "    </tr>\n",
       "    <tr>\n",
       "      <th>19</th>\n",
       "      <td>Mod03_Sect05.mp4</td>\n",
       "      <td>Mod03_Sect05.wav</td>\n",
       "      <td>Hi, welcome back to module 3. This is section...</td>\n",
       "      <td>hi welcome back module section training sectio...</td>\n",
       "      <td>[module section training section, select model...</td>\n",
       "      <td>[csv format amazon, first, first, k fold cross...</td>\n",
       "    </tr>\n",
       "    <tr>\n",
       "      <th>20</th>\n",
       "      <td>Mod03_Sect06.mp4</td>\n",
       "      <td>Mod03_Sect06.wav</td>\n",
       "      <td>Hi and welcome back. This is section 6 and we...</td>\n",
       "      <td>hi welcome back section going look hosting usi...</td>\n",
       "      <td>[section, look, model section, trained model, ...</td>\n",
       "      <td>[first, section, look, model, section, look, m...</td>\n",
       "    </tr>\n",
       "    <tr>\n",
       "      <th>21</th>\n",
       "      <td>Mod03_Sect07_part1.mp4</td>\n",
       "      <td>Mod03_Sect07_part1.wav</td>\n",
       "      <td>Hi, welcome back to module 3. In this section...</td>\n",
       "      <td>hi welcome back module section look evaluate m...</td>\n",
       "      <td>[module section, model success, result point t...</td>\n",
       "      <td>[first, module, section, model, success, resul...</td>\n",
       "    </tr>\n",
       "    <tr>\n",
       "      <th>22</th>\n",
       "      <td>Mod03_Sect07_part2.mp4</td>\n",
       "      <td>Mod03_Sect07_part2.wav</td>\n",
       "      <td>Hi, welcome back. We'll continue exploring ho...</td>\n",
       "      <td>hi welcome back continue exploring evaluate mo...</td>\n",
       "      <td>[evaluate model diagram show confusion matrix,...</td>\n",
       "      <td>[model, diagram, show, confusion, matrix, mode...</td>\n",
       "    </tr>\n",
       "    <tr>\n",
       "      <th>23</th>\n",
       "      <td>Mod03_Sect07_part3.mp4</td>\n",
       "      <td>Mod03_Sect07_part3.wav</td>\n",
       "      <td>Hi, welcome back. We'll continue exploring ho...</td>\n",
       "      <td>hi welcome back continue exploring evaluate mo...</td>\n",
       "      <td>[evaluate model classification model, target c...</td>\n",
       "      <td>[roc, roc, first, linear, k fold, model, class...</td>\n",
       "    </tr>\n",
       "    <tr>\n",
       "      <th>24</th>\n",
       "      <td>Mod03_Sect08.mp4</td>\n",
       "      <td>Mod03_Sect08.wav</td>\n",
       "      <td>Hi, and welcome back to module 3. This is sec...</td>\n",
       "      <td>hi welcome back module section section going t...</td>\n",
       "      <td>[module section section, tune model hyperparam...</td>\n",
       "      <td>[first, first, second, third, linear, first, l...</td>\n",
       "    </tr>\n",
       "    <tr>\n",
       "      <th>25</th>\n",
       "      <td>Mod03_WrapUp.mp4</td>\n",
       "      <td>Mod03_WrapUp.wav</td>\n",
       "      <td>It's now time to review the module and wrap u...</td>\n",
       "      <td>time review module wrap knowledge check module...</td>\n",
       "      <td>[review module wrap knowledge check module, fo...</td>\n",
       "      <td>[time, review, check, module, formulate, probl...</td>\n",
       "    </tr>\n",
       "    <tr>\n",
       "      <th>26</th>\n",
       "      <td>Mod04_Intro.mp4</td>\n",
       "      <td>Mod04_Intro.wav</td>\n",
       "      <td>Hi, and welcome to Module 4 of AWS Academy Ma...</td>\n",
       "      <td>hi welcome module aws academy machine learning...</td>\n",
       "      <td>[start introduction forecasting look time seri...</td>\n",
       "      <td>[welcome, module, machine, module, look, start...</td>\n",
       "    </tr>\n",
       "    <tr>\n",
       "      <th>27</th>\n",
       "      <td>Mod04_Sect01.mp4</td>\n",
       "      <td>Mod04_Sect01.wav</td>\n",
       "      <td>Hi, and welcome to Section 1. We'll get start...</td>\n",
       "      <td>hi welcome section get started reviewing forec...</td>\n",
       "      <td>[welcome section, forecasting use case, import...</td>\n",
       "      <td>[first, second, first, time year month day, we...</td>\n",
       "    </tr>\n",
       "    <tr>\n",
       "      <th>28</th>\n",
       "      <td>Mod04_Sect02_part1.mp4</td>\n",
       "      <td>Mod04_Sect02_part1.wav</td>\n",
       "      <td>Hi and welcome back. This is section 2 and we...</td>\n",
       "      <td>hi welcome back section going focus processing...</td>\n",
       "      <td>[section, focus processing time series data di...</td>\n",
       "      <td>[third, metadata, month day year, year, future...</td>\n",
       "    </tr>\n",
       "    <tr>\n",
       "      <th>29</th>\n",
       "      <td>Mod04_Sect02_part2.mp4</td>\n",
       "      <td>Mod04_Sect02_part2.wav</td>\n",
       "      <td>Hi, welcome back. We'll continue exploring wr...</td>\n",
       "      <td>hi welcome back continue exploring wrangling t...</td>\n",
       "      <td>[wrangling time series data seasonality data k...</td>\n",
       "      <td>[quarter fourth quarter, fourth quarter, first...</td>\n",
       "    </tr>\n",
       "    <tr>\n",
       "      <th>30</th>\n",
       "      <td>Mod04_Sect02_part3.mp4</td>\n",
       "      <td>Mod04_Sect02_part3.wav</td>\n",
       "      <td>Hi and welcome back. In this section, we'll l...</td>\n",
       "      <td>hi welcome back section look use amazon foreca...</td>\n",
       "      <td>[use amazon forecast, predictor generate forec...</td>\n",
       "      <td>[metadata, deepar ets npts profit, first, w qu...</td>\n",
       "    </tr>\n",
       "    <tr>\n",
       "      <th>31</th>\n",
       "      <td>Mod04_WrapUp.mp4</td>\n",
       "      <td>Mod04_WrapUp.wav</td>\n",
       "      <td>Hi, welcome back. It's now time to review the...</td>\n",
       "      <td>hi welcome back time review module wrap module...</td>\n",
       "      <td>[back time review module wrap module, describe...</td>\n",
       "      <td>[time, review, module, describe, business, pro...</td>\n",
       "    </tr>\n",
       "    <tr>\n",
       "      <th>32</th>\n",
       "      <td>Mod05_Intro.mp4</td>\n",
       "      <td>Mod05_Intro.wav</td>\n",
       "      <td>Welcome back to AWS Academy Machine Learning....</td>\n",
       "      <td>welcome back aws academy machine learning modu...</td>\n",
       "      <td>[back aws academy machine learning module grea...</td>\n",
       "      <td>[today, machine, module, topic, today, compute...</td>\n",
       "    </tr>\n",
       "    <tr>\n",
       "      <th>33</th>\n",
       "      <td>Mod05_Sect01_ver2.mp4</td>\n",
       "      <td>Mod05_Sect01_ver2.wav</td>\n",
       "      <td>Hi, welcome back. This is section one, and we...</td>\n",
       "      <td>hi welcome back section one going introduce co...</td>\n",
       "      <td>[section, computer vision computer vision, exc...</td>\n",
       "      <td>[last year, accuracy pitcher, first, section, ...</td>\n",
       "    </tr>\n",
       "    <tr>\n",
       "      <th>34</th>\n",
       "      <td>Mod05_Sect02_part1_ver2.mp4</td>\n",
       "      <td>Mod05_Sect02_part1_ver2.wav</td>\n",
       "      <td>Welcome back. In this section, we'll explore ...</td>\n",
       "      <td>welcome back section explore image analysis de...</td>\n",
       "      <td>[section, image analysis detail part, look vid...</td>\n",
       "      <td>[recognition, java, node, first, first, second...</td>\n",
       "    </tr>\n",
       "    <tr>\n",
       "      <th>35</th>\n",
       "      <td>Mod05_Sect02_part2.mp4</td>\n",
       "      <td>Mod05_Sect02_part2.wav</td>\n",
       "      <td>Hi, welcome back. We'll continue exploring im...</td>\n",
       "      <td>hi welcome back continue exploring image analy...</td>\n",
       "      <td>[image analysis, facial detection facial detec...</td>\n",
       "      <td>[recognition, first, recognition, recognition,...</td>\n",
       "    </tr>\n",
       "    <tr>\n",
       "      <th>36</th>\n",
       "      <td>Mod05_Sect03_part1.mp4</td>\n",
       "      <td>Mod05_Sect03_part1.wav</td>\n",
       "      <td>In this section, we'll look at preparing cust...</td>\n",
       "      <td>section look preparing custom datasets compute...</td>\n",
       "      <td>[section, custom datasets computer vision, cus...</td>\n",
       "      <td>[today, month, month, month, section, custom, ...</td>\n",
       "    </tr>\n",
       "    <tr>\n",
       "      <th>37</th>\n",
       "      <td>Mod05_Sect03_part2.mp4</td>\n",
       "      <td>Mod05_Sect03_part2.wav</td>\n",
       "      <td>Hi, welcome back. We'll continue exploring vi...</td>\n",
       "      <td>hi welcome back continue exploring video analy...</td>\n",
       "      <td>[video analysis, create training dataset datas...</td>\n",
       "      <td>[ko olina island, metadata, video, analysis, c...</td>\n",
       "    </tr>\n",
       "    <tr>\n",
       "      <th>38</th>\n",
       "      <td>Mod05_Sect03_part3.mp4</td>\n",
       "      <td>Mod05_Sect03_part3.wav</td>\n",
       "      <td>Hi, welcome back. We'll continue exploring vi...</td>\n",
       "      <td>hi welcome back continue exploring video analy...</td>\n",
       "      <td>[video analysis, create test, dataset final st...</td>\n",
       "      <td>[video, analysis, create, test, step, train, m...</td>\n",
       "    </tr>\n",
       "    <tr>\n",
       "      <th>39</th>\n",
       "      <td>Mod05_Sect03_part4_ver2.mp4</td>\n",
       "      <td>Mod05_Sect03_part4_ver2.wav</td>\n",
       "      <td>Hi, welcome back. We'll continue exploring vi...</td>\n",
       "      <td>hi welcome back continue exploring video analy...</td>\n",
       "      <td>[video analysis, evaluate, improve model, qual...</td>\n",
       "      <td>[first, first, first, byte, byte, recognition,...</td>\n",
       "    </tr>\n",
       "    <tr>\n",
       "      <th>40</th>\n",
       "      <td>Mod05_WrapUp_ver2.mp4</td>\n",
       "      <td>Mod05_WrapUp_ver2.wav</td>\n",
       "      <td>It's now time to summarize some of the main p...</td>\n",
       "      <td>time summarize main point module module learne...</td>\n",
       "      <td>[main point module module, describe use case c...</td>\n",
       "      <td>[time, point, module, module, describe, use, c...</td>\n",
       "    </tr>\n",
       "    <tr>\n",
       "      <th>41</th>\n",
       "      <td>Mod06_Intro.mp4</td>\n",
       "      <td>Mod06_Intro.wav</td>\n",
       "      <td>Introduction to Natural Language Processing H...</td>\n",
       "      <td>introduction natural language processing hi we...</td>\n",
       "      <td>[introduction natural language processing hi w...</td>\n",
       "      <td>[introduction, language, module, machine, intr...</td>\n",
       "    </tr>\n",
       "    <tr>\n",
       "      <th>42</th>\n",
       "      <td>Mod06_Sect01.mp4</td>\n",
       "      <td>Mod06_Sect01.wav</td>\n",
       "      <td>We'll get started by reviewing what Natural L...</td>\n",
       "      <td>get started reviewing natural language process...</td>\n",
       "      <td>[natural language processing mean natural lang...</td>\n",
       "      <td>[google bing, first, first, first, first, seco...</td>\n",
       "    </tr>\n",
       "    <tr>\n",
       "      <th>43</th>\n",
       "      <td>Mod06_Sect02.mp4</td>\n",
       "      <td>Mod06_Sect02.wav</td>\n",
       "      <td>Welcome back. In this section, we'll review f...</td>\n",
       "      <td>welcome back section review five managed machi...</td>\n",
       "      <td>[five managed machine learning service, variou...</td>\n",
       "      <td>[first, first, amazon, first, first, first, fi...</td>\n",
       "    </tr>\n",
       "    <tr>\n",
       "      <th>44</th>\n",
       "      <td>Mod06_WrapUp.mp4</td>\n",
       "      <td>Mod06_WrapUp.wav</td>\n",
       "      <td>Welcome back. It's now time to review the mod...</td>\n",
       "      <td>welcome back time review module wrap summary m...</td>\n",
       "      <td>[time review module wrap summary module, descr...</td>\n",
       "      <td>[time, review, module, summary, module, use, c...</td>\n",
       "    </tr>\n",
       "    <tr>\n",
       "      <th>45</th>\n",
       "      <td>Mod07_Sect01.mp4</td>\n",
       "      <td>Mod07_Sect01.wav</td>\n",
       "      <td>Welcome to Module 7, Course Wrap-Up. Congratu...</td>\n",
       "      <td>welcome module course wrap congratulation comp...</td>\n",
       "      <td>[welcome module course wrap congratulation com...</td>\n",
       "      <td>[every three year, june, two year, course, wra...</td>\n",
       "    </tr>\n",
       "  </tbody>\n",
       "</table>\n",
       "</div>"
      ],
      "text/plain": [
       "                          video                        audio  \\\n",
       "0     Mod01_Course Overview.mp4    Mod01_Course Overview.wav   \n",
       "1               Mod02_Intro.mp4              Mod02_Intro.wav   \n",
       "2              Mod02_Sect01.mp4             Mod02_Sect01.wav   \n",
       "3              Mod02_Sect02.mp4             Mod02_Sect02.wav   \n",
       "4              Mod02_Sect03.mp4             Mod02_Sect03.wav   \n",
       "5              Mod02_Sect04.mp4             Mod02_Sect04.wav   \n",
       "6              Mod02_Sect05.mp4             Mod02_Sect05.wav   \n",
       "7              Mod02_WrapUp.mp4             Mod02_WrapUp.wav   \n",
       "8               Mod03_Intro.mp4              Mod03_Intro.wav   \n",
       "9              Mod03_Sect01.mp4             Mod03_Sect01.wav   \n",
       "10       Mod03_Sect02_part1.mp4       Mod03_Sect02_part1.wav   \n",
       "11       Mod03_Sect02_part2.mp4       Mod03_Sect02_part2.wav   \n",
       "12       Mod03_Sect02_part3.mp4       Mod03_Sect02_part3.wav   \n",
       "13       Mod03_Sect03_part1.mp4       Mod03_Sect03_part1.wav   \n",
       "14       Mod03_Sect03_part2.mp4       Mod03_Sect03_part2.wav   \n",
       "15       Mod03_Sect03_part3.mp4       Mod03_Sect03_part3.wav   \n",
       "16       Mod03_Sect04_part1.mp4       Mod03_Sect04_part1.wav   \n",
       "17       Mod03_Sect04_part2.mp4       Mod03_Sect04_part2.wav   \n",
       "18       Mod03_Sect04_part3.mp4       Mod03_Sect04_part3.wav   \n",
       "19             Mod03_Sect05.mp4             Mod03_Sect05.wav   \n",
       "20             Mod03_Sect06.mp4             Mod03_Sect06.wav   \n",
       "21       Mod03_Sect07_part1.mp4       Mod03_Sect07_part1.wav   \n",
       "22       Mod03_Sect07_part2.mp4       Mod03_Sect07_part2.wav   \n",
       "23       Mod03_Sect07_part3.mp4       Mod03_Sect07_part3.wav   \n",
       "24             Mod03_Sect08.mp4             Mod03_Sect08.wav   \n",
       "25             Mod03_WrapUp.mp4             Mod03_WrapUp.wav   \n",
       "26              Mod04_Intro.mp4              Mod04_Intro.wav   \n",
       "27             Mod04_Sect01.mp4             Mod04_Sect01.wav   \n",
       "28       Mod04_Sect02_part1.mp4       Mod04_Sect02_part1.wav   \n",
       "29       Mod04_Sect02_part2.mp4       Mod04_Sect02_part2.wav   \n",
       "30       Mod04_Sect02_part3.mp4       Mod04_Sect02_part3.wav   \n",
       "31             Mod04_WrapUp.mp4             Mod04_WrapUp.wav   \n",
       "32              Mod05_Intro.mp4              Mod05_Intro.wav   \n",
       "33        Mod05_Sect01_ver2.mp4        Mod05_Sect01_ver2.wav   \n",
       "34  Mod05_Sect02_part1_ver2.mp4  Mod05_Sect02_part1_ver2.wav   \n",
       "35       Mod05_Sect02_part2.mp4       Mod05_Sect02_part2.wav   \n",
       "36       Mod05_Sect03_part1.mp4       Mod05_Sect03_part1.wav   \n",
       "37       Mod05_Sect03_part2.mp4       Mod05_Sect03_part2.wav   \n",
       "38       Mod05_Sect03_part3.mp4       Mod05_Sect03_part3.wav   \n",
       "39  Mod05_Sect03_part4_ver2.mp4  Mod05_Sect03_part4_ver2.wav   \n",
       "40        Mod05_WrapUp_ver2.mp4        Mod05_WrapUp_ver2.wav   \n",
       "41              Mod06_Intro.mp4              Mod06_Intro.wav   \n",
       "42             Mod06_Sect01.mp4             Mod06_Sect01.wav   \n",
       "43             Mod06_Sect02.mp4             Mod06_Sect02.wav   \n",
       "44             Mod06_WrapUp.mp4             Mod06_WrapUp.wav   \n",
       "45             Mod07_Sect01.mp4             Mod07_Sect01.wav   \n",
       "\n",
       "                                                 text  \\\n",
       "0    Hi, and welcome to Amazon Academy Machine Lea...   \n",
       "1    Hi, and welcome to Module 2 of AWS Academy Ma...   \n",
       "2    Hi, and welcome to Section 1. In this section...   \n",
       "3    Hi and welcome back. In this section, we're g...   \n",
       "4    Hi and welcome back. This is section 3 and we...   \n",
       "5    Welcome back. In this section, we'll look at ...   \n",
       "6    Hi, welcome back. This is section 5 and we're...   \n",
       "7    It's now time to review the module. Here are ...   \n",
       "8    Welcome back to AWS Academy Machine Learning....   \n",
       "9    Hi, and welcome back to module 3. This is sec...   \n",
       "10   Hi, welcome back. We're now going to look at ...   \n",
       "11   Hi, welcome back. We'll continue exploring da...   \n",
       "12   Hi, welcome back. We'll continue exploring da...   \n",
       "13   Hi and welcome back. This is section 3 and we...   \n",
       "14   Hi, welcome back. We'll continue exploring ho...   \n",
       "15   Hi, welcome back. Now we'll review how to fin...   \n",
       "16   Hi, and welcome to section 4. In this section...   \n",
       "17   Hi, welcome back. We'll continue exploring fe...   \n",
       "18   Hi, welcome back. We'll continue exploring fe...   \n",
       "19   Hi, welcome back to module 3. This is section...   \n",
       "20   Hi and welcome back. This is section 6 and we...   \n",
       "21   Hi, welcome back to module 3. In this section...   \n",
       "22   Hi, welcome back. We'll continue exploring ho...   \n",
       "23   Hi, welcome back. We'll continue exploring ho...   \n",
       "24   Hi, and welcome back to module 3. This is sec...   \n",
       "25   It's now time to review the module and wrap u...   \n",
       "26   Hi, and welcome to Module 4 of AWS Academy Ma...   \n",
       "27   Hi, and welcome to Section 1. We'll get start...   \n",
       "28   Hi and welcome back. This is section 2 and we...   \n",
       "29   Hi, welcome back. We'll continue exploring wr...   \n",
       "30   Hi and welcome back. In this section, we'll l...   \n",
       "31   Hi, welcome back. It's now time to review the...   \n",
       "32   Welcome back to AWS Academy Machine Learning....   \n",
       "33   Hi, welcome back. This is section one, and we...   \n",
       "34   Welcome back. In this section, we'll explore ...   \n",
       "35   Hi, welcome back. We'll continue exploring im...   \n",
       "36   In this section, we'll look at preparing cust...   \n",
       "37   Hi, welcome back. We'll continue exploring vi...   \n",
       "38   Hi, welcome back. We'll continue exploring vi...   \n",
       "39   Hi, welcome back. We'll continue exploring vi...   \n",
       "40   It's now time to summarize some of the main p...   \n",
       "41   Introduction to Natural Language Processing H...   \n",
       "42   We'll get started by reviewing what Natural L...   \n",
       "43   Welcome back. In this section, we'll review f...   \n",
       "44   Welcome back. It's now time to review the mod...   \n",
       "45   Welcome to Module 7, Course Wrap-Up. Congratu...   \n",
       "\n",
       "                                      normalized_text  \\\n",
       "0   hi welcome amazon academy machine learning fou...   \n",
       "1   hi welcome module aws academy machine learning...   \n",
       "2   hi welcome section section going talk machine ...   \n",
       "3   hi welcome back section going look type busine...   \n",
       "4   hi welcome back section going give quick high ...   \n",
       "5   welcome back section look tool using throughou...   \n",
       "6   hi welcome back section going discus challenge...   \n",
       "7   time review module main takeaway module first ...   \n",
       "8   welcome back aws academy machine learning modu...   \n",
       "9   hi welcome back module section going take look...   \n",
       "10  hi welcome back going look way collect secure ...   \n",
       "11  hi welcome back continue exploring data collec...   \n",
       "12  hi welcome back continue exploring data collec...   \n",
       "13  hi welcome back section going cover evaluate d...   \n",
       "14  hi welcome back continue exploring describe da...   \n",
       "15  hi welcome back review find correlation datase...   \n",
       "16  hi welcome section section going look feature ...   \n",
       "17  hi welcome back continue exploring feature eng...   \n",
       "18  hi welcome back continue exploring feature eng...   \n",
       "19  hi welcome back module section training sectio...   \n",
       "20  hi welcome back section going look hosting usi...   \n",
       "21  hi welcome back module section look evaluate m...   \n",
       "22  hi welcome back continue exploring evaluate mo...   \n",
       "23  hi welcome back continue exploring evaluate mo...   \n",
       "24  hi welcome back module section section going t...   \n",
       "25  time review module wrap knowledge check module...   \n",
       "26  hi welcome module aws academy machine learning...   \n",
       "27  hi welcome section get started reviewing forec...   \n",
       "28  hi welcome back section going focus processing...   \n",
       "29  hi welcome back continue exploring wrangling t...   \n",
       "30  hi welcome back section look use amazon foreca...   \n",
       "31  hi welcome back time review module wrap module...   \n",
       "32  welcome back aws academy machine learning modu...   \n",
       "33  hi welcome back section one going introduce co...   \n",
       "34  welcome back section explore image analysis de...   \n",
       "35  hi welcome back continue exploring image analy...   \n",
       "36  section look preparing custom datasets compute...   \n",
       "37  hi welcome back continue exploring video analy...   \n",
       "38  hi welcome back continue exploring video analy...   \n",
       "39  hi welcome back continue exploring video analy...   \n",
       "40  time summarize main point module module learne...   \n",
       "41  introduction natural language processing hi we...   \n",
       "42  get started reviewing natural language process...   \n",
       "43  welcome back section review five managed machi...   \n",
       "44  welcome back time review module wrap summary m...   \n",
       "45  welcome module course wrap congratulation comp...   \n",
       "\n",
       "                                          key_phrases  \\\n",
       "0   [amazon academy machine, foundation module, co...   \n",
       "1   [introduce machine, first look business proble...   \n",
       "2   [welcome section section, talk machine learnin...   \n",
       "3   [section, machine learning, digital life email...   \n",
       "4   [section, quick high level overview machine, t...   \n",
       "5   [section look tool, rest course, exhaustive li...   \n",
       "6   [section, discus challenge machine learning, m...   \n",
       "7   [time review module main takeaway module, land...   \n",
       "8   [back aws academy machine learning module, ama...   \n",
       "9   [module section, data set use module, guidance...   \n",
       "10  [look, technique challenge, securing data, mac...   \n",
       "11  [data collection reviewing extract transform l...   \n",
       "12  [data collection, secure data, security data, ...   \n",
       "13  [section, cover evaluate data section, differe...   \n",
       "14  [data data, descriptive statistic data, descri...   \n",
       "15  [review, correlation, linear relationship, sca...   \n",
       "16  [welcome section section, feature engineering ...   \n",
       "17  [feature engineering, clean dataset addition, ...   \n",
       "18  [feature engineering, describing work outlier,...   \n",
       "19  [module section training section, select model...   \n",
       "20  [section, look, model section, trained model, ...   \n",
       "21  [module section, model success, result point t...   \n",
       "22  [evaluate model diagram show confusion matrix,...   \n",
       "23  [evaluate model classification model, target c...   \n",
       "24  [module section section, tune model hyperparam...   \n",
       "25  [review module wrap knowledge check module, fo...   \n",
       "26  [start introduction forecasting look time seri...   \n",
       "27  [welcome section, forecasting use case, import...   \n",
       "28  [section, focus processing time series data di...   \n",
       "29  [wrangling time series data seasonality data k...   \n",
       "30  [use amazon forecast, predictor generate forec...   \n",
       "31  [back time review module wrap module, describe...   \n",
       "32  [back aws academy machine learning module grea...   \n",
       "33  [section, computer vision computer vision, exc...   \n",
       "34  [section, image analysis detail part, look vid...   \n",
       "35  [image analysis, facial detection facial detec...   \n",
       "36  [section, custom datasets computer vision, cus...   \n",
       "37  [video analysis, create training dataset datas...   \n",
       "38  [video analysis, create test, dataset final st...   \n",
       "39  [video analysis, evaluate, improve model, qual...   \n",
       "40  [main point module module, describe use case c...   \n",
       "41  [introduction natural language processing hi w...   \n",
       "42  [natural language processing mean natural lang...   \n",
       "43  [five managed machine learning service, variou...   \n",
       "44  [time review module wrap summary module, descr...   \n",
       "45  [welcome module course wrap congratulation com...   \n",
       "\n",
       "                                               topics  \n",
       "0   [machine learning, first, amazon, lex amazon, ...  \n",
       "1   [first, welcome, module, machine, module, intr...  \n",
       "2   [first, every year, first, welcome, section, s...  \n",
       "3   [anomaly x ray, first, boundary cross, first, ...  \n",
       "4   [november, february year, mali city, age birth...  \n",
       "5   [today, first, linear, tensorflow kera, first,...  \n",
       "6   [today, first, recognition, section, discus, c...  \n",
       "7   [time, review, module, module, machine, fit, l...  \n",
       "8   [machine, module, work, machine, pipeline, mod...  \n",
       "9   [first, first, first, six month, first, second...  \n",
       "10  [healthcare dun, kaggle uci machine learning, ...  \n",
       "11  [first, determine schema, metadata, scala, byt...  \n",
       "12  [simple iam, first, data, collection, data, se...  \n",
       "13  [csv, json panda, first, section, cover, evalu...  \n",
       "14  [first, describe, data, data, format, statisti...  \n",
       "15  [linear, linear, linear, linear, linear, first...  \n",
       "16  [first, second, first, welcome, section, secti...  \n",
       "17  [california, california, first, first, feature...  \n",
       "18  [first, second, first, second, third, chosen c...  \n",
       "19  [csv format amazon, first, first, k fold cross...  \n",
       "20  [first, section, look, model, section, look, m...  \n",
       "21  [first, module, section, model, success, resul...  \n",
       "22  [model, diagram, show, confusion, matrix, mode...  \n",
       "23  [roc, roc, first, linear, k fold, model, class...  \n",
       "24  [first, first, second, third, linear, first, l...  \n",
       "25  [time, review, check, module, formulate, probl...  \n",
       "26  [welcome, module, machine, module, look, start...  \n",
       "27  [first, second, first, time year month day, we...  \n",
       "28  [third, metadata, month day year, year, future...  \n",
       "29  [quarter fourth quarter, fourth quarter, first...  \n",
       "30  [metadata, deepar ets npts profit, first, w qu...  \n",
       "31  [time, review, module, describe, business, pro...  \n",
       "32  [today, machine, module, topic, today, compute...  \n",
       "33  [last year, accuracy pitcher, first, section, ...  \n",
       "34  [recognition, java, node, first, first, second...  \n",
       "35  [recognition, first, recognition, recognition,...  \n",
       "36  [today, month, month, month, section, custom, ...  \n",
       "37  [ko olina island, metadata, video, analysis, c...  \n",
       "38  [video, analysis, create, test, step, train, m...  \n",
       "39  [first, first, first, byte, byte, recognition,...  \n",
       "40  [time, point, module, module, describe, use, c...  \n",
       "41  [introduction, language, module, machine, intr...  \n",
       "42  [google bing, first, first, first, first, seco...  \n",
       "43  [first, first, amazon, first, first, first, fi...  \n",
       "44  [time, review, module, summary, module, use, c...  \n",
       "45  [every three year, june, two year, course, wra...  "
      ]
     },
     "execution_count": 6,
     "metadata": {},
     "output_type": "execute_result"
    }
   ],
   "source": [
    "import spacy\n",
    "\n",
    "# Load spacy's English NLP model\n",
    "nlp = spacy.load(\"en_core_web_sm\")\n",
    "\n",
    "# Extract key phrases\n",
    "def extract_keyphrases(text):\n",
    "    doc = nlp(text)\n",
    "    return [chunk.text for chunk in doc.noun_chunks]\n",
    "\n",
    "df[\"key_phrases\"] = df[\"normalized_text\"].apply(extract_keyphrases)\n",
    "\n",
    "# Extract topics\n",
    "labels = {\"LANGUAGE\", \"ORDINAL\", \"EVENT\", \"PRODUCT\", \"DATE\", \"WORK_OF_ART\", \"FAC\",  \"ORG\", \"PERSON\",  \"GPE\"}\n",
    "\n",
    "def extract_topics(text):\n",
    "    doc = nlp(text)\n",
    "\n",
    "    # Extract entities\n",
    "    topics = [entity.text for entity in doc.ents if entity.label_ in labels]\n",
    "\n",
    "    # Extract all nouns\n",
    "    topics.extend([token.text for token in doc if token.pos_ == \"NOUN\"])\n",
    "    return topics\n",
    "\n",
    "df[\"topics\"] = df[\"normalized_text\"].apply(extract_topics)\n",
    "df\n"
   ]
  },
  {
   "cell_type": "markdown",
   "metadata": {},
   "source": [
    "## 5. Creating the dashboard\n",
    "([Go to top](#Capstone-8:-Bringing-It-All-Together))\n",
    "\n",
    "Use this section to create the dashboard for your solution."
   ]
  },
  {
   "cell_type": "code",
   "execution_count": 7,
   "metadata": {
    "tags": []
   },
   "outputs": [
    {
     "data": {
      "application/vnd.jupyter.widget-view+json": {
       "model_id": "a7ff786907dd4c1d8b4fb00b197afcb8",
       "version_major": 2,
       "version_minor": 0
      },
      "text/plain": [
       "Label(value='Enter a keyword or topic to search videos:')"
      ]
     },
     "metadata": {},
     "output_type": "display_data"
    },
    {
     "data": {
      "application/vnd.jupyter.widget-view+json": {
       "model_id": "62d33b55da734c0b9aa61e54ae25e756",
       "version_major": 2,
       "version_minor": 0
      },
      "text/plain": [
       "Text(value='', description='Search:')"
      ]
     },
     "metadata": {},
     "output_type": "display_data"
    },
    {
     "data": {
      "application/vnd.jupyter.widget-view+json": {
       "model_id": "80f5f9cae46f4877be1ab06912629fd0",
       "version_major": 2,
       "version_minor": 0
      },
      "text/plain": [
       "Output()"
      ]
     },
     "metadata": {},
     "output_type": "display_data"
    }
   ],
   "source": [
    "from ipywidgets import Label, widgets\n",
    "from IPython.display import display, HTML\n",
    "\n",
    "# Create a textbox for the key phrases and topics and label for it\n",
    "textbox = widgets.Text(description='Search:')\n",
    "textbox_label = Label(value='Enter a keyword or topic to search videos:')\n",
    "\n",
    "display(textbox_label, textbox)\n",
    "\n",
    "# Search videos based on keywords and topics\n",
    "def search_video(sender):\n",
    "    # Clear the earlier output\n",
    "    output.clear_output()\n",
    "    term = sender.value.strip()\n",
    "\n",
    "    query = term.lower()\n",
    "    search_result = 0\n",
    "\n",
    "    if query != '':\n",
    "        with output:\n",
    "            for index, row in df.iterrows():\n",
    "                if any(query in phrase for phrase in row['key_phrases']) or any(query in topic for topic in row['topics']):\n",
    "                    search_result += 1\n",
    "                    video_name = row['video']\n",
    "                    video_url = f\"https://{source_bucket}.s3.amazonaws.com/{source_prefix}{video_name}\"\n",
    "                    display(HTML(f\"</br><p><b>{video_name.replace('.mp4','')}</b></p><video width='400' controls><source src='{video_url}' type='video/mp4'></video>\"))\n",
    "            if search_result >0:\n",
    "                print(f\"Found {search_result} video(s) related to '{term}'.\")\n",
    "\n",
    "        if search_result == 0:\n",
    "            with output:\n",
    "                print(f\"No video found related to '{term}'.\")\n",
    "\n",
    "\n",
    "textbox.on_submit(search_video)\n",
    "\n",
    "# Create an output widget to display the search results\n",
    "output = widgets.Output()\n",
    "display(output)\n"
   ]
  }
 ],
 "metadata": {
  "instance_type": "ml.t3.medium",
  "kernelspec": {
   "display_name": "conda_pytorch_p310",
   "language": "python",
   "name": "conda_pytorch_p310"
  },
  "language_info": {
   "codemirror_mode": {
    "name": "ipython",
    "version": 3
   },
   "file_extension": ".py",
   "mimetype": "text/x-python",
   "name": "python",
   "nbconvert_exporter": "python",
   "pygments_lexer": "ipython3",
   "version": "3.10.13"
  },
  "toc": {
   "base_numbering": 1,
   "nav_menu": {},
   "number_sections": true,
   "sideBar": true,
   "skip_h1_title": false,
   "title_cell": "Table of Contents",
   "title_sidebar": "Contents",
   "toc_cell": false,
   "toc_position": {},
   "toc_section_display": true,
   "toc_window_display": false
  },
  "vscode": {
   "interpreter": {
    "hash": "b71a13339a0be9489ff337af97259fe0ed71e682663adc836bae31ac651d564e"
   }
  }
 },
 "nbformat": 4,
 "nbformat_minor": 4
}
